{
 "cells": [
  {
   "cell_type": "markdown",
   "metadata": {},
   "source": [
    "# Text Analysis with NLTK\n",
    "\n",
    "The [Natural Language Toolkit](http://www.nltk.org/) (NLTK) and is a fully featured library for doing everything from basic text analysis to sophisticated computational linguistics.\n",
    "\n",
    "NLTK(Natural Language Toolkit)는 기본적인 텍스트 어널리틱스부터 수준높은 컴퓨터 언어학까지 모든 영역을 커버할 수 있는 완전한 기능을 기능을 갖춘 라이브러리다.\n",
    "\n",
    "We're just scratch the surface here:\n",
    "우리는 여기서 간단히 알아보자.\n",
    "- Parsing (구문분석)\n",
    "- Tokenization (토큰화)\n",
    "- Stopword removal (스탑워드 제거)\n",
    "- Frequency counting (반복되는 것 카운팅)\n",
    "- Stemming (형태소)\n",
    "- Basic sentiment analysis (기본감정분석)\n",
    "\n",
    "For more detail and to go deeper in learning about Natural Language Processing a good resources is: [Natural Langauge Processing with Python](http://www.nltk.org/book/). There are also APIs out there that allow you to do quite sophisticated text analysis, for example [AlchemyAPI](http://www.alchemyapi.com/). \n",
    "\n",
    "좀 더 상세한 내용을과 자연언어처리에 대한 배움을 더 깊게 하고 싶으면 여기에 좋은 자료들이 많이 있다.\n",
    "또한, API 가 사용가능하고, 너가 좀더 수준높은 텍스트 분석을 할 수 있도록 API예제들도 있다.\n"
   ]
  },
  {
   "cell_type": "code",
   "execution_count": 1,
   "metadata": {
    "collapsed": false
   },
   "outputs": [],
   "source": [
    "# We're going to use the Natural Language Toolkit here (NLTK) - http://www.nltk.org/\n",
    "import nltk"
   ]
  },
  {
   "cell_type": "markdown",
   "metadata": {},
   "source": [
    "Let's first look at some basic text operations using the 2016 State of the Union (SOTU) address. Here's the [sotu_2016.txt](https://www.dropbox.com/s/nume1fwb2g3frpf/sotu_2016.txt?dl=0) file.\n",
    "자 먼저, 몇가지 기본적인 텍스트 작동을 보자. 여기서는 2016년 유니온 주의 주소를 사용한다. 파일은 \"[sotu_2016.txt]\"이다."
   ]
  },
  {
   "cell_type": "code",
   "execution_count": 2,
   "metadata": {
    "collapsed": false
   },
   "outputs": [
    {
     "name": "stdout",
     "output_type": "stream",
     "text": [
      "Mr. Speaker, Mr. Vice President, Members of Congress, my fellow Americans:\n",
      "\n",
      "Tonight marks the eighth year that I’ve come here to report on the State of the Union. And for this final one, I’m going to try to make it a little shorter. (Applause.) I know some of you are antsy to get back to Iowa. (Laughter.) I've been there. I'll be shaking hands afterwards if you want some tips. (Laughter.)\n",
      "\n",
      "And I understand that because it’s an election season, expectations for what we will achieve this year are low. But, Mr. Speaker, I appreciate the constructive approach that you and the other leaders took at the end of last year to pass a budget and make tax cuts permanent for working families. So I hope we can work together this year on some bipartisan priorities like criminal justice reform -- (applause) -- and helping people who are battling prescription drug abuse and heroin abuse. (Applause.) So, who knows, we might surprise the cynics again.\n",
      "\n",
      "But tonight, I want to go easy on the traditional list of proposals for the year ahead. Don’t worry, I’ve got plenty, from helping students learn to write computer code to personalizing medical treatments for patients. And I will keep pushing for progress on the work that I believe still needs to be done. Fixing a broken immigration system. (Applause.) Protecting our kids from gun violence. (Applause.) Equal pay for equal work. (Applause.) Paid leave. (Applause.) Raising the minimum wage. (Applause.) All these things still matter to hardworking families. They’re still the right thing to do. And I won't let up until they get done.\n",
      "\n",
      "But for my final address to this chamber, I don’t want to just talk about next year. I want to focus on the next five years, the next 10 years, and beyond. I want to focus on our future.\n",
      "\n",
      "We live in a time of extraordinary change -- change that’s reshaping the way we live, the way we work, our planet, our place in the world. It’s change that promises amazing medical breakthroughs, but also economic disruptions that strain working families. It promises education for girls in the most remote villages, but also connects terrorists plotting an ocean away. It’s change that can broaden opportunity, or widen inequality. And whether we like it or not, the pace of this change will only accelerate.\n",
      "\n",
      " America has been through big changes before -- wars and depression, the influx of new immigrants, workers fighting for a fair deal, movements to expand civil rights. Each time, there have been those who told us to fear the future; who claimed we could slam the brakes on change; who promised to restore past glory if we just got some group or idea that was threatening America under control. And each time, we overcame those fears. We did not, in the words of Lincoln, adhere to the “dogmas of the quiet past.” Instead we thought anew, and acted anew. We made change work for us, always extending America’s promise outward, to the next frontier, to more people. And because we did -- because we saw opportunity where others saw only peril -- we emerged stronger and better than before.\n",
      "\n",
      "What was true then can be true now. Our unique strengths as a nation -- our optimism and work ethic, our spirit of discovery, our diversity, our commitment to rule of law -- these things give us everything we need to ensure prosperity and security for generations to come.\n",
      "\n",
      "In fact, it’s that spirit that made the progress of these past seven years possible.  It’s how we recovered from the worst economic crisis in generations.  It’s how we reformed our health care system, and reinvented our energy sector; how we delivered more care and benefits to our troops and veterans, and how we secured the freedom in every state to marry the person we love.\n",
      "\n",
      "But such progress is not inevitable. It’s the result of choices we make together. And we face such choices right now. Will we respond to the changes of our time with fear, turning inward as a nation, turning against each other as a people? Or will we face the future with confidence in who we are, in what we stand for, in the incredible things that we can do together?\n",
      "\n",
      "So let’s talk about the future, and four big questions that I believe we as a country have to answer -- regardless of who the next President is, or who controls the next Congress.\n",
      "\n",
      "First, how do we give everyone a fair shot at opportunity and security in this new economy? (Applause.)\n",
      "\n",
      "Second, how do we make technology work for us, and not against us -- especially when it comes to solving urgent challenges like climate change? (Applause.)\n",
      "\n",
      "Third, how do we keep America safe and lead the world without becoming its policeman? (Applause.)\n",
      "\n",
      "And finally, how can we make our politics reflect what’s best in us, and not what’s worst?\n",
      "\n",
      "Let me start with the economy, and a basic fact: The United States of America, right now, has the strongest, most durable economy in the world. (Applause.) We’re in the middle of the longest streak of private sector job creation in history. (Applause.) More than 14 million new jobs, the strongest two years of job growth since the ‘90s, an unemployment rate cut in half. Our auto industry just had its best year ever. (Applause.) That's just part of a manufacturing surge that's created nearly 900,000 new jobs in the past six years. And we’ve done all this while cutting our deficits by almost three-quarters. (Applause.)\n",
      "\n",
      "Anyone claiming that America’s economy is in decline is peddling fiction. (Applause.) Now, what is true -- and the reason that a lot of Americans feel anxious -- is that the economy has been changing in profound ways, changes that started long before the Great Recession hit; changes that have not let up.\n",
      "\n",
      "Today, technology doesn’t just replace jobs on the assembly line, but any job where work can be automated. Companies in a global economy can locate anywhere, and they face tougher competition. As a result, workers have less leverage for a raise. Companies have less loyalty to their communities. And more and more wealth and income is concentrated at the very top.\n",
      "\n",
      "All these trends have squeezed workers, even when they have jobs; even when the economy is growing. It’s made it harder for a hardworking family to pull itself out of poverty, harder for young people to start their careers, tougher for workers to retire when they want to. And although none of these trends are unique to America, they do offend our uniquely American belief that everybody who works hard should get a fair shot.\n",
      "\n",
      "For the past seven years, our goal has been a growing economy that works also better for everybody. We’ve made progress. But we need to make more. And despite all the political arguments that we’ve had these past few years, there are actually some areas where Americans broadly agree.\n",
      "\n",
      "We agree that real opportunity requires every American to get the education and training they need to land a good-paying job. The bipartisan reform of No Child Left Behind was an important start, and together, we’ve increased early childhood education, lifted high school graduation rates to new highs, boosted graduates in fields like engineering. In the coming years, we should build on that progress, by providing Pre-K for all and -- (applause) -- offering every student the hands-on computer science and math classes that make them job-ready on day one. We should recruit and support more great teachers for our kids. (Applause.)\n",
      "\n",
      "And we have to make college affordable for every American. (Applause.) No hardworking student should be stuck in the red. We’ve already reduced student loan payments to 10 percent of a borrower’s income. And that's good. But now, we’ve actually got to cut the cost of college. (Applause.) Providing two years of community college at no cost for every responsible student is one of the best ways to do that, and I’m going to keep fighting to get that started this year. (Applause.) It's the right thing to do. (Applause.)\n",
      "\n",
      "But a great education isn’t all we need in this new economy. We also need benefits and protections that provide a basic measure of security. It’s not too much of a stretch to say that some of the only people in America who are going to work the same job, in the same place, with a health and retirement package for 30 years are sitting in this chamber. (Laughter.) For everyone else, especially folks in their 40s and 50s, saving for retirement or bouncing back from job loss has gotten a lot tougher. Americans understand that at some point in their careers, in this new economy, they may have to retool and they may have to retrain. But they shouldn’t lose what they’ve already worked so hard to build in the process.\n",
      "\n",
      "That’s why Social Security and Medicare are more important than ever. We shouldn’t weaken them; we should strengthen them. (Applause.) And for Americans short of retirement, basic benefits should be just as mobile as everything else is today. That, by the way, is what the Affordable Care Act is all about. It’s about filling the gaps in employer-based care so that when you lose a job, or you go back to school, or you strike out and launch that new business, you’ll still have coverage. Nearly 18 million people have gained coverage so far. (Applause.) And in the process, health care inflation has slowed. And our businesses have created jobs every single month since it became law.\n",
      "\n",
      "Now, I’m guessing we won’t agree on health care anytime soon. (Applause.) A little applause right there. (Laughter.) Just a guess. But there should be other ways parties can work together to improve economic security. Say a hardworking American loses his job -- we shouldn’t just make sure that he can get unemployment insurance; we should make sure that program encourages him to retrain for a business that’s ready to hire him. If that new job doesn’t pay as much, there should be a system of wage insurance in place so that he can still pay his bills. And even if he’s going from job to job, he should still be able to save for retirement and take his savings with him. That’s the way we make the new economy work better for everybody.\n",
      "\n",
      "I also know Speaker Ryan has talked about his interest in tackling poverty. America is about giving everybody willing to work a chance, a hand up. And I’d welcome a serious discussion about strategies we can all support, like expanding tax cuts for low-income workers who don't have children. (Applause.)\n",
      "\n",
      "But there are some areas where we just have to be honest -- it has been difficult to find agreement over the last seven years. And a lot of them fall under the category of what role the government should play in making sure the system’s not rigged in favor of the wealthiest and biggest corporations. (Applause.) And it's an honest disagreement, and the American people have a choice to make.\n",
      "\n",
      "I believe a thriving private sector is the lifeblood of our economy. I think there are outdated regulations that need to be changed. There is red tape that needs to be cut. (Applause.) There you go! Yes! (Applause.) But after years now of record corporate profits, working families won’t get more opportunity or bigger paychecks just by letting big banks or big oil or hedge funds make their own rules at everybody else’s expense. (Applause.) Middle-class families are not going to feel more secure because we allowed attacks on collective bargaining to go unanswered. Food Stamp recipients did not cause the financial crisis; recklessness on Wall Street did. (Applause.) Immigrants aren’t the principal reason wages haven’t gone up; those decisions are made in the boardrooms that all too often put quarterly earnings over long-term returns. It’s sure not the average family watching tonight that avoids paying taxes through offshore accounts. (Applause.)\n",
      "\n",
      "The point is, I believe that in this new economy, workers and start-ups and small businesses need more of a voice, not less. The rules should work for them. (Applause.) And I'm not alone in this. This year I plan to lift up the many businesses who’ve figured out that doing right by their workers or their customers or their communities ends up being good for their shareholders. (Applause.) And I want to spread those best practices across America. That's part of a brighter future. (Applause.)\n",
      "\n",
      "In fact, it turns out many of our best corporate citizens are also our most creative. And this brings me to the second big question we as a country have to answer: How do we reignite that spirit of innovation to meet our biggest challenges?\n",
      "\n",
      "Sixty years ago, when the Russians beat us into space, we didn’t deny Sputnik was up there. (Laughter.) We didn’t argue about the science, or shrink our research and development budget. We built a space program almost overnight. And 12 years later, we were walking on the moon. (Applause.)\n",
      "\n",
      "Now, that spirit of discovery is in our DNA. America is Thomas Edison and the Wright Brothers and George Washington Carver. America is Grace Hopper and Katherine Johnson and Sally Ride. America is every immigrant and entrepreneur from Boston to Austin to Silicon Valley, racing to shape a better world. (Applause.) That's who we are.\n",
      "\n",
      "And over the past seven years, we’ve nurtured that spirit. We’ve protected an open Internet, and taken bold new steps to get more students and low-income Americans online. (Applause.) We’ve launched next-generation manufacturing hubs, and online tools that give an entrepreneur everything he or she needs to start a business in a single day. But we can do so much more.\n",
      "\n",
      "Last year, Vice President Biden said that with a new moonshot, America can cure cancer. Last month, he worked with this Congress to give scientists at the National Institutes of Health the strongest resources that they’ve had in over a decade. (Applause.) So tonight, I’m announcing a new national effort to get it done. And because he’s gone to the mat for all of us on so many issues over the past 40 years, I’m putting Joe in charge of Mission Control. (Applause.) For the loved ones we’ve all lost, for the families that we can still save, let’s make America the country that cures cancer once and for all. (Applause.)\n",
      "\n",
      "Medical research is critical. We need the same level of commitment when it comes to developing clean energy sources. (Applause.) Look, if anybody still wants to dispute the science around climate change, have at it. You will be pretty lonely, because you’ll be debating our military, most of America’s business leaders, the majority of the American people, almost the entire scientific community, and 200 nations around the world who agree it’s a problem and intend to solve it. (Applause.)\n",
      "\n",
      "But even if -- even if the planet wasn’t at stake, even if 2014 wasn’t the warmest year on record -- until 2015 turned out to be even hotter -- why would we want to pass up the chance for American businesses to produce and sell the energy of the future? (Applause.)\n",
      "\n",
      "Listen, seven years ago, we made the single biggest investment in clean energy in our history. Here are the results. In fields from Iowa to Texas, wind power is now cheaper than dirtier, conventional power. On rooftops from Arizona to New York, solar is saving Americans tens of millions of dollars a year on their energy bills, and employs more Americans than coal -- in jobs that pay better than average. We’re taking steps to give homeowners the freedom to generate and store their own energy -- something, by the way, that environmentalists and Tea Partiers have teamed up to support. And meanwhile, we’ve cut our imports of foreign oil by nearly 60 percent, and cut carbon pollution more than any other country on Earth. (Applause.)\n",
      "\n",
      "Gas under two bucks a gallon ain’t bad, either. (Applause.)\n",
      "\n",
      "Now we’ve got to accelerate the transition away from old, dirtier energy sources. Rather than subsidize the past, we should invest in the future -- especially in communities that rely on fossil fuels. We do them no favor when we don't show them where the trends are going. That’s why I’m going to push to change the way we manage our oil and coal resources, so that they better reflect the costs they impose on taxpayers and our planet. And that way, we put money back into those communities, and put tens of thousands of Americans to work building a 21st century transportation system. (Applause.)\n",
      "\n",
      "Now, none of this is going to happen overnight. And, yes, there are plenty of entrenched interests who want to protect the status quo. But the jobs we’ll create, the money we’ll save, the planet we’ll preserve -- that is the kind of future our kids and our grandkids deserve. And it's within our grasp.\n",
      "\n",
      "Climate change is just one of many issues where our security is linked to the rest of the world. And that’s why the third big question that we have to answer together is how to keep America safe and strong without either isolating ourselves or trying to nation-build everywhere there’s a problem.\n",
      "\n",
      "I told you earlier all the talk of America’s economic decline is political hot air. Well, so is all the rhetoric you hear about our enemies getting stronger and America getting weaker. Let me tell you something. The United States of America is the most powerful nation on Earth. Period. (Applause.) Period. It’s not even close. It's not even close. (Applause.) It's not even close. We spend more on our military than the next eight nations combined. Our troops are the finest fighting force in the history of the world. (Applause.) No nation attacks us directly, or our allies, because they know that’s the path to ruin. Surveys show our standing around the world is higher than when I was elected to this office, and when it comes to every important international issue, people of the world do not look to Beijing or Moscow to lead -- they call us. (Applause.)\n",
      "\n",
      "I mean, it's useful to level the set here, because when we don't, we don't make good decisions.\n",
      "\n",
      "Now, as someone who begins every day with an intelligence briefing, I know this is a dangerous time. But that’s not primarily because of some looming superpower out there, and certainly not because of diminished American strength. In today’s world, we’re threatened less by evil empires and more by failing states.\n",
      "\n",
      "The Middle East is going through a transformation that will play out for a generation, rooted in conflicts that date back millennia. Economic headwinds are blowing in from a Chinese economy that is in significant transition. Even as their economy severely contracts, Russia is pouring resources in to prop up Ukraine and Syria -- client states that they saw slipping away from their orbit. And the international system we built after World War II is now struggling to keep pace with this new reality.\n",
      "\n",
      "It’s up to us, the United States of America, to help remake that system. And to do that well it means that we’ve got to set priorities.\n",
      "\n",
      "Priority number one is protecting the American people and going after terrorist networks. (Applause.) Both al Qaeda and now ISIL pose a direct threat to our people, because in today’s world, even a handful of terrorists who place no value on human life, including their own, can do a lot of damage. They use the Internet to poison the minds of individuals inside our country. Their actions undermine and destabilize our allies. We have to take them out./p>\n",
      "\n",
      "But as we focus on destroying ISIL, over-the-top claims that this is World War III just play into their hands. Masses of fighters on the back of pickup trucks, twisted souls plotting in apartments or garages -- they pose an enormous danger to civilians; they have to be stopped. But they do not threaten our national existence. (Applause.) That is the story ISIL wants to tell. That’s the kind of propaganda they use to recruit. We don’t need to build them up to show that we’re serious, and we sure don't need to push away vital allies in this fight by echoing the lie that ISIL is somehow representative of one of the world’s largest religions. (Applause.) We just need to call them what they are -- killers and fanatics who have to be rooted out, hunted down, and destroyed. (Applause.)\n",
      "\n",
      "And that’s exactly what we’re doing. For more than a year, America has led a coalition of more than 60 countries to cut off ISIL’s financing, disrupt their plots, stop the flow of terrorist fighters, and stamp out their vicious ideology. With nearly 10,000 air strikes, we’re taking out their leadership, their oil, their training camps, their weapons. We’re training, arming, and supporting forces who are steadily reclaiming territory in Iraq and Syria.\n",
      "\n",
      "If this Congress is serious about winning this war, and wants to send a message to our troops and the world, authorize the use of military force against ISIL. Take a vote. (Applause.) Take a vote. But the American people should know that with or without congressional action, ISIL will learn the same lessons as terrorists before them. If you doubt America’s commitment -- or mine -- to see that justice is done, just ask Osama bin Laden. (Applause.) Ask the leader of al Qaeda in Yemen, who was taken out last year, or the perpetrator of the Benghazi attacks, who sits in a prison cell. When you come after Americans, we go after you. (Applause.) And it may take time, but we have long memories, and our reach has no limits. (Applause.)\n",
      "\n",
      "Our foreign policy hast to be focused on the threat from ISIL and al Qaeda, but it can’t stop there. For even without ISIL, even without al Qaeda, instability will continue for decades in many parts of the world -- in the Middle East, in Afghanistan, parts of Pakistan, in parts of Central America, in Africa, and Asia. Some of these places may become safe havens for new terrorist networks. Others will just fall victim to ethnic conflict, or famine, feeding the next wave of refugees. The world will look to us to help solve these problems, and our answer needs to be more than tough talk or calls to carpet-bomb civilians. That may work as a TV sound bite, but it doesn’t pass muster on the world stage.\n",
      "\n",
      "We also can’t try to take over and rebuild every country that falls into crisis, even if it's done with the best of intentions. (Applause.) That’s not leadership; that’s a recipe for quagmire, spilling American blood and treasure that ultimately will weaken us. It’s the lesson of Vietnam; it's the lesson of Iraq -- and we should have learned it by now. (Applause.)\n",
      "\n",
      "Fortunately, there is a smarter approach, a patient and disciplined strategy that uses every element of our national power. It says America will always act, alone if necessary, to protect our people and our allies; but on issues of global concern, we will mobilize the world to work with us, and make sure other countries pull their own weight.\n",
      "\n",
      "That’s our approach to conflicts like Syria, where we’re partnering with local forces and leading international efforts to help that broken society pursue a lasting peace.\n",
      "\n",
      "That’s why we built a global coalition, with sanctions and principled diplomacy, to prevent a nuclear-armed Iran. And as we speak, Iran has rolled back its nuclear program, shipped out its uranium stockpile, and the world has avoided another war. (Applause.)\n",
      "\n",
      "That’s how we stopped the spread of Ebola in West Africa. (Applause.) Our military, our doctors, our development workers -- they were heroic; they set up the platform that then allowed other countries to join in behind us and stamp out that epidemic. Hundreds of thousands, maybe a couple million lives were saved.\n",
      "\n",
      "That’s how we forged a Trans-Pacific Partnership to open markets, and protect workers and the environment, and advance American leadership in Asia. It cuts 18,000 taxes on products made in America, which will then support more good jobs here in America. With TPP, China does not set the rules in that region; we do. You want to show our strength in this new century? Approve this agreement. Give us the tools to enforce it. It's the right thing to do. (Applause.)\n",
      "\n",
      "Let me give you another example. Fifty years of isolating Cuba had failed to promote democracy, and set us back in Latin America. That’s why we restored diplomatic relations -- (applause) -- opened the door to travel and commerce, positioned ourselves to improve the lives of the Cuban people. (Applause.) So if you want to consolidate our leadership and credibility in the hemisphere, recognize that the Cold War is over -- lift the embargo. (Applause.)\n",
      "\n",
      "The point is American leadership in the 21st century is not a choice between ignoring the rest of the world -- except when we kill terrorists -- or occupying and rebuilding whatever society is unraveling. Leadership means a wise application of military power, and rallying the world behind causes that are right. It means seeing our foreign assistance as a part of our national security, not something separate, not charity.\n",
      "\n",
      "When we lead nearly 200 nations to the most ambitious agreement in history to fight climate change, yes, that helps vulnerable countries, but it also protects our kids. When we help Ukraine defend its democracy, or Colombia resolve a decades-long war, that strengthens the international order we depend on. When we help African countries feed their people and care for the sick -- (applause) -- it's the right thing to do, and it prevents the next pandemic from reaching our shores. Right now, we’re on track to end the scourge of HIV/AIDS. That's within our grasp. (Applause.) And we have the chance to accomplish the same thing with malaria -- something I’ll be pushing this Congress to fund this year. (Applause.)\n",
      "\n",
      "That's American strength. That's American leadership. And that kind of leadership depends on the power of our example. That’s why I will keep working to shut down the prison at Guantanamo. (Applause.) It is expensive, it is unnecessary, and it only serves as a recruitment brochure for our enemies. (Applause.) There’s a better way. (Applause.)\n",
      "\n",
      "And that’s why we need to reject any politics -- any politics -- that targets people because of race or religion. (Applause.) Let me just say this. This is not a matter of political correctness. This is a matter of understanding just what it is that makes us strong. The world respects us not just for our arsenal; it respects us for our diversity, and our openness, and the way we respect every faith.\n",
      "\n",
      "His Holiness, Pope Francis, told this body from the very spot that I'm standing on tonight that “to imitate the hatred and violence of tyrants and murderers is the best way to take their place.” When politicians insult Muslims, whether abroad or our fellow citizens, when a mosque is vandalized, or a kid is called names, that doesn’t make us safer. That’s not telling it like it is. It’s just wrong. (Applause.) It diminishes us in the eyes of the world. It makes it harder to achieve our goals. It betrays who we are as a country. (Applause.)\n",
      "\n",
      "“We the People.” Our Constitution begins with those three simple words, words we’ve come to recognize mean all the people, not just some; words that insist we rise and fall together, and that's how we might perfect our Union. And that brings me to the fourth, and maybe the most important thing that I want to say tonight.\n",
      "\n",
      "The future we want -- all of us want -- opportunity and security for our families, a rising standard of living, a sustainable, peaceful planet for our kids -- all that is within our reach. But it will only happen if we work together. It will only happen if we can have rational, constructive debates. It will only happen if we fix our politics.\n",
      "\n",
      "A better politics doesn’t mean we have to agree on everything. This is a big country -- different regions, different attitudes, different interests. That’s one of our strengths, too. Our Founders distributed power between states and branches of government, and expected us to argue, just as they did, fiercely, over the size and shape of government, over commerce and foreign relations, over the meaning of liberty and the imperatives of security.\n",
      "\n",
      "But democracy does require basic bonds of trust between its citizens. It doesn’t work if we think the people who disagree with us are all motivated by malice. It doesn’t work if we think that our political opponents are unpatriotic or trying to weaken America. Democracy grinds to a halt without a willingness to compromise, or when even basic facts are contested, or when we listen only to those who agree with us. Our public life withers when only the most extreme voices get all the attention. And most of all, democracy breaks down when the average person feels their voice doesn’t matter; that the system is rigged in favor of the rich or the powerful or some special interest.\n",
      "\n",
      "Too many Americans feel that way right now. It’s one of the few regrets of my presidency -- that the rancor and suspicion between the parties has gotten worse instead of better. I have no doubt a president with the gifts of Lincoln or Roosevelt might have better bridged the divide, and I guarantee I’ll keep trying to be better so long as I hold this office.\n",
      "\n",
      "But, my fellow Americans, this cannot be my task -- or any President’s -- alone. There are a whole lot of folks in this chamber, good people who would like to see more cooperation, would like to see a more elevated debate in Washington, but feel trapped by the imperatives of getting elected, by the noise coming out of your base. I know; you’ve told me. It's the worst-kept secret in Washington. And a lot of you aren't enjoying being trapped in that kind of rancor.\n",
      "\n",
      "But that means if we want a better politics -- and I'm addressing the American people now -- if we want a better politics, it’s not enough just to change a congressman or change a senator or even change a President. We have to change the system to reflect our better selves. I think we've got to end the practice of drawing our congressional districts so that politicians can pick their voters, and not the other way around. (Applause.) Let a bipartisan group do it. (Applause.)\n",
      "\n",
      "We have to reduce the influence of money in our politics, so that a handful of families or hidden interests can’t bankroll our elections. (Applause.) And if our existing approach to campaign finance reform can’t pass muster in the courts, we need to work together to find a real solution -- because it's a problem. And most of you don't like raising money. I know; I've done it. (Applause.) We’ve got to make it easier to vote, not harder. (Applause.) We need to modernize it for the way we live now. (Applause.) This is America: We want to make it easier for people to participate. And over the course of this year, I intend to travel the country to push for reforms that do just that.\n",
      "\n",
      "But I can’t do these things on my own. (Applause.) Changes in our political process -- in not just who gets elected, but how they get elected -- that will only happen when the American people demand it. It depends on you. That’s what’s meant by a government of, by, and for the people.\n",
      "\n",
      "What I’m suggesting is hard. It’s a lot easier to be cynical; to accept that change is not possible, and politics is hopeless, and the problem is all the folks who are elected don't care, and to believe that our voices and actions don’t matter. But if we give up now, then we forsake a better future. Those with money and power will gain greater control over the decisions that could send a young soldier to war, or allow another economic disaster, or roll back the equal rights and voting rights that generations of Americans have fought, even died, to secure. And then, as frustration grows, there will be voices urging us to fall back into our respective tribes, to scapegoat fellow citizens who don’t look like us, or pray like us, or vote like we do, or share the same background.\n",
      "\n",
      "We can’t afford to go down that path. It won’t deliver the economy we want. It will not produce the security we want. But most of all, it contradicts everything that makes us the envy of the world.\n",
      "\n",
      "So, my fellow Americans, whatever you may believe, whether you prefer one party or no party, whether you supported my agenda or fought as hard as you could against it -- our collective futures depends on your willingness to uphold your duties as a citizen. To vote. To speak out. To stand up for others, especially the weak, especially the vulnerable, knowing that each of us is only here because somebody, somewhere, stood up for us. (Applause.) We need every American to stay active in our public life -- and not just during election time -- so that our public life reflects the goodness and the decency that I see in the American people every single day.\n",
      "\n",
      "It is not easy. Our brand of democracy is hard. But I can promise that a little over a year from now, when I no longer hold this office, I will be right there with you as a citizen, inspired by those voices of fairness and vision, of grit and good humor and kindness that helped America travel so far. Voices that help us see ourselves not, first and foremost, as black or white, or Asian or Latino, not as gay or straight, immigrant or native born, not as Democrat or Republican, but as Americans first, bound by a common creed. Voices Dr. King believed would have the final word -- voices of unarmed truth and unconditional love.\n",
      "\n",
      "And they’re out there, those voices. They don’t get a lot of attention; they don't seek a lot of fanfare; but they’re busy doing the work this country needs doing. I see them everywhere I travel in this incredible country of ours. I see you, the American people. And in your daily acts of citizenship, I see our future unfolding.\n",
      "\n",
      "I see it in the worker on the assembly line who clocked extra shifts to keep his company open, and the boss who pays him higher wages instead of laying him off.\n",
      "\n",
      "I see it in the Dreamer who stays up late at night to finish her science project, and the teacher who comes in early, and maybe with some extra supplies that she bought because she knows that that young girl might someday cure a disease.\n",
      "\n",
      "I see it in the Dreamer who stays up late to finish her science project, and the teacher who comes in early because he knows she might someday cure a disease.\n",
      "\n",
      "I see it in the American who served his time, and bad mistakes as a child but now is dreaming of starting over -- and I see it in the business owner who gives him that second chance. The protester determined to prove that justice matters -- and the young cop walking the beat, treating everybody with respect, doing the brave, quiet work of keeping us safe. (Applause.)\n",
      "\n",
      "I see it in the soldier who gives almost everything to save his brothers, the nurse who tends to him till he can run a marathon, the community that lines up to cheer him on.\n",
      "\n",
      "It’s the son who finds the courage to come out as who he is, and the father whose love for that son overrides everything he’s been taught. (Applause.)\n",
      "\n",
      "I see it in the elderly woman who will wait in line to cast her vote as long as she has to; the new citizen who casts his vote for the first time; the volunteers at the polls who believe every vote should count -- because each of them in different ways know how much that precious right is worth.\n",
      "\n",
      "That's the America I know. That’s the country we love. Clear-eyed. Big-hearted. Undaunted by challenge. Optimistic that unarmed truth and unconditional love will have the final word. (Applause.) That’s what makes me so hopeful about our future. I believe in change because I believe in you, the American people.\n",
      "\n",
      "And that’s why I stand here confident as I have ever been that the State of our Union is strong. (Applause.)\n",
      "\n",
      "Thank you, God bless you. God bless the United States of America.\n"
     ]
    }
   ],
   "source": [
    "# Load in transcript file\n",
    "file = open('sotu_2016.txt', 'r')\n",
    "transcript = unicode(file.read().decode(\"utf8\"))\n",
    "\n",
    "# Print it out\n",
    "print transcript"
   ]
  },
  {
   "cell_type": "markdown",
   "metadata": {},
   "source": [
    "Converting to lowercase text is very easy with the `.lower()` function. \n",
    "소문자 텍스트로 '.lower()'함수를 사용해서 매우 쉽게 변경할 수 있다.\n",
    "\n",
    "Sometimes is makes sense to convert everything because then capitals at the beginning of sentences or in names aren't treated differently. Other functions in the same vein include `.upper()` (converts to upper case) and `.title()` (converts to title case).\n",
    "\n",
    "때로는 모든것을 변화시킬 수 있다. 왜냐하면, 문장의 시작부 또는 네임에 있는 대문자도 다르지 않게 처리한다. \n",
    "같은 맥락에서 다른 함수는 `.upper()`(대문자로 변환), `.title()`(타이틀 케이스로 변환)가 있다.\n"
   ]
  },
  {
   "cell_type": "code",
   "execution_count": 3,
   "metadata": {
    "collapsed": false
   },
   "outputs": [
    {
     "name": "stdout",
     "output_type": "stream",
     "text": [
      "mr. speaker, mr. vice president, members of congress, my fellow americans:\n",
      "\n",
      "tonight marks the eighth year that i’ve come here to report on the state of the union. and for this final one, i’m going to try to make it a little shorter. (applause.) i know some of you are antsy to get back to iowa. (laughter.) i've been there. i'll be shaking hands afterwards if you want some tips. (laughter.)\n",
      "\n",
      "and i understand that because it’s an election season, expectations for what we will achieve this year are low. but, mr. speaker, i appreciate the constructive approach that you and the other leaders took at the end of last year to pass a budget and make tax cuts permanent for working families. so i hope we can work together this year on some bipartisan priorities like criminal justice reform -- (applause) -- and helping people who are battling prescription drug abuse and heroin abuse. (applause.) so, who knows, we might surprise the cynics again.\n",
      "\n",
      "but tonight, i want to go easy on the traditional list of proposals for the year ahead. don’t worry, i’ve got plenty, from helping students learn to write computer code to personalizing medical treatments for patients. and i will keep pushing for progress on the work that i believe still needs to be done. fixing a broken immigration system. (applause.) protecting our kids from gun violence. (applause.) equal pay for equal work. (applause.) paid leave. (applause.) raising the minimum wage. (applause.) all these things still matter to hardworking families. they’re still the right thing to do. and i won't let up until they get done.\n",
      "\n",
      "but for my final address to this chamber, i don’t want to just talk about next year. i want to focus on the next five years, the next 10 years, and beyond. i want to focus on our future.\n",
      "\n",
      "we live in a time of extraordinary change -- change that’s reshaping the way we live, the way we work, our planet, our place in the world. it’s change that promises amazing medical breakthroughs, but also economic disruptions that strain working families. it promises education for girls in the most remote villages, but also connects terrorists plotting an ocean away. it’s change that can broaden opportunity, or widen inequality. and whether we like it or not, the pace of this change will only accelerate.\n",
      "\n",
      " america has been through big changes before -- wars and depression, the influx of new immigrants, workers fighting for a fair deal, movements to expand civil rights. each time, there have been those who told us to fear the future; who claimed we could slam the brakes on change; who promised to restore past glory if we just got some group or idea that was threatening america under control. and each time, we overcame those fears. we did not, in the words of lincoln, adhere to the “dogmas of the quiet past.” instead we thought anew, and acted anew. we made change work for us, always extending america’s promise outward, to the next frontier, to more people. and because we did -- because we saw opportunity where others saw only peril -- we emerged stronger and better than before.\n",
      "\n",
      "what was true then can be true now. our unique strengths as a nation -- our optimism and work ethic, our spirit of discovery, our diversity, our commitment to rule of law -- these things give us everything we need to ensure prosperity and security for generations to come.\n",
      "\n",
      "in fact, it’s that spirit that made the progress of these past seven years possible.  it’s how we recovered from the worst economic crisis in generations.  it’s how we reformed our health care system, and reinvented our energy sector; how we delivered more care and benefits to our troops and veterans, and how we secured the freedom in every state to marry the person we love.\n",
      "\n",
      "but such progress is not inevitable. it’s the result of choices we make together. and we face such choices right now. will we respond to the changes of our time with fear, turning inward as a nation, turning against each other as a people? or will we face the future with confidence in who we are, in what we stand for, in the incredible things that we can do together?\n",
      "\n",
      "so let’s talk about the future, and four big questions that i believe we as a country have to answer -- regardless of who the next president is, or who controls the next congress.\n",
      "\n",
      "first, how do we give everyone a fair shot at opportunity and security in this new economy? (applause.)\n",
      "\n",
      "second, how do we make technology work for us, and not against us -- especially when it comes to solving urgent challenges like climate change? (applause.)\n",
      "\n",
      "third, how do we keep america safe and lead the world without becoming its policeman? (applause.)\n",
      "\n",
      "and finally, how can we make our politics reflect what’s best in us, and not what’s worst?\n",
      "\n",
      "let me start with the economy, and a basic fact: the united states of america, right now, has the strongest, most durable economy in the world. (applause.) we’re in the middle of the longest streak of private sector job creation in history. (applause.) more than 14 million new jobs, the strongest two years of job growth since the ‘90s, an unemployment rate cut in half. our auto industry just had its best year ever. (applause.) that's just part of a manufacturing surge that's created nearly 900,000 new jobs in the past six years. and we’ve done all this while cutting our deficits by almost three-quarters. (applause.)\n",
      "\n",
      "anyone claiming that america’s economy is in decline is peddling fiction. (applause.) now, what is true -- and the reason that a lot of americans feel anxious -- is that the economy has been changing in profound ways, changes that started long before the great recession hit; changes that have not let up.\n",
      "\n",
      "today, technology doesn’t just replace jobs on the assembly line, but any job where work can be automated. companies in a global economy can locate anywhere, and they face tougher competition. as a result, workers have less leverage for a raise. companies have less loyalty to their communities. and more and more wealth and income is concentrated at the very top.\n",
      "\n",
      "all these trends have squeezed workers, even when they have jobs; even when the economy is growing. it’s made it harder for a hardworking family to pull itself out of poverty, harder for young people to start their careers, tougher for workers to retire when they want to. and although none of these trends are unique to america, they do offend our uniquely american belief that everybody who works hard should get a fair shot.\n",
      "\n",
      "for the past seven years, our goal has been a growing economy that works also better for everybody. we’ve made progress. but we need to make more. and despite all the political arguments that we’ve had these past few years, there are actually some areas where americans broadly agree.\n",
      "\n",
      "we agree that real opportunity requires every american to get the education and training they need to land a good-paying job. the bipartisan reform of no child left behind was an important start, and together, we’ve increased early childhood education, lifted high school graduation rates to new highs, boosted graduates in fields like engineering. in the coming years, we should build on that progress, by providing pre-k for all and -- (applause) -- offering every student the hands-on computer science and math classes that make them job-ready on day one. we should recruit and support more great teachers for our kids. (applause.)\n",
      "\n",
      "and we have to make college affordable for every american. (applause.) no hardworking student should be stuck in the red. we’ve already reduced student loan payments to 10 percent of a borrower’s income. and that's good. but now, we’ve actually got to cut the cost of college. (applause.) providing two years of community college at no cost for every responsible student is one of the best ways to do that, and i’m going to keep fighting to get that started this year. (applause.) it's the right thing to do. (applause.)\n",
      "\n",
      "but a great education isn’t all we need in this new economy. we also need benefits and protections that provide a basic measure of security. it’s not too much of a stretch to say that some of the only people in america who are going to work the same job, in the same place, with a health and retirement package for 30 years are sitting in this chamber. (laughter.) for everyone else, especially folks in their 40s and 50s, saving for retirement or bouncing back from job loss has gotten a lot tougher. americans understand that at some point in their careers, in this new economy, they may have to retool and they may have to retrain. but they shouldn’t lose what they’ve already worked so hard to build in the process.\n",
      "\n",
      "that’s why social security and medicare are more important than ever. we shouldn’t weaken them; we should strengthen them. (applause.) and for americans short of retirement, basic benefits should be just as mobile as everything else is today. that, by the way, is what the affordable care act is all about. it’s about filling the gaps in employer-based care so that when you lose a job, or you go back to school, or you strike out and launch that new business, you’ll still have coverage. nearly 18 million people have gained coverage so far. (applause.) and in the process, health care inflation has slowed. and our businesses have created jobs every single month since it became law.\n",
      "\n",
      "now, i’m guessing we won’t agree on health care anytime soon. (applause.) a little applause right there. (laughter.) just a guess. but there should be other ways parties can work together to improve economic security. say a hardworking american loses his job -- we shouldn’t just make sure that he can get unemployment insurance; we should make sure that program encourages him to retrain for a business that’s ready to hire him. if that new job doesn’t pay as much, there should be a system of wage insurance in place so that he can still pay his bills. and even if he’s going from job to job, he should still be able to save for retirement and take his savings with him. that’s the way we make the new economy work better for everybody.\n",
      "\n",
      "i also know speaker ryan has talked about his interest in tackling poverty. america is about giving everybody willing to work a chance, a hand up. and i’d welcome a serious discussion about strategies we can all support, like expanding tax cuts for low-income workers who don't have children. (applause.)\n",
      "\n",
      "but there are some areas where we just have to be honest -- it has been difficult to find agreement over the last seven years. and a lot of them fall under the category of what role the government should play in making sure the system’s not rigged in favor of the wealthiest and biggest corporations. (applause.) and it's an honest disagreement, and the american people have a choice to make.\n",
      "\n",
      "i believe a thriving private sector is the lifeblood of our economy. i think there are outdated regulations that need to be changed. there is red tape that needs to be cut. (applause.) there you go! yes! (applause.) but after years now of record corporate profits, working families won’t get more opportunity or bigger paychecks just by letting big banks or big oil or hedge funds make their own rules at everybody else’s expense. (applause.) middle-class families are not going to feel more secure because we allowed attacks on collective bargaining to go unanswered. food stamp recipients did not cause the financial crisis; recklessness on wall street did. (applause.) immigrants aren’t the principal reason wages haven’t gone up; those decisions are made in the boardrooms that all too often put quarterly earnings over long-term returns. it’s sure not the average family watching tonight that avoids paying taxes through offshore accounts. (applause.)\n",
      "\n",
      "the point is, i believe that in this new economy, workers and start-ups and small businesses need more of a voice, not less. the rules should work for them. (applause.) and i'm not alone in this. this year i plan to lift up the many businesses who’ve figured out that doing right by their workers or their customers or their communities ends up being good for their shareholders. (applause.) and i want to spread those best practices across america. that's part of a brighter future. (applause.)\n",
      "\n",
      "in fact, it turns out many of our best corporate citizens are also our most creative. and this brings me to the second big question we as a country have to answer: how do we reignite that spirit of innovation to meet our biggest challenges?\n",
      "\n",
      "sixty years ago, when the russians beat us into space, we didn’t deny sputnik was up there. (laughter.) we didn’t argue about the science, or shrink our research and development budget. we built a space program almost overnight. and 12 years later, we were walking on the moon. (applause.)\n",
      "\n",
      "now, that spirit of discovery is in our dna. america is thomas edison and the wright brothers and george washington carver. america is grace hopper and katherine johnson and sally ride. america is every immigrant and entrepreneur from boston to austin to silicon valley, racing to shape a better world. (applause.) that's who we are.\n",
      "\n",
      "and over the past seven years, we’ve nurtured that spirit. we’ve protected an open internet, and taken bold new steps to get more students and low-income americans online. (applause.) we’ve launched next-generation manufacturing hubs, and online tools that give an entrepreneur everything he or she needs to start a business in a single day. but we can do so much more.\n",
      "\n",
      "last year, vice president biden said that with a new moonshot, america can cure cancer. last month, he worked with this congress to give scientists at the national institutes of health the strongest resources that they’ve had in over a decade. (applause.) so tonight, i’m announcing a new national effort to get it done. and because he’s gone to the mat for all of us on so many issues over the past 40 years, i’m putting joe in charge of mission control. (applause.) for the loved ones we’ve all lost, for the families that we can still save, let’s make america the country that cures cancer once and for all. (applause.)\n",
      "\n",
      "medical research is critical. we need the same level of commitment when it comes to developing clean energy sources. (applause.) look, if anybody still wants to dispute the science around climate change, have at it. you will be pretty lonely, because you’ll be debating our military, most of america’s business leaders, the majority of the american people, almost the entire scientific community, and 200 nations around the world who agree it’s a problem and intend to solve it. (applause.)\n",
      "\n",
      "but even if -- even if the planet wasn’t at stake, even if 2014 wasn’t the warmest year on record -- until 2015 turned out to be even hotter -- why would we want to pass up the chance for american businesses to produce and sell the energy of the future? (applause.)\n",
      "\n",
      "listen, seven years ago, we made the single biggest investment in clean energy in our history. here are the results. in fields from iowa to texas, wind power is now cheaper than dirtier, conventional power. on rooftops from arizona to new york, solar is saving americans tens of millions of dollars a year on their energy bills, and employs more americans than coal -- in jobs that pay better than average. we’re taking steps to give homeowners the freedom to generate and store their own energy -- something, by the way, that environmentalists and tea partiers have teamed up to support. and meanwhile, we’ve cut our imports of foreign oil by nearly 60 percent, and cut carbon pollution more than any other country on earth. (applause.)\n",
      "\n",
      "gas under two bucks a gallon ain’t bad, either. (applause.)\n",
      "\n",
      "now we’ve got to accelerate the transition away from old, dirtier energy sources. rather than subsidize the past, we should invest in the future -- especially in communities that rely on fossil fuels. we do them no favor when we don't show them where the trends are going. that’s why i’m going to push to change the way we manage our oil and coal resources, so that they better reflect the costs they impose on taxpayers and our planet. and that way, we put money back into those communities, and put tens of thousands of americans to work building a 21st century transportation system. (applause.)\n",
      "\n",
      "now, none of this is going to happen overnight. and, yes, there are plenty of entrenched interests who want to protect the status quo. but the jobs we’ll create, the money we’ll save, the planet we’ll preserve -- that is the kind of future our kids and our grandkids deserve. and it's within our grasp.\n",
      "\n",
      "climate change is just one of many issues where our security is linked to the rest of the world. and that’s why the third big question that we have to answer together is how to keep america safe and strong without either isolating ourselves or trying to nation-build everywhere there’s a problem.\n",
      "\n",
      "i told you earlier all the talk of america’s economic decline is political hot air. well, so is all the rhetoric you hear about our enemies getting stronger and america getting weaker. let me tell you something. the united states of america is the most powerful nation on earth. period. (applause.) period. it’s not even close. it's not even close. (applause.) it's not even close. we spend more on our military than the next eight nations combined. our troops are the finest fighting force in the history of the world. (applause.) no nation attacks us directly, or our allies, because they know that’s the path to ruin. surveys show our standing around the world is higher than when i was elected to this office, and when it comes to every important international issue, people of the world do not look to beijing or moscow to lead -- they call us. (applause.)\n",
      "\n",
      "i mean, it's useful to level the set here, because when we don't, we don't make good decisions.\n",
      "\n",
      "now, as someone who begins every day with an intelligence briefing, i know this is a dangerous time. but that’s not primarily because of some looming superpower out there, and certainly not because of diminished american strength. in today’s world, we’re threatened less by evil empires and more by failing states.\n",
      "\n",
      "the middle east is going through a transformation that will play out for a generation, rooted in conflicts that date back millennia. economic headwinds are blowing in from a chinese economy that is in significant transition. even as their economy severely contracts, russia is pouring resources in to prop up ukraine and syria -- client states that they saw slipping away from their orbit. and the international system we built after world war ii is now struggling to keep pace with this new reality.\n",
      "\n",
      "it’s up to us, the united states of america, to help remake that system. and to do that well it means that we’ve got to set priorities.\n",
      "\n",
      "priority number one is protecting the american people and going after terrorist networks. (applause.) both al qaeda and now isil pose a direct threat to our people, because in today’s world, even a handful of terrorists who place no value on human life, including their own, can do a lot of damage. they use the internet to poison the minds of individuals inside our country. their actions undermine and destabilize our allies. we have to take them out./p>\n",
      "\n",
      "but as we focus on destroying isil, over-the-top claims that this is world war iii just play into their hands. masses of fighters on the back of pickup trucks, twisted souls plotting in apartments or garages -- they pose an enormous danger to civilians; they have to be stopped. but they do not threaten our national existence. (applause.) that is the story isil wants to tell. that’s the kind of propaganda they use to recruit. we don’t need to build them up to show that we’re serious, and we sure don't need to push away vital allies in this fight by echoing the lie that isil is somehow representative of one of the world’s largest religions. (applause.) we just need to call them what they are -- killers and fanatics who have to be rooted out, hunted down, and destroyed. (applause.)\n",
      "\n",
      "and that’s exactly what we’re doing. for more than a year, america has led a coalition of more than 60 countries to cut off isil’s financing, disrupt their plots, stop the flow of terrorist fighters, and stamp out their vicious ideology. with nearly 10,000 air strikes, we’re taking out their leadership, their oil, their training camps, their weapons. we’re training, arming, and supporting forces who are steadily reclaiming territory in iraq and syria.\n",
      "\n",
      "if this congress is serious about winning this war, and wants to send a message to our troops and the world, authorize the use of military force against isil. take a vote. (applause.) take a vote. but the american people should know that with or without congressional action, isil will learn the same lessons as terrorists before them. if you doubt america’s commitment -- or mine -- to see that justice is done, just ask osama bin laden. (applause.) ask the leader of al qaeda in yemen, who was taken out last year, or the perpetrator of the benghazi attacks, who sits in a prison cell. when you come after americans, we go after you. (applause.) and it may take time, but we have long memories, and our reach has no limits. (applause.)\n",
      "\n",
      "our foreign policy hast to be focused on the threat from isil and al qaeda, but it can’t stop there. for even without isil, even without al qaeda, instability will continue for decades in many parts of the world -- in the middle east, in afghanistan, parts of pakistan, in parts of central america, in africa, and asia. some of these places may become safe havens for new terrorist networks. others will just fall victim to ethnic conflict, or famine, feeding the next wave of refugees. the world will look to us to help solve these problems, and our answer needs to be more than tough talk or calls to carpet-bomb civilians. that may work as a tv sound bite, but it doesn’t pass muster on the world stage.\n",
      "\n",
      "we also can’t try to take over and rebuild every country that falls into crisis, even if it's done with the best of intentions. (applause.) that’s not leadership; that’s a recipe for quagmire, spilling american blood and treasure that ultimately will weaken us. it’s the lesson of vietnam; it's the lesson of iraq -- and we should have learned it by now. (applause.)\n",
      "\n",
      "fortunately, there is a smarter approach, a patient and disciplined strategy that uses every element of our national power. it says america will always act, alone if necessary, to protect our people and our allies; but on issues of global concern, we will mobilize the world to work with us, and make sure other countries pull their own weight.\n",
      "\n",
      "that’s our approach to conflicts like syria, where we’re partnering with local forces and leading international efforts to help that broken society pursue a lasting peace.\n",
      "\n",
      "that’s why we built a global coalition, with sanctions and principled diplomacy, to prevent a nuclear-armed iran. and as we speak, iran has rolled back its nuclear program, shipped out its uranium stockpile, and the world has avoided another war. (applause.)\n",
      "\n",
      "that’s how we stopped the spread of ebola in west africa. (applause.) our military, our doctors, our development workers -- they were heroic; they set up the platform that then allowed other countries to join in behind us and stamp out that epidemic. hundreds of thousands, maybe a couple million lives were saved.\n",
      "\n",
      "that’s how we forged a trans-pacific partnership to open markets, and protect workers and the environment, and advance american leadership in asia. it cuts 18,000 taxes on products made in america, which will then support more good jobs here in america. with tpp, china does not set the rules in that region; we do. you want to show our strength in this new century? approve this agreement. give us the tools to enforce it. it's the right thing to do. (applause.)\n",
      "\n",
      "let me give you another example. fifty years of isolating cuba had failed to promote democracy, and set us back in latin america. that’s why we restored diplomatic relations -- (applause) -- opened the door to travel and commerce, positioned ourselves to improve the lives of the cuban people. (applause.) so if you want to consolidate our leadership and credibility in the hemisphere, recognize that the cold war is over -- lift the embargo. (applause.)\n",
      "\n",
      "the point is american leadership in the 21st century is not a choice between ignoring the rest of the world -- except when we kill terrorists -- or occupying and rebuilding whatever society is unraveling. leadership means a wise application of military power, and rallying the world behind causes that are right. it means seeing our foreign assistance as a part of our national security, not something separate, not charity.\n",
      "\n",
      "when we lead nearly 200 nations to the most ambitious agreement in history to fight climate change, yes, that helps vulnerable countries, but it also protects our kids. when we help ukraine defend its democracy, or colombia resolve a decades-long war, that strengthens the international order we depend on. when we help african countries feed their people and care for the sick -- (applause) -- it's the right thing to do, and it prevents the next pandemic from reaching our shores. right now, we’re on track to end the scourge of hiv/aids. that's within our grasp. (applause.) and we have the chance to accomplish the same thing with malaria -- something i’ll be pushing this congress to fund this year. (applause.)\n",
      "\n",
      "that's american strength. that's american leadership. and that kind of leadership depends on the power of our example. that’s why i will keep working to shut down the prison at guantanamo. (applause.) it is expensive, it is unnecessary, and it only serves as a recruitment brochure for our enemies. (applause.) there’s a better way. (applause.)\n",
      "\n",
      "and that’s why we need to reject any politics -- any politics -- that targets people because of race or religion. (applause.) let me just say this. this is not a matter of political correctness. this is a matter of understanding just what it is that makes us strong. the world respects us not just for our arsenal; it respects us for our diversity, and our openness, and the way we respect every faith.\n",
      "\n",
      "his holiness, pope francis, told this body from the very spot that i'm standing on tonight that “to imitate the hatred and violence of tyrants and murderers is the best way to take their place.” when politicians insult muslims, whether abroad or our fellow citizens, when a mosque is vandalized, or a kid is called names, that doesn’t make us safer. that’s not telling it like it is. it’s just wrong. (applause.) it diminishes us in the eyes of the world. it makes it harder to achieve our goals. it betrays who we are as a country. (applause.)\n",
      "\n",
      "“we the people.” our constitution begins with those three simple words, words we’ve come to recognize mean all the people, not just some; words that insist we rise and fall together, and that's how we might perfect our union. and that brings me to the fourth, and maybe the most important thing that i want to say tonight.\n",
      "\n",
      "the future we want -- all of us want -- opportunity and security for our families, a rising standard of living, a sustainable, peaceful planet for our kids -- all that is within our reach. but it will only happen if we work together. it will only happen if we can have rational, constructive debates. it will only happen if we fix our politics.\n",
      "\n",
      "a better politics doesn’t mean we have to agree on everything. this is a big country -- different regions, different attitudes, different interests. that’s one of our strengths, too. our founders distributed power between states and branches of government, and expected us to argue, just as they did, fiercely, over the size and shape of government, over commerce and foreign relations, over the meaning of liberty and the imperatives of security.\n",
      "\n",
      "but democracy does require basic bonds of trust between its citizens. it doesn’t work if we think the people who disagree with us are all motivated by malice. it doesn’t work if we think that our political opponents are unpatriotic or trying to weaken america. democracy grinds to a halt without a willingness to compromise, or when even basic facts are contested, or when we listen only to those who agree with us. our public life withers when only the most extreme voices get all the attention. and most of all, democracy breaks down when the average person feels their voice doesn’t matter; that the system is rigged in favor of the rich or the powerful or some special interest.\n",
      "\n",
      "too many americans feel that way right now. it’s one of the few regrets of my presidency -- that the rancor and suspicion between the parties has gotten worse instead of better. i have no doubt a president with the gifts of lincoln or roosevelt might have better bridged the divide, and i guarantee i’ll keep trying to be better so long as i hold this office.\n",
      "\n",
      "but, my fellow americans, this cannot be my task -- or any president’s -- alone. there are a whole lot of folks in this chamber, good people who would like to see more cooperation, would like to see a more elevated debate in washington, but feel trapped by the imperatives of getting elected, by the noise coming out of your base. i know; you’ve told me. it's the worst-kept secret in washington. and a lot of you aren't enjoying being trapped in that kind of rancor.\n",
      "\n",
      "but that means if we want a better politics -- and i'm addressing the american people now -- if we want a better politics, it’s not enough just to change a congressman or change a senator or even change a president. we have to change the system to reflect our better selves. i think we've got to end the practice of drawing our congressional districts so that politicians can pick their voters, and not the other way around. (applause.) let a bipartisan group do it. (applause.)\n",
      "\n",
      "we have to reduce the influence of money in our politics, so that a handful of families or hidden interests can’t bankroll our elections. (applause.) and if our existing approach to campaign finance reform can’t pass muster in the courts, we need to work together to find a real solution -- because it's a problem. and most of you don't like raising money. i know; i've done it. (applause.) we’ve got to make it easier to vote, not harder. (applause.) we need to modernize it for the way we live now. (applause.) this is america: we want to make it easier for people to participate. and over the course of this year, i intend to travel the country to push for reforms that do just that.\n",
      "\n",
      "but i can’t do these things on my own. (applause.) changes in our political process -- in not just who gets elected, but how they get elected -- that will only happen when the american people demand it. it depends on you. that’s what’s meant by a government of, by, and for the people.\n",
      "\n",
      "what i’m suggesting is hard. it’s a lot easier to be cynical; to accept that change is not possible, and politics is hopeless, and the problem is all the folks who are elected don't care, and to believe that our voices and actions don’t matter. but if we give up now, then we forsake a better future. those with money and power will gain greater control over the decisions that could send a young soldier to war, or allow another economic disaster, or roll back the equal rights and voting rights that generations of americans have fought, even died, to secure. and then, as frustration grows, there will be voices urging us to fall back into our respective tribes, to scapegoat fellow citizens who don’t look like us, or pray like us, or vote like we do, or share the same background.\n",
      "\n",
      "we can’t afford to go down that path. it won’t deliver the economy we want. it will not produce the security we want. but most of all, it contradicts everything that makes us the envy of the world.\n",
      "\n",
      "so, my fellow americans, whatever you may believe, whether you prefer one party or no party, whether you supported my agenda or fought as hard as you could against it -- our collective futures depends on your willingness to uphold your duties as a citizen. to vote. to speak out. to stand up for others, especially the weak, especially the vulnerable, knowing that each of us is only here because somebody, somewhere, stood up for us. (applause.) we need every american to stay active in our public life -- and not just during election time -- so that our public life reflects the goodness and the decency that i see in the american people every single day.\n",
      "\n",
      "it is not easy. our brand of democracy is hard. but i can promise that a little over a year from now, when i no longer hold this office, i will be right there with you as a citizen, inspired by those voices of fairness and vision, of grit and good humor and kindness that helped america travel so far. voices that help us see ourselves not, first and foremost, as black or white, or asian or latino, not as gay or straight, immigrant or native born, not as democrat or republican, but as americans first, bound by a common creed. voices dr. king believed would have the final word -- voices of unarmed truth and unconditional love.\n",
      "\n",
      "and they’re out there, those voices. they don’t get a lot of attention; they don't seek a lot of fanfare; but they’re busy doing the work this country needs doing. i see them everywhere i travel in this incredible country of ours. i see you, the american people. and in your daily acts of citizenship, i see our future unfolding.\n",
      "\n",
      "i see it in the worker on the assembly line who clocked extra shifts to keep his company open, and the boss who pays him higher wages instead of laying him off.\n",
      "\n",
      "i see it in the dreamer who stays up late at night to finish her science project, and the teacher who comes in early, and maybe with some extra supplies that she bought because she knows that that young girl might someday cure a disease.\n",
      "\n",
      "i see it in the dreamer who stays up late to finish her science project, and the teacher who comes in early because he knows she might someday cure a disease.\n",
      "\n",
      "i see it in the american who served his time, and bad mistakes as a child but now is dreaming of starting over -- and i see it in the business owner who gives him that second chance. the protester determined to prove that justice matters -- and the young cop walking the beat, treating everybody with respect, doing the brave, quiet work of keeping us safe. (applause.)\n",
      "\n",
      "i see it in the soldier who gives almost everything to save his brothers, the nurse who tends to him till he can run a marathon, the community that lines up to cheer him on.\n",
      "\n",
      "it’s the son who finds the courage to come out as who he is, and the father whose love for that son overrides everything he’s been taught. (applause.)\n",
      "\n",
      "i see it in the elderly woman who will wait in line to cast her vote as long as she has to; the new citizen who casts his vote for the first time; the volunteers at the polls who believe every vote should count -- because each of them in different ways know how much that precious right is worth.\n",
      "\n",
      "that's the america i know. that’s the country we love. clear-eyed. big-hearted. undaunted by challenge. optimistic that unarmed truth and unconditional love will have the final word. (applause.) that’s what makes me so hopeful about our future. i believe in change because i believe in you, the american people.\n",
      "\n",
      "and that’s why i stand here confident as i have ever been that the state of our union is strong. (applause.)\n",
      "\n",
      "thank you, god bless you. god bless the united states of america.\n"
     ]
    }
   ],
   "source": [
    "transcript_lower = transcript.lower()\n",
    "print transcript_lower"
   ]
  },
  {
   "cell_type": "markdown",
   "metadata": {},
   "source": [
    "If you look *really* closely at the output you can see some inconsistencies.\n",
    "너가 산출물을 정말로 자세히 보면, 불일치를 볼수 있을 것이다.\n",
    "\n",
    "For instance sometimes it looks like the apostrophe's are angled and other times they're not. \n",
    "예로 들어 때때로, 생략부호가 각도가 있고, 그렇지 않은 경우도 있을 것이다.\n",
    "\n",
    "We want to normalize the text so that it's always using the same version of the apostrophe, as well as quotes and a few other special characters.\n",
    "우리는 텍스트가 일반화되기를 원한다. 그래서 항상 같은 버젼의 생략부호를 사용할 수 있고 또한, 인용부호와 다른 특별한 캐릭터들도 그렇게 되길 원한다."
   ]
  },
  {
   "cell_type": "code",
   "execution_count": 4,
   "metadata": {
    "collapsed": false
   },
   "outputs": [
    {
     "name": "stdout",
     "output_type": "stream",
     "text": [
      "mr. speaker, mr. vice president, members of congress, my fellow americans:\n",
      "\n",
      "tonight marks the eighth year that i've come here to report on the state of the union. and for this final one, i'm going to try to make it a little shorter. (applause.) i know some of you are antsy to get back to iowa. (laughter.) i've been there. i'll be shaking hands afterwards if you want some tips. (laughter.)\n",
      "\n",
      "and i understand that because it's an election season, expectations for what we will achieve this year are low. but, mr. speaker, i appreciate the constructive approach that you and the other leaders took at the end of last year to pass a budget and make tax cuts permanent for working families. so i hope we can work together this year on some bipartisan priorities like criminal justice reform -- (applause) -- and helping people who are battling prescription drug abuse and heroin abuse. (applause.) so, who knows, we might surprise the cynics again.\n",
      "\n",
      "but tonight, i want to go easy on the traditional list of proposals for the year ahead. don't worry, i've got plenty, from helping students learn to write computer code to personalizing medical treatments for patients. and i will keep pushing for progress on the work that i believe still needs to be done. fixing a broken immigration system. (applause.) protecting our kids from gun violence. (applause.) equal pay for equal work. (applause.) paid leave. (applause.) raising the minimum wage. (applause.) all these things still matter to hardworking families. they're still the right thing to do. and i won't let up until they get done.\n",
      "\n",
      "but for my final address to this chamber, i don't want to just talk about next year. i want to focus on the next five years, the next 10 years, and beyond. i want to focus on our future.\n",
      "\n",
      "we live in a time of extraordinary change -- change that's reshaping the way we live, the way we work, our planet, our place in the world. it's change that promises amazing medical breakthroughs, but also economic disruptions that strain working families. it promises education for girls in the most remote villages, but also connects terrorists plotting an ocean away. it's change that can broaden opportunity, or widen inequality. and whether we like it or not, the pace of this change will only accelerate.\n",
      "\n",
      " america has been through big changes before -- wars and depression, the influx of new immigrants, workers fighting for a fair deal, movements to expand civil rights. each time, there have been those who told us to fear the future; who claimed we could slam the brakes on change; who promised to restore past glory if we just got some group or idea that was threatening america under control. and each time, we overcame those fears. we did not, in the words of lincoln, adhere to the \"dogmas of the quiet past.\" instead we thought anew, and acted anew. we made change work for us, always extending america's promise outward, to the next frontier, to more people. and because we did -- because we saw opportunity where others saw only peril -- we emerged stronger and better than before.\n",
      "\n",
      "what was true then can be true now. our unique strengths as a nation -- our optimism and work ethic, our spirit of discovery, our diversity, our commitment to rule of law -- these things give us everything we need to ensure prosperity and security for generations to come.\n",
      "\n",
      "in fact, it's that spirit that made the progress of these past seven years possible.  it's how we recovered from the worst economic crisis in generations.  it's how we reformed our health care system, and reinvented our energy sector; how we delivered more care and benefits to our troops and veterans, and how we secured the freedom in every state to marry the person we love.\n",
      "\n",
      "but such progress is not inevitable. it's the result of choices we make together. and we face such choices right now. will we respond to the changes of our time with fear, turning inward as a nation, turning against each other as a people? or will we face the future with confidence in who we are, in what we stand for, in the incredible things that we can do together?\n",
      "\n",
      "so let's talk about the future, and four big questions that i believe we as a country have to answer -- regardless of who the next president is, or who controls the next congress.\n",
      "\n",
      "first, how do we give everyone a fair shot at opportunity and security in this new economy? (applause.)\n",
      "\n",
      "second, how do we make technology work for us, and not against us -- especially when it comes to solving urgent challenges like climate change? (applause.)\n",
      "\n",
      "third, how do we keep america safe and lead the world without becoming its policeman? (applause.)\n",
      "\n",
      "and finally, how can we make our politics reflect what's best in us, and not what's worst?\n",
      "\n",
      "let me start with the economy, and a basic fact: the united states of america, right now, has the strongest, most durable economy in the world. (applause.) we're in the middle of the longest streak of private sector job creation in history. (applause.) more than 14 million new jobs, the strongest two years of job growth since the '90s, an unemployment rate cut in half. our auto industry just had its best year ever. (applause.) that's just part of a manufacturing surge that's created nearly 900,000 new jobs in the past six years. and we've done all this while cutting our deficits by almost three-quarters. (applause.)\n",
      "\n",
      "anyone claiming that america's economy is in decline is peddling fiction. (applause.) now, what is true -- and the reason that a lot of americans feel anxious -- is that the economy has been changing in profound ways, changes that started long before the great recession hit; changes that have not let up.\n",
      "\n",
      "today, technology doesn't just replace jobs on the assembly line, but any job where work can be automated. companies in a global economy can locate anywhere, and they face tougher competition. as a result, workers have less leverage for a raise. companies have less loyalty to their communities. and more and more wealth and income is concentrated at the very top.\n",
      "\n",
      "all these trends have squeezed workers, even when they have jobs; even when the economy is growing. it's made it harder for a hardworking family to pull itself out of poverty, harder for young people to start their careers, tougher for workers to retire when they want to. and although none of these trends are unique to america, they do offend our uniquely american belief that everybody who works hard should get a fair shot.\n",
      "\n",
      "for the past seven years, our goal has been a growing economy that works also better for everybody. we've made progress. but we need to make more. and despite all the political arguments that we've had these past few years, there are actually some areas where americans broadly agree.\n",
      "\n",
      "we agree that real opportunity requires every american to get the education and training they need to land a good-paying job. the bipartisan reform of no child left behind was an important start, and together, we've increased early childhood education, lifted high school graduation rates to new highs, boosted graduates in fields like engineering. in the coming years, we should build on that progress, by providing pre-k for all and -- (applause) -- offering every student the hands-on computer science and math classes that make them job-ready on day one. we should recruit and support more great teachers for our kids. (applause.)\n",
      "\n",
      "and we have to make college affordable for every american. (applause.) no hardworking student should be stuck in the red. we've already reduced student loan payments to 10 percent of a borrower's income. and that's good. but now, we've actually got to cut the cost of college. (applause.) providing two years of community college at no cost for every responsible student is one of the best ways to do that, and i'm going to keep fighting to get that started this year. (applause.) it's the right thing to do. (applause.)\n",
      "\n",
      "but a great education isn't all we need in this new economy. we also need benefits and protections that provide a basic measure of security. it's not too much of a stretch to say that some of the only people in america who are going to work the same job, in the same place, with a health and retirement package for 30 years are sitting in this chamber. (laughter.) for everyone else, especially folks in their 40s and 50s, saving for retirement or bouncing back from job loss has gotten a lot tougher. americans understand that at some point in their careers, in this new economy, they may have to retool and they may have to retrain. but they shouldn't lose what they've already worked so hard to build in the process.\n",
      "\n",
      "that's why social security and medicare are more important than ever. we shouldn't weaken them; we should strengthen them. (applause.) and for americans short of retirement, basic benefits should be just as mobile as everything else is today. that, by the way, is what the affordable care act is all about. it's about filling the gaps in employer-based care so that when you lose a job, or you go back to school, or you strike out and launch that new business, you'll still have coverage. nearly 18 million people have gained coverage so far. (applause.) and in the process, health care inflation has slowed. and our businesses have created jobs every single month since it became law.\n",
      "\n",
      "now, i'm guessing we won't agree on health care anytime soon. (applause.) a little applause right there. (laughter.) just a guess. but there should be other ways parties can work together to improve economic security. say a hardworking american loses his job -- we shouldn't just make sure that he can get unemployment insurance; we should make sure that program encourages him to retrain for a business that's ready to hire him. if that new job doesn't pay as much, there should be a system of wage insurance in place so that he can still pay his bills. and even if he's going from job to job, he should still be able to save for retirement and take his savings with him. that's the way we make the new economy work better for everybody.\n",
      "\n",
      "i also know speaker ryan has talked about his interest in tackling poverty. america is about giving everybody willing to work a chance, a hand up. and i'd welcome a serious discussion about strategies we can all support, like expanding tax cuts for low-income workers who don't have children. (applause.)\n",
      "\n",
      "but there are some areas where we just have to be honest -- it has been difficult to find agreement over the last seven years. and a lot of them fall under the category of what role the government should play in making sure the system's not rigged in favor of the wealthiest and biggest corporations. (applause.) and it's an honest disagreement, and the american people have a choice to make.\n",
      "\n",
      "i believe a thriving private sector is the lifeblood of our economy. i think there are outdated regulations that need to be changed. there is red tape that needs to be cut. (applause.) there you go! yes! (applause.) but after years now of record corporate profits, working families won't get more opportunity or bigger paychecks just by letting big banks or big oil or hedge funds make their own rules at everybody else's expense. (applause.) middle-class families are not going to feel more secure because we allowed attacks on collective bargaining to go unanswered. food stamp recipients did not cause the financial crisis; recklessness on wall street did. (applause.) immigrants aren't the principal reason wages haven't gone up; those decisions are made in the boardrooms that all too often put quarterly earnings over long-term returns. it's sure not the average family watching tonight that avoids paying taxes through offshore accounts. (applause.)\n",
      "\n",
      "the point is, i believe that in this new economy, workers and start-ups and small businesses need more of a voice, not less. the rules should work for them. (applause.) and i'm not alone in this. this year i plan to lift up the many businesses who've figured out that doing right by their workers or their customers or their communities ends up being good for their shareholders. (applause.) and i want to spread those best practices across america. that's part of a brighter future. (applause.)\n",
      "\n",
      "in fact, it turns out many of our best corporate citizens are also our most creative. and this brings me to the second big question we as a country have to answer: how do we reignite that spirit of innovation to meet our biggest challenges?\n",
      "\n",
      "sixty years ago, when the russians beat us into space, we didn't deny sputnik was up there. (laughter.) we didn't argue about the science, or shrink our research and development budget. we built a space program almost overnight. and 12 years later, we were walking on the moon. (applause.)\n",
      "\n",
      "now, that spirit of discovery is in our dna. america is thomas edison and the wright brothers and george washington carver. america is grace hopper and katherine johnson and sally ride. america is every immigrant and entrepreneur from boston to austin to silicon valley, racing to shape a better world. (applause.) that's who we are.\n",
      "\n",
      "and over the past seven years, we've nurtured that spirit. we've protected an open internet, and taken bold new steps to get more students and low-income americans online. (applause.) we've launched next-generation manufacturing hubs, and online tools that give an entrepreneur everything he or she needs to start a business in a single day. but we can do so much more.\n",
      "\n",
      "last year, vice president biden said that with a new moonshot, america can cure cancer. last month, he worked with this congress to give scientists at the national institutes of health the strongest resources that they've had in over a decade. (applause.) so tonight, i'm announcing a new national effort to get it done. and because he's gone to the mat for all of us on so many issues over the past 40 years, i'm putting joe in charge of mission control. (applause.) for the loved ones we've all lost, for the families that we can still save, let's make america the country that cures cancer once and for all. (applause.)\n",
      "\n",
      "medical research is critical. we need the same level of commitment when it comes to developing clean energy sources. (applause.) look, if anybody still wants to dispute the science around climate change, have at it. you will be pretty lonely, because you'll be debating our military, most of america's business leaders, the majority of the american people, almost the entire scientific community, and 200 nations around the world who agree it's a problem and intend to solve it. (applause.)\n",
      "\n",
      "but even if -- even if the planet wasn't at stake, even if 2014 wasn't the warmest year on record -- until 2015 turned out to be even hotter -- why would we want to pass up the chance for american businesses to produce and sell the energy of the future? (applause.)\n",
      "\n",
      "listen, seven years ago, we made the single biggest investment in clean energy in our history. here are the results. in fields from iowa to texas, wind power is now cheaper than dirtier, conventional power. on rooftops from arizona to new york, solar is saving americans tens of millions of dollars a year on their energy bills, and employs more americans than coal -- in jobs that pay better than average. we're taking steps to give homeowners the freedom to generate and store their own energy -- something, by the way, that environmentalists and tea partiers have teamed up to support. and meanwhile, we've cut our imports of foreign oil by nearly 60 percent, and cut carbon pollution more than any other country on earth. (applause.)\n",
      "\n",
      "gas under two bucks a gallon ain't bad, either. (applause.)\n",
      "\n",
      "now we've got to accelerate the transition away from old, dirtier energy sources. rather than subsidize the past, we should invest in the future -- especially in communities that rely on fossil fuels. we do them no favor when we don't show them where the trends are going. that's why i'm going to push to change the way we manage our oil and coal resources, so that they better reflect the costs they impose on taxpayers and our planet. and that way, we put money back into those communities, and put tens of thousands of americans to work building a 21st century transportation system. (applause.)\n",
      "\n",
      "now, none of this is going to happen overnight. and, yes, there are plenty of entrenched interests who want to protect the status quo. but the jobs we'll create, the money we'll save, the planet we'll preserve -- that is the kind of future our kids and our grandkids deserve. and it's within our grasp.\n",
      "\n",
      "climate change is just one of many issues where our security is linked to the rest of the world. and that's why the third big question that we have to answer together is how to keep america safe and strong without either isolating ourselves or trying to nation-build everywhere there's a problem.\n",
      "\n",
      "i told you earlier all the talk of america's economic decline is political hot air. well, so is all the rhetoric you hear about our enemies getting stronger and america getting weaker. let me tell you something. the united states of america is the most powerful nation on earth. period. (applause.) period. it's not even close. it's not even close. (applause.) it's not even close. we spend more on our military than the next eight nations combined. our troops are the finest fighting force in the history of the world. (applause.) no nation attacks us directly, or our allies, because they know that's the path to ruin. surveys show our standing around the world is higher than when i was elected to this office, and when it comes to every important international issue, people of the world do not look to beijing or moscow to lead -- they call us. (applause.)\n",
      "\n",
      "i mean, it's useful to level the set here, because when we don't, we don't make good decisions.\n",
      "\n",
      "now, as someone who begins every day with an intelligence briefing, i know this is a dangerous time. but that's not primarily because of some looming superpower out there, and certainly not because of diminished american strength. in today's world, we're threatened less by evil empires and more by failing states.\n",
      "\n",
      "the middle east is going through a transformation that will play out for a generation, rooted in conflicts that date back millennia. economic headwinds are blowing in from a chinese economy that is in significant transition. even as their economy severely contracts, russia is pouring resources in to prop up ukraine and syria -- client states that they saw slipping away from their orbit. and the international system we built after world war ii is now struggling to keep pace with this new reality.\n",
      "\n",
      "it's up to us, the united states of america, to help remake that system. and to do that well it means that we've got to set priorities.\n",
      "\n",
      "priority number one is protecting the american people and going after terrorist networks. (applause.) both al qaeda and now isil pose a direct threat to our people, because in today's world, even a handful of terrorists who place no value on human life, including their own, can do a lot of damage. they use the internet to poison the minds of individuals inside our country. their actions undermine and destabilize our allies. we have to take them out./p>\n",
      "\n",
      "but as we focus on destroying isil, over-the-top claims that this is world war iii just play into their hands. masses of fighters on the back of pickup trucks, twisted souls plotting in apartments or garages -- they pose an enormous danger to civilians; they have to be stopped. but they do not threaten our national existence. (applause.) that is the story isil wants to tell. that's the kind of propaganda they use to recruit. we don't need to build them up to show that we're serious, and we sure don't need to push away vital allies in this fight by echoing the lie that isil is somehow representative of one of the world's largest religions. (applause.) we just need to call them what they are -- killers and fanatics who have to be rooted out, hunted down, and destroyed. (applause.)\n",
      "\n",
      "and that's exactly what we're doing. for more than a year, america has led a coalition of more than 60 countries to cut off isil's financing, disrupt their plots, stop the flow of terrorist fighters, and stamp out their vicious ideology. with nearly 10,000 air strikes, we're taking out their leadership, their oil, their training camps, their weapons. we're training, arming, and supporting forces who are steadily reclaiming territory in iraq and syria.\n",
      "\n",
      "if this congress is serious about winning this war, and wants to send a message to our troops and the world, authorize the use of military force against isil. take a vote. (applause.) take a vote. but the american people should know that with or without congressional action, isil will learn the same lessons as terrorists before them. if you doubt america's commitment -- or mine -- to see that justice is done, just ask osama bin laden. (applause.) ask the leader of al qaeda in yemen, who was taken out last year, or the perpetrator of the benghazi attacks, who sits in a prison cell. when you come after americans, we go after you. (applause.) and it may take time, but we have long memories, and our reach has no limits. (applause.)\n",
      "\n",
      "our foreign policy hast to be focused on the threat from isil and al qaeda, but it can't stop there. for even without isil, even without al qaeda, instability will continue for decades in many parts of the world -- in the middle east, in afghanistan, parts of pakistan, in parts of central america, in africa, and asia. some of these places may become safe havens for new terrorist networks. others will just fall victim to ethnic conflict, or famine, feeding the next wave of refugees. the world will look to us to help solve these problems, and our answer needs to be more than tough talk or calls to carpet-bomb civilians. that may work as a tv sound bite, but it doesn't pass muster on the world stage.\n",
      "\n",
      "we also can't try to take over and rebuild every country that falls into crisis, even if it's done with the best of intentions. (applause.) that's not leadership; that's a recipe for quagmire, spilling american blood and treasure that ultimately will weaken us. it's the lesson of vietnam; it's the lesson of iraq -- and we should have learned it by now. (applause.)\n",
      "\n",
      "fortunately, there is a smarter approach, a patient and disciplined strategy that uses every element of our national power. it says america will always act, alone if necessary, to protect our people and our allies; but on issues of global concern, we will mobilize the world to work with us, and make sure other countries pull their own weight.\n",
      "\n",
      "that's our approach to conflicts like syria, where we're partnering with local forces and leading international efforts to help that broken society pursue a lasting peace.\n",
      "\n",
      "that's why we built a global coalition, with sanctions and principled diplomacy, to prevent a nuclear-armed iran. and as we speak, iran has rolled back its nuclear program, shipped out its uranium stockpile, and the world has avoided another war. (applause.)\n",
      "\n",
      "that's how we stopped the spread of ebola in west africa. (applause.) our military, our doctors, our development workers -- they were heroic; they set up the platform that then allowed other countries to join in behind us and stamp out that epidemic. hundreds of thousands, maybe a couple million lives were saved.\n",
      "\n",
      "that's how we forged a trans-pacific partnership to open markets, and protect workers and the environment, and advance american leadership in asia. it cuts 18,000 taxes on products made in america, which will then support more good jobs here in america. with tpp, china does not set the rules in that region; we do. you want to show our strength in this new century? approve this agreement. give us the tools to enforce it. it's the right thing to do. (applause.)\n",
      "\n",
      "let me give you another example. fifty years of isolating cuba had failed to promote democracy, and set us back in latin america. that's why we restored diplomatic relations -- (applause) -- opened the door to travel and commerce, positioned ourselves to improve the lives of the cuban people. (applause.) so if you want to consolidate our leadership and credibility in the hemisphere, recognize that the cold war is over -- lift the embargo. (applause.)\n",
      "\n",
      "the point is american leadership in the 21st century is not a choice between ignoring the rest of the world -- except when we kill terrorists -- or occupying and rebuilding whatever society is unraveling. leadership means a wise application of military power, and rallying the world behind causes that are right. it means seeing our foreign assistance as a part of our national security, not something separate, not charity.\n",
      "\n",
      "when we lead nearly 200 nations to the most ambitious agreement in history to fight climate change, yes, that helps vulnerable countries, but it also protects our kids. when we help ukraine defend its democracy, or colombia resolve a decades-long war, that strengthens the international order we depend on. when we help african countries feed their people and care for the sick -- (applause) -- it's the right thing to do, and it prevents the next pandemic from reaching our shores. right now, we're on track to end the scourge of hiv/aids. that's within our grasp. (applause.) and we have the chance to accomplish the same thing with malaria -- something i'll be pushing this congress to fund this year. (applause.)\n",
      "\n",
      "that's american strength. that's american leadership. and that kind of leadership depends on the power of our example. that's why i will keep working to shut down the prison at guantanamo. (applause.) it is expensive, it is unnecessary, and it only serves as a recruitment brochure for our enemies. (applause.) there's a better way. (applause.)\n",
      "\n",
      "and that's why we need to reject any politics -- any politics -- that targets people because of race or religion. (applause.) let me just say this. this is not a matter of political correctness. this is a matter of understanding just what it is that makes us strong. the world respects us not just for our arsenal; it respects us for our diversity, and our openness, and the way we respect every faith.\n",
      "\n",
      "his holiness, pope francis, told this body from the very spot that i'm standing on tonight that \"to imitate the hatred and violence of tyrants and murderers is the best way to take their place.\" when politicians insult muslims, whether abroad or our fellow citizens, when a mosque is vandalized, or a kid is called names, that doesn't make us safer. that's not telling it like it is. it's just wrong. (applause.) it diminishes us in the eyes of the world. it makes it harder to achieve our goals. it betrays who we are as a country. (applause.)\n",
      "\n",
      "\"we the people.\" our constitution begins with those three simple words, words we've come to recognize mean all the people, not just some; words that insist we rise and fall together, and that's how we might perfect our union. and that brings me to the fourth, and maybe the most important thing that i want to say tonight.\n",
      "\n",
      "the future we want -- all of us want -- opportunity and security for our families, a rising standard of living, a sustainable, peaceful planet for our kids -- all that is within our reach. but it will only happen if we work together. it will only happen if we can have rational, constructive debates. it will only happen if we fix our politics.\n",
      "\n",
      "a better politics doesn't mean we have to agree on everything. this is a big country -- different regions, different attitudes, different interests. that's one of our strengths, too. our founders distributed power between states and branches of government, and expected us to argue, just as they did, fiercely, over the size and shape of government, over commerce and foreign relations, over the meaning of liberty and the imperatives of security.\n",
      "\n",
      "but democracy does require basic bonds of trust between its citizens. it doesn't work if we think the people who disagree with us are all motivated by malice. it doesn't work if we think that our political opponents are unpatriotic or trying to weaken america. democracy grinds to a halt without a willingness to compromise, or when even basic facts are contested, or when we listen only to those who agree with us. our public life withers when only the most extreme voices get all the attention. and most of all, democracy breaks down when the average person feels their voice doesn't matter; that the system is rigged in favor of the rich or the powerful or some special interest.\n",
      "\n",
      "too many americans feel that way right now. it's one of the few regrets of my presidency -- that the rancor and suspicion between the parties has gotten worse instead of better. i have no doubt a president with the gifts of lincoln or roosevelt might have better bridged the divide, and i guarantee i'll keep trying to be better so long as i hold this office.\n",
      "\n",
      "but, my fellow americans, this cannot be my task -- or any president's -- alone. there are a whole lot of folks in this chamber, good people who would like to see more cooperation, would like to see a more elevated debate in washington, but feel trapped by the imperatives of getting elected, by the noise coming out of your base. i know; you've told me. it's the worst-kept secret in washington. and a lot of you aren't enjoying being trapped in that kind of rancor.\n",
      "\n",
      "but that means if we want a better politics -- and i'm addressing the american people now -- if we want a better politics, it's not enough just to change a congressman or change a senator or even change a president. we have to change the system to reflect our better selves. i think we've got to end the practice of drawing our congressional districts so that politicians can pick their voters, and not the other way around. (applause.) let a bipartisan group do it. (applause.)\n",
      "\n",
      "we have to reduce the influence of money in our politics, so that a handful of families or hidden interests can't bankroll our elections. (applause.) and if our existing approach to campaign finance reform can't pass muster in the courts, we need to work together to find a real solution -- because it's a problem. and most of you don't like raising money. i know; i've done it. (applause.) we've got to make it easier to vote, not harder. (applause.) we need to modernize it for the way we live now. (applause.) this is america: we want to make it easier for people to participate. and over the course of this year, i intend to travel the country to push for reforms that do just that.\n",
      "\n",
      "but i can't do these things on my own. (applause.) changes in our political process -- in not just who gets elected, but how they get elected -- that will only happen when the american people demand it. it depends on you. that's what's meant by a government of, by, and for the people.\n",
      "\n",
      "what i'm suggesting is hard. it's a lot easier to be cynical; to accept that change is not possible, and politics is hopeless, and the problem is all the folks who are elected don't care, and to believe that our voices and actions don't matter. but if we give up now, then we forsake a better future. those with money and power will gain greater control over the decisions that could send a young soldier to war, or allow another economic disaster, or roll back the equal rights and voting rights that generations of americans have fought, even died, to secure. and then, as frustration grows, there will be voices urging us to fall back into our respective tribes, to scapegoat fellow citizens who don't look like us, or pray like us, or vote like we do, or share the same background.\n",
      "\n",
      "we can't afford to go down that path. it won't deliver the economy we want. it will not produce the security we want. but most of all, it contradicts everything that makes us the envy of the world.\n",
      "\n",
      "so, my fellow americans, whatever you may believe, whether you prefer one party or no party, whether you supported my agenda or fought as hard as you could against it -- our collective futures depends on your willingness to uphold your duties as a citizen. to vote. to speak out. to stand up for others, especially the weak, especially the vulnerable, knowing that each of us is only here because somebody, somewhere, stood up for us. (applause.) we need every american to stay active in our public life -- and not just during election time -- so that our public life reflects the goodness and the decency that i see in the american people every single day.\n",
      "\n",
      "it is not easy. our brand of democracy is hard. but i can promise that a little over a year from now, when i no longer hold this office, i will be right there with you as a citizen, inspired by those voices of fairness and vision, of grit and good humor and kindness that helped america travel so far. voices that help us see ourselves not, first and foremost, as black or white, or asian or latino, not as gay or straight, immigrant or native born, not as democrat or republican, but as americans first, bound by a common creed. voices dr. king believed would have the final word -- voices of unarmed truth and unconditional love.\n",
      "\n",
      "and they're out there, those voices. they don't get a lot of attention; they don't seek a lot of fanfare; but they're busy doing the work this country needs doing. i see them everywhere i travel in this incredible country of ours. i see you, the american people. and in your daily acts of citizenship, i see our future unfolding.\n",
      "\n",
      "i see it in the worker on the assembly line who clocked extra shifts to keep his company open, and the boss who pays him higher wages instead of laying him off.\n",
      "\n",
      "i see it in the dreamer who stays up late at night to finish her science project, and the teacher who comes in early, and maybe with some extra supplies that she bought because she knows that that young girl might someday cure a disease.\n",
      "\n",
      "i see it in the dreamer who stays up late to finish her science project, and the teacher who comes in early because he knows she might someday cure a disease.\n",
      "\n",
      "i see it in the american who served his time, and bad mistakes as a child but now is dreaming of starting over -- and i see it in the business owner who gives him that second chance. the protester determined to prove that justice matters -- and the young cop walking the beat, treating everybody with respect, doing the brave, quiet work of keeping us safe. (applause.)\n",
      "\n",
      "i see it in the soldier who gives almost everything to save his brothers, the nurse who tends to him till he can run a marathon, the community that lines up to cheer him on.\n",
      "\n",
      "it's the son who finds the courage to come out as who he is, and the father whose love for that son overrides everything he's been taught. (applause.)\n",
      "\n",
      "i see it in the elderly woman who will wait in line to cast her vote as long as she has to; the new citizen who casts his vote for the first time; the volunteers at the polls who believe every vote should count -- because each of them in different ways know how much that precious right is worth.\n",
      "\n",
      "that's the america i know. that's the country we love. clear-eyed. big-hearted. undaunted by challenge. optimistic that unarmed truth and unconditional love will have the final word. (applause.) that's what makes me so hopeful about our future. i believe in change because i believe in you, the american people.\n",
      "\n",
      "and that's why i stand here confident as i have ever been that the state of our union is strong. (applause.)\n",
      "\n",
      "thank you, god bless you. god bless the united states of america.\n"
     ]
    }
   ],
   "source": [
    "table = {\n",
    "    ord(u'\\u2018') : u\"'\",\n",
    "    ord(u'\\u2019') : u\"'\",\n",
    "    ord(u'\\u201C') : u'\"',\n",
    "    ord(u'\\u201d') : u'\"',\n",
    "    ord(u'\\u2026') : u'', \n",
    "    ord(u'\\u2014') : u'', # get rid of em dashes\n",
    "}\n",
    "transcript_lower = transcript_lower.translate(table)\n",
    "print transcript_lower"
   ]
  },
  {
   "cell_type": "markdown",
   "metadata": {},
   "source": [
    "Now we want to strip out all of the punctuation so that we're left with just the words. \n",
    "이제, 우리는 모든 구두점을 없애려고 한다. 그래서, 단지 단어들만 남길려고 한다."
   ]
  },
  {
   "cell_type": "code",
   "execution_count": 5,
   "metadata": {
    "collapsed": false
   },
   "outputs": [
    {
     "name": "stdout",
     "output_type": "stream",
     "text": [
      "mr  speaker  mr  vice president  members of congress  my fellow americans \n",
      "\n",
      "tonight marks the eighth year that i've come here to report on the state of the union  and for this final one  i'm going to try to make it a little shorter   applause   i know some of you are antsy to get back to iowa   laughter   i've been there  i'll be shaking hands afterwards if you want some tips   laughter  \n",
      "\n",
      "and i understand that because it's an election season  expectations for what we will achieve this year are low  but  mr  speaker  i appreciate the constructive approach that you and the other leaders took at the end of last year to pass a budget and make tax cuts permanent for working families  so i hope we can work together this year on some bipartisan priorities like criminal justice reform     applause     and helping people who are battling prescription drug abuse and heroin abuse   applause   so  who knows  we might surprise the cynics again \n",
      "\n",
      "but tonight  i want to go easy on the traditional list of proposals for the year ahead  don't worry  i've got plenty  from helping students learn to write computer code to personalizing medical treatments for patients  and i will keep pushing for progress on the work that i believe still needs to be done  fixing a broken immigration system   applause   protecting our kids from gun violence   applause   equal pay for equal work   applause   paid leave   applause   raising the minimum wage   applause   all these things still matter to hardworking families  they're still the right thing to do  and i won't let up until they get done \n",
      "\n",
      "but for my final address to this chamber  i don't want to just talk about next year  i want to focus on the next five years  the next 10 years  and beyond  i want to focus on our future \n",
      "\n",
      "we live in a time of extraordinary change    change that's reshaping the way we live  the way we work  our planet  our place in the world  it's change that promises amazing medical breakthroughs  but also economic disruptions that strain working families  it promises education for girls in the most remote villages  but also connects terrorists plotting an ocean away  it's change that can broaden opportunity  or widen inequality  and whether we like it or not  the pace of this change will only accelerate \n",
      "\n",
      " america has been through big changes before    wars and depression  the influx of new immigrants  workers fighting for a fair deal  movements to expand civil rights  each time  there have been those who told us to fear the future  who claimed we could slam the brakes on change  who promised to restore past glory if we just got some group or idea that was threatening america under control  and each time  we overcame those fears  we did not  in the words of lincoln  adhere to the  dogmas of the quiet past   instead we thought anew  and acted anew  we made change work for us  always extending america's promise outward  to the next frontier  to more people  and because we did    because we saw opportunity where others saw only peril    we emerged stronger and better than before \n",
      "\n",
      "what was true then can be true now  our unique strengths as a nation    our optimism and work ethic  our spirit of discovery  our diversity  our commitment to rule of law    these things give us everything we need to ensure prosperity and security for generations to come \n",
      "\n",
      "in fact  it's that spirit that made the progress of these past seven years possible   it's how we recovered from the worst economic crisis in generations   it's how we reformed our health care system  and reinvented our energy sector  how we delivered more care and benefits to our troops and veterans  and how we secured the freedom in every state to marry the person we love \n",
      "\n",
      "but such progress is not inevitable  it's the result of choices we make together  and we face such choices right now  will we respond to the changes of our time with fear  turning inward as a nation  turning against each other as a people  or will we face the future with confidence in who we are  in what we stand for  in the incredible things that we can do together \n",
      "\n",
      "so let's talk about the future  and four big questions that i believe we as a country have to answer    regardless of who the next president is  or who controls the next congress \n",
      "\n",
      "first  how do we give everyone a fair shot at opportunity and security in this new economy   applause  \n",
      "\n",
      "second  how do we make technology work for us  and not against us    especially when it comes to solving urgent challenges like climate change   applause  \n",
      "\n",
      "third  how do we keep america safe and lead the world without becoming its policeman   applause  \n",
      "\n",
      "and finally  how can we make our politics reflect what's best in us  and not what's worst \n",
      "\n",
      "let me start with the economy  and a basic fact  the united states of america  right now  has the strongest  most durable economy in the world   applause   we're in the middle of the longest streak of private sector job creation in history   applause   more than 14 million new jobs  the strongest two years of job growth since the '90s  an unemployment rate cut in half  our auto industry just had its best year ever   applause   that's just part of a manufacturing surge that's created nearly 900 000 new jobs in the past six years  and we've done all this while cutting our deficits by almost three quarters   applause  \n",
      "\n",
      "anyone claiming that america's economy is in decline is peddling fiction   applause   now  what is true    and the reason that a lot of americans feel anxious    is that the economy has been changing in profound ways  changes that started long before the great recession hit  changes that have not let up \n",
      "\n",
      "today  technology doesn't just replace jobs on the assembly line  but any job where work can be automated  companies in a global economy can locate anywhere  and they face tougher competition  as a result  workers have less leverage for a raise  companies have less loyalty to their communities  and more and more wealth and income is concentrated at the very top \n",
      "\n",
      "all these trends have squeezed workers  even when they have jobs  even when the economy is growing  it's made it harder for a hardworking family to pull itself out of poverty  harder for young people to start their careers  tougher for workers to retire when they want to  and although none of these trends are unique to america  they do offend our uniquely american belief that everybody who works hard should get a fair shot \n",
      "\n",
      "for the past seven years  our goal has been a growing economy that works also better for everybody  we've made progress  but we need to make more  and despite all the political arguments that we've had these past few years  there are actually some areas where americans broadly agree \n",
      "\n",
      "we agree that real opportunity requires every american to get the education and training they need to land a good paying job  the bipartisan reform of no child left behind was an important start  and together  we've increased early childhood education  lifted high school graduation rates to new highs  boosted graduates in fields like engineering  in the coming years  we should build on that progress  by providing pre k for all and     applause     offering every student the hands on computer science and math classes that make them job ready on day one  we should recruit and support more great teachers for our kids   applause  \n",
      "\n",
      "and we have to make college affordable for every american   applause   no hardworking student should be stuck in the red  we've already reduced student loan payments to 10 percent of a borrower's income  and that's good  but now  we've actually got to cut the cost of college   applause   providing two years of community college at no cost for every responsible student is one of the best ways to do that  and i'm going to keep fighting to get that started this year   applause   it's the right thing to do   applause  \n",
      "\n",
      "but a great education isn't all we need in this new economy  we also need benefits and protections that provide a basic measure of security  it's not too much of a stretch to say that some of the only people in america who are going to work the same job  in the same place  with a health and retirement package for 30 years are sitting in this chamber   laughter   for everyone else  especially folks in their 40s and 50s  saving for retirement or bouncing back from job loss has gotten a lot tougher  americans understand that at some point in their careers  in this new economy  they may have to retool and they may have to retrain  but they shouldn't lose what they've already worked so hard to build in the process \n",
      "\n",
      "that's why social security and medicare are more important than ever  we shouldn't weaken them  we should strengthen them   applause   and for americans short of retirement  basic benefits should be just as mobile as everything else is today  that  by the way  is what the affordable care act is all about  it's about filling the gaps in employer based care so that when you lose a job  or you go back to school  or you strike out and launch that new business  you'll still have coverage  nearly 18 million people have gained coverage so far   applause   and in the process  health care inflation has slowed  and our businesses have created jobs every single month since it became law \n",
      "\n",
      "now  i'm guessing we won't agree on health care anytime soon   applause   a little applause right there   laughter   just a guess  but there should be other ways parties can work together to improve economic security  say a hardworking american loses his job    we shouldn't just make sure that he can get unemployment insurance  we should make sure that program encourages him to retrain for a business that's ready to hire him  if that new job doesn't pay as much  there should be a system of wage insurance in place so that he can still pay his bills  and even if he's going from job to job  he should still be able to save for retirement and take his savings with him  that's the way we make the new economy work better for everybody \n",
      "\n",
      "i also know speaker ryan has talked about his interest in tackling poverty  america is about giving everybody willing to work a chance  a hand up  and i'd welcome a serious discussion about strategies we can all support  like expanding tax cuts for low income workers who don't have children   applause  \n",
      "\n",
      "but there are some areas where we just have to be honest    it has been difficult to find agreement over the last seven years  and a lot of them fall under the category of what role the government should play in making sure the system's not rigged in favor of the wealthiest and biggest corporations   applause   and it's an honest disagreement  and the american people have a choice to make \n",
      "\n",
      "i believe a thriving private sector is the lifeblood of our economy  i think there are outdated regulations that need to be changed  there is red tape that needs to be cut   applause   there you go  yes   applause   but after years now of record corporate profits  working families won't get more opportunity or bigger paychecks just by letting big banks or big oil or hedge funds make their own rules at everybody else's expense   applause   middle class families are not going to feel more secure because we allowed attacks on collective bargaining to go unanswered  food stamp recipients did not cause the financial crisis  recklessness on wall street did   applause   immigrants aren't the principal reason wages haven't gone up  those decisions are made in the boardrooms that all too often put quarterly earnings over long term returns  it's sure not the average family watching tonight that avoids paying taxes through offshore accounts   applause  \n",
      "\n",
      "the point is  i believe that in this new economy  workers and start ups and small businesses need more of a voice  not less  the rules should work for them   applause   and i'm not alone in this  this year i plan to lift up the many businesses who've figured out that doing right by their workers or their customers or their communities ends up being good for their shareholders   applause   and i want to spread those best practices across america  that's part of a brighter future   applause  \n",
      "\n",
      "in fact  it turns out many of our best corporate citizens are also our most creative  and this brings me to the second big question we as a country have to answer  how do we reignite that spirit of innovation to meet our biggest challenges \n",
      "\n",
      "sixty years ago  when the russians beat us into space  we didn't deny sputnik was up there   laughter   we didn't argue about the science  or shrink our research and development budget  we built a space program almost overnight  and 12 years later  we were walking on the moon   applause  \n",
      "\n",
      "now  that spirit of discovery is in our dna  america is thomas edison and the wright brothers and george washington carver  america is grace hopper and katherine johnson and sally ride  america is every immigrant and entrepreneur from boston to austin to silicon valley  racing to shape a better world   applause   that's who we are \n",
      "\n",
      "and over the past seven years  we've nurtured that spirit  we've protected an open internet  and taken bold new steps to get more students and low income americans online   applause   we've launched next generation manufacturing hubs  and online tools that give an entrepreneur everything he or she needs to start a business in a single day  but we can do so much more \n",
      "\n",
      "last year  vice president biden said that with a new moonshot  america can cure cancer  last month  he worked with this congress to give scientists at the national institutes of health the strongest resources that they've had in over a decade   applause   so tonight  i'm announcing a new national effort to get it done  and because he's gone to the mat for all of us on so many issues over the past 40 years  i'm putting joe in charge of mission control   applause   for the loved ones we've all lost  for the families that we can still save  let's make america the country that cures cancer once and for all   applause  \n",
      "\n",
      "medical research is critical  we need the same level of commitment when it comes to developing clean energy sources   applause   look  if anybody still wants to dispute the science around climate change  have at it  you will be pretty lonely  because you'll be debating our military  most of america's business leaders  the majority of the american people  almost the entire scientific community  and 200 nations around the world who agree it's a problem and intend to solve it   applause  \n",
      "\n",
      "but even if    even if the planet wasn't at stake  even if 2014 wasn't the warmest year on record    until 2015 turned out to be even hotter    why would we want to pass up the chance for american businesses to produce and sell the energy of the future   applause  \n",
      "\n",
      "listen  seven years ago  we made the single biggest investment in clean energy in our history  here are the results  in fields from iowa to texas  wind power is now cheaper than dirtier  conventional power  on rooftops from arizona to new york  solar is saving americans tens of millions of dollars a year on their energy bills  and employs more americans than coal    in jobs that pay better than average  we're taking steps to give homeowners the freedom to generate and store their own energy    something  by the way  that environmentalists and tea partiers have teamed up to support  and meanwhile  we've cut our imports of foreign oil by nearly 60 percent  and cut carbon pollution more than any other country on earth   applause  \n",
      "\n",
      "gas under two bucks a gallon ain't bad  either   applause  \n",
      "\n",
      "now we've got to accelerate the transition away from old  dirtier energy sources  rather than subsidize the past  we should invest in the future    especially in communities that rely on fossil fuels  we do them no favor when we don't show them where the trends are going  that's why i'm going to push to change the way we manage our oil and coal resources  so that they better reflect the costs they impose on taxpayers and our planet  and that way  we put money back into those communities  and put tens of thousands of americans to work building a 21st century transportation system   applause  \n",
      "\n",
      "now  none of this is going to happen overnight  and  yes  there are plenty of entrenched interests who want to protect the status quo  but the jobs we'll create  the money we'll save  the planet we'll preserve    that is the kind of future our kids and our grandkids deserve  and it's within our grasp \n",
      "\n",
      "climate change is just one of many issues where our security is linked to the rest of the world  and that's why the third big question that we have to answer together is how to keep america safe and strong without either isolating ourselves or trying to nation build everywhere there's a problem \n",
      "\n",
      "i told you earlier all the talk of america's economic decline is political hot air  well  so is all the rhetoric you hear about our enemies getting stronger and america getting weaker  let me tell you something  the united states of america is the most powerful nation on earth  period   applause   period  it's not even close  it's not even close   applause   it's not even close  we spend more on our military than the next eight nations combined  our troops are the finest fighting force in the history of the world   applause   no nation attacks us directly  or our allies  because they know that's the path to ruin  surveys show our standing around the world is higher than when i was elected to this office  and when it comes to every important international issue  people of the world do not look to beijing or moscow to lead    they call us   applause  \n",
      "\n",
      "i mean  it's useful to level the set here  because when we don't  we don't make good decisions \n",
      "\n",
      "now  as someone who begins every day with an intelligence briefing  i know this is a dangerous time  but that's not primarily because of some looming superpower out there  and certainly not because of diminished american strength  in today's world  we're threatened less by evil empires and more by failing states \n",
      "\n",
      "the middle east is going through a transformation that will play out for a generation  rooted in conflicts that date back millennia  economic headwinds are blowing in from a chinese economy that is in significant transition  even as their economy severely contracts  russia is pouring resources in to prop up ukraine and syria    client states that they saw slipping away from their orbit  and the international system we built after world war ii is now struggling to keep pace with this new reality \n",
      "\n",
      "it's up to us  the united states of america  to help remake that system  and to do that well it means that we've got to set priorities \n",
      "\n",
      "priority number one is protecting the american people and going after terrorist networks   applause   both al qaeda and now isil pose a direct threat to our people  because in today's world  even a handful of terrorists who place no value on human life  including their own  can do a lot of damage  they use the internet to poison the minds of individuals inside our country  their actions undermine and destabilize our allies  we have to take them out  p \n",
      "\n",
      "but as we focus on destroying isil  over the top claims that this is world war iii just play into their hands  masses of fighters on the back of pickup trucks  twisted souls plotting in apartments or garages    they pose an enormous danger to civilians  they have to be stopped  but they do not threaten our national existence   applause   that is the story isil wants to tell  that's the kind of propaganda they use to recruit  we don't need to build them up to show that we're serious  and we sure don't need to push away vital allies in this fight by echoing the lie that isil is somehow representative of one of the world's largest religions   applause   we just need to call them what they are    killers and fanatics who have to be rooted out  hunted down  and destroyed   applause  \n",
      "\n",
      "and that's exactly what we're doing  for more than a year  america has led a coalition of more than 60 countries to cut off isil's financing  disrupt their plots  stop the flow of terrorist fighters  and stamp out their vicious ideology  with nearly 10 000 air strikes  we're taking out their leadership  their oil  their training camps  their weapons  we're training  arming  and supporting forces who are steadily reclaiming territory in iraq and syria \n",
      "\n",
      "if this congress is serious about winning this war  and wants to send a message to our troops and the world  authorize the use of military force against isil  take a vote   applause   take a vote  but the american people should know that with or without congressional action  isil will learn the same lessons as terrorists before them  if you doubt america's commitment    or mine    to see that justice is done  just ask osama bin laden   applause   ask the leader of al qaeda in yemen  who was taken out last year  or the perpetrator of the benghazi attacks  who sits in a prison cell  when you come after americans  we go after you   applause   and it may take time  but we have long memories  and our reach has no limits   applause  \n",
      "\n",
      "our foreign policy hast to be focused on the threat from isil and al qaeda  but it can't stop there  for even without isil  even without al qaeda  instability will continue for decades in many parts of the world    in the middle east  in afghanistan  parts of pakistan  in parts of central america  in africa  and asia  some of these places may become safe havens for new terrorist networks  others will just fall victim to ethnic conflict  or famine  feeding the next wave of refugees  the world will look to us to help solve these problems  and our answer needs to be more than tough talk or calls to carpet bomb civilians  that may work as a tv sound bite  but it doesn't pass muster on the world stage \n",
      "\n",
      "we also can't try to take over and rebuild every country that falls into crisis  even if it's done with the best of intentions   applause   that's not leadership  that's a recipe for quagmire  spilling american blood and treasure that ultimately will weaken us  it's the lesson of vietnam  it's the lesson of iraq    and we should have learned it by now   applause  \n",
      "\n",
      "fortunately  there is a smarter approach  a patient and disciplined strategy that uses every element of our national power  it says america will always act  alone if necessary  to protect our people and our allies  but on issues of global concern  we will mobilize the world to work with us  and make sure other countries pull their own weight \n",
      "\n",
      "that's our approach to conflicts like syria  where we're partnering with local forces and leading international efforts to help that broken society pursue a lasting peace \n",
      "\n",
      "that's why we built a global coalition  with sanctions and principled diplomacy  to prevent a nuclear armed iran  and as we speak  iran has rolled back its nuclear program  shipped out its uranium stockpile  and the world has avoided another war   applause  \n",
      "\n",
      "that's how we stopped the spread of ebola in west africa   applause   our military  our doctors  our development workers    they were heroic  they set up the platform that then allowed other countries to join in behind us and stamp out that epidemic  hundreds of thousands  maybe a couple million lives were saved \n",
      "\n",
      "that's how we forged a trans pacific partnership to open markets  and protect workers and the environment  and advance american leadership in asia  it cuts 18 000 taxes on products made in america  which will then support more good jobs here in america  with tpp  china does not set the rules in that region  we do  you want to show our strength in this new century  approve this agreement  give us the tools to enforce it  it's the right thing to do   applause  \n",
      "\n",
      "let me give you another example  fifty years of isolating cuba had failed to promote democracy  and set us back in latin america  that's why we restored diplomatic relations     applause     opened the door to travel and commerce  positioned ourselves to improve the lives of the cuban people   applause   so if you want to consolidate our leadership and credibility in the hemisphere  recognize that the cold war is over    lift the embargo   applause  \n",
      "\n",
      "the point is american leadership in the 21st century is not a choice between ignoring the rest of the world    except when we kill terrorists    or occupying and rebuilding whatever society is unraveling  leadership means a wise application of military power  and rallying the world behind causes that are right  it means seeing our foreign assistance as a part of our national security  not something separate  not charity \n",
      "\n",
      "when we lead nearly 200 nations to the most ambitious agreement in history to fight climate change  yes  that helps vulnerable countries  but it also protects our kids  when we help ukraine defend its democracy  or colombia resolve a decades long war  that strengthens the international order we depend on  when we help african countries feed their people and care for the sick     applause     it's the right thing to do  and it prevents the next pandemic from reaching our shores  right now  we're on track to end the scourge of hiv aids  that's within our grasp   applause   and we have the chance to accomplish the same thing with malaria    something i'll be pushing this congress to fund this year   applause  \n",
      "\n",
      "that's american strength  that's american leadership  and that kind of leadership depends on the power of our example  that's why i will keep working to shut down the prison at guantanamo   applause   it is expensive  it is unnecessary  and it only serves as a recruitment brochure for our enemies   applause   there's a better way   applause  \n",
      "\n",
      "and that's why we need to reject any politics    any politics    that targets people because of race or religion   applause   let me just say this  this is not a matter of political correctness  this is a matter of understanding just what it is that makes us strong  the world respects us not just for our arsenal  it respects us for our diversity  and our openness  and the way we respect every faith \n",
      "\n",
      "his holiness  pope francis  told this body from the very spot that i'm standing on tonight that  to imitate the hatred and violence of tyrants and murderers is the best way to take their place   when politicians insult muslims  whether abroad or our fellow citizens  when a mosque is vandalized  or a kid is called names  that doesn't make us safer  that's not telling it like it is  it's just wrong   applause   it diminishes us in the eyes of the world  it makes it harder to achieve our goals  it betrays who we are as a country   applause  \n",
      "\n",
      " we the people   our constitution begins with those three simple words  words we've come to recognize mean all the people  not just some  words that insist we rise and fall together  and that's how we might perfect our union  and that brings me to the fourth  and maybe the most important thing that i want to say tonight \n",
      "\n",
      "the future we want    all of us want    opportunity and security for our families  a rising standard of living  a sustainable  peaceful planet for our kids    all that is within our reach  but it will only happen if we work together  it will only happen if we can have rational  constructive debates  it will only happen if we fix our politics \n",
      "\n",
      "a better politics doesn't mean we have to agree on everything  this is a big country    different regions  different attitudes  different interests  that's one of our strengths  too  our founders distributed power between states and branches of government  and expected us to argue  just as they did  fiercely  over the size and shape of government  over commerce and foreign relations  over the meaning of liberty and the imperatives of security \n",
      "\n",
      "but democracy does require basic bonds of trust between its citizens  it doesn't work if we think the people who disagree with us are all motivated by malice  it doesn't work if we think that our political opponents are unpatriotic or trying to weaken america  democracy grinds to a halt without a willingness to compromise  or when even basic facts are contested  or when we listen only to those who agree with us  our public life withers when only the most extreme voices get all the attention  and most of all  democracy breaks down when the average person feels their voice doesn't matter  that the system is rigged in favor of the rich or the powerful or some special interest \n",
      "\n",
      "too many americans feel that way right now  it's one of the few regrets of my presidency    that the rancor and suspicion between the parties has gotten worse instead of better  i have no doubt a president with the gifts of lincoln or roosevelt might have better bridged the divide  and i guarantee i'll keep trying to be better so long as i hold this office \n",
      "\n",
      "but  my fellow americans  this cannot be my task    or any president's    alone  there are a whole lot of folks in this chamber  good people who would like to see more cooperation  would like to see a more elevated debate in washington  but feel trapped by the imperatives of getting elected  by the noise coming out of your base  i know  you've told me  it's the worst kept secret in washington  and a lot of you aren't enjoying being trapped in that kind of rancor \n",
      "\n",
      "but that means if we want a better politics    and i'm addressing the american people now    if we want a better politics  it's not enough just to change a congressman or change a senator or even change a president  we have to change the system to reflect our better selves  i think we've got to end the practice of drawing our congressional districts so that politicians can pick their voters  and not the other way around   applause   let a bipartisan group do it   applause  \n",
      "\n",
      "we have to reduce the influence of money in our politics  so that a handful of families or hidden interests can't bankroll our elections   applause   and if our existing approach to campaign finance reform can't pass muster in the courts  we need to work together to find a real solution    because it's a problem  and most of you don't like raising money  i know  i've done it   applause   we've got to make it easier to vote  not harder   applause   we need to modernize it for the way we live now   applause   this is america  we want to make it easier for people to participate  and over the course of this year  i intend to travel the country to push for reforms that do just that \n",
      "\n",
      "but i can't do these things on my own   applause   changes in our political process    in not just who gets elected  but how they get elected    that will only happen when the american people demand it  it depends on you  that's what's meant by a government of  by  and for the people \n",
      "\n",
      "what i'm suggesting is hard  it's a lot easier to be cynical  to accept that change is not possible  and politics is hopeless  and the problem is all the folks who are elected don't care  and to believe that our voices and actions don't matter  but if we give up now  then we forsake a better future  those with money and power will gain greater control over the decisions that could send a young soldier to war  or allow another economic disaster  or roll back the equal rights and voting rights that generations of americans have fought  even died  to secure  and then  as frustration grows  there will be voices urging us to fall back into our respective tribes  to scapegoat fellow citizens who don't look like us  or pray like us  or vote like we do  or share the same background \n",
      "\n",
      "we can't afford to go down that path  it won't deliver the economy we want  it will not produce the security we want  but most of all  it contradicts everything that makes us the envy of the world \n",
      "\n",
      "so  my fellow americans  whatever you may believe  whether you prefer one party or no party  whether you supported my agenda or fought as hard as you could against it    our collective futures depends on your willingness to uphold your duties as a citizen  to vote  to speak out  to stand up for others  especially the weak  especially the vulnerable  knowing that each of us is only here because somebody  somewhere  stood up for us   applause   we need every american to stay active in our public life    and not just during election time    so that our public life reflects the goodness and the decency that i see in the american people every single day \n",
      "\n",
      "it is not easy  our brand of democracy is hard  but i can promise that a little over a year from now  when i no longer hold this office  i will be right there with you as a citizen  inspired by those voices of fairness and vision  of grit and good humor and kindness that helped america travel so far  voices that help us see ourselves not  first and foremost  as black or white  or asian or latino  not as gay or straight  immigrant or native born  not as democrat or republican  but as americans first  bound by a common creed  voices dr  king believed would have the final word    voices of unarmed truth and unconditional love \n",
      "\n",
      "and they're out there  those voices  they don't get a lot of attention  they don't seek a lot of fanfare  but they're busy doing the work this country needs doing  i see them everywhere i travel in this incredible country of ours  i see you  the american people  and in your daily acts of citizenship  i see our future unfolding \n",
      "\n",
      "i see it in the worker on the assembly line who clocked extra shifts to keep his company open  and the boss who pays him higher wages instead of laying him off \n",
      "\n",
      "i see it in the dreamer who stays up late at night to finish her science project  and the teacher who comes in early  and maybe with some extra supplies that she bought because she knows that that young girl might someday cure a disease \n",
      "\n",
      "i see it in the dreamer who stays up late to finish her science project  and the teacher who comes in early because he knows she might someday cure a disease \n",
      "\n",
      "i see it in the american who served his time  and bad mistakes as a child but now is dreaming of starting over    and i see it in the business owner who gives him that second chance  the protester determined to prove that justice matters    and the young cop walking the beat  treating everybody with respect  doing the brave  quiet work of keeping us safe   applause  \n",
      "\n",
      "i see it in the soldier who gives almost everything to save his brothers  the nurse who tends to him till he can run a marathon  the community that lines up to cheer him on \n",
      "\n",
      "it's the son who finds the courage to come out as who he is  and the father whose love for that son overrides everything he's been taught   applause  \n",
      "\n",
      "i see it in the elderly woman who will wait in line to cast her vote as long as she has to  the new citizen who casts his vote for the first time  the volunteers at the polls who believe every vote should count    because each of them in different ways know how much that precious right is worth \n",
      "\n",
      "that's the america i know  that's the country we love  clear eyed  big hearted  undaunted by challenge  optimistic that unarmed truth and unconditional love will have the final word   applause   that's what makes me so hopeful about our future  i believe in change because i believe in you  the american people \n",
      "\n",
      "and that's why i stand here confident as i have ever been that the state of our union is strong   applause  \n",
      "\n",
      "thank you  god bless you  god bless the united states of america \n"
     ]
    }
   ],
   "source": [
    "import string\n",
    "\n",
    "def remove_punctuation(text):\n",
    "    # Grab the list of standard punctuation symbols that are provided in the string library\n",
    "    punctuations = string.punctuation # includes following characters: !\"#$%&\\'()*+,-./:;<=>?@[\\\\]^_`{|}~\n",
    "\n",
    "    # But don't strip out apostrophes, as we want to preserve possessives and contractions, an alternative would be to expand contractions\n",
    "    excluded_punctuations = [\"'\"]\n",
    "    for p in punctuations:\n",
    "        if p not in excluded_punctuations:\n",
    "            # replace each punctuation symbol by a space\n",
    "            text = text.replace(p, \" \") \n",
    "\n",
    "    return text\n",
    "\n",
    "transcript_lower = remove_punctuation(transcript_lower)\n",
    "print transcript_lower"
   ]
  },
  {
   "cell_type": "markdown",
   "metadata": {},
   "source": [
    "In some cases multiple punctuations in a row were removed, resulting in larger gaps of 2 or more spaces. \n",
    "경우에 따라서, 여러번 구두점이 행으로 연결된 경우 제거됨 (2가지 이상의 캡인 경우)\n",
    "\n",
    "We want to condense these down to only a single space which will result in a solid block of text with each word separated by only one space.\n",
    "우리는 단지 하나의 스페이스로 요약하려고 함. 결과적으로 각 언어들은 하나의 스페이스로 구분됨."
   ]
  },
  {
   "cell_type": "code",
   "execution_count": 6,
   "metadata": {
    "collapsed": false
   },
   "outputs": [
    {
     "data": {
      "text/plain": [
       "u\"mr speaker mr vice president members of congress my fellow americans tonight marks the eighth year that i've come here to report on the state of the union and for this final one i'm going to try to make it a little shorter applause i know some of you are antsy to get back to iowa laughter i've been there i'll be shaking hands afterwards if you want some tips laughter and i understand that because it's an election season expectations for what we will achieve this year are low but mr speaker i appreciate the constructive approach that you and the other leaders took at the end of last year to pass a budget and make tax cuts permanent for working families so i hope we can work together this year on some bipartisan priorities like criminal justice reform applause and helping people who are battling prescription drug abuse and heroin abuse applause so who knows we might surprise the cynics again but tonight i want to go easy on the traditional list of proposals for the year ahead don't worry i've got plenty from helping students learn to write computer code to personalizing medical treatments for patients and i will keep pushing for progress on the work that i believe still needs to be done fixing a broken immigration system applause protecting our kids from gun violence applause equal pay for equal work applause paid leave applause raising the minimum wage applause all these things still matter to hardworking families they're still the right thing to do and i won't let up until they get done but for my final address to this chamber i don't want to just talk about next year i want to focus on the next five years the next 10 years and beyond i want to focus on our future we live in a time of extraordinary change change that's reshaping the way we live the way we work our planet our place in the world it's change that promises amazing medical breakthroughs but also economic disruptions that strain working families it promises education for girls in the most remote villages but also connects terrorists plotting an ocean away it's change that can broaden opportunity or widen inequality and whether we like it or not the pace of this change will only accelerate america has been through big changes before wars and depression the influx of new immigrants workers fighting for a fair deal movements to expand civil rights each time there have been those who told us to fear the future who claimed we could slam the brakes on change who promised to restore past glory if we just got some group or idea that was threatening america under control and each time we overcame those fears we did not in the words of lincoln adhere to the dogmas of the quiet past instead we thought anew and acted anew we made change work for us always extending america's promise outward to the next frontier to more people and because we did because we saw opportunity where others saw only peril we emerged stronger and better than before what was true then can be true now our unique strengths as a nation our optimism and work ethic our spirit of discovery our diversity our commitment to rule of law these things give us everything we need to ensure prosperity and security for generations to come in fact it's that spirit that made the progress of these past seven years possible it's how we recovered from the worst economic crisis in generations it's how we reformed our health care system and reinvented our energy sector how we delivered more care and benefits to our troops and veterans and how we secured the freedom in every state to marry the person we love but such progress is not inevitable it's the result of choices we make together and we face such choices right now will we respond to the changes of our time with fear turning inward as a nation turning against each other as a people or will we face the future with confidence in who we are in what we stand for in the incredible things that we can do together so let's talk about the future and four big questions that i believe we as a country have to answer regardless of who the next president is or who controls the next congress first how do we give everyone a fair shot at opportunity and security in this new economy applause second how do we make technology work for us and not against us especially when it comes to solving urgent challenges like climate change applause third how do we keep america safe and lead the world without becoming its policeman applause and finally how can we make our politics reflect what's best in us and not what's worst let me start with the economy and a basic fact the united states of america right now has the strongest most durable economy in the world applause we're in the middle of the longest streak of private sector job creation in history applause more than 14 million new jobs the strongest two years of job growth since the '90s an unemployment rate cut in half our auto industry just had its best year ever applause that's just part of a manufacturing surge that's created nearly 900 000 new jobs in the past six years and we've done all this while cutting our deficits by almost three quarters applause anyone claiming that america's economy is in decline is peddling fiction applause now what is true and the reason that a lot of americans feel anxious is that the economy has been changing in profound ways changes that started long before the great recession hit changes that have not let up today technology doesn't just replace jobs on the assembly line but any job where work can be automated companies in a global economy can locate anywhere and they face tougher competition as a result workers have less leverage for a raise companies have less loyalty to their communities and more and more wealth and income is concentrated at the very top all these trends have squeezed workers even when they have jobs even when the economy is growing it's made it harder for a hardworking family to pull itself out of poverty harder for young people to start their careers tougher for workers to retire when they want to and although none of these trends are unique to america they do offend our uniquely american belief that everybody who works hard should get a fair shot for the past seven years our goal has been a growing economy that works also better for everybody we've made progress but we need to make more and despite all the political arguments that we've had these past few years there are actually some areas where americans broadly agree we agree that real opportunity requires every american to get the education and training they need to land a good paying job the bipartisan reform of no child left behind was an important start and together we've increased early childhood education lifted high school graduation rates to new highs boosted graduates in fields like engineering in the coming years we should build on that progress by providing pre k for all and applause offering every student the hands on computer science and math classes that make them job ready on day one we should recruit and support more great teachers for our kids applause and we have to make college affordable for every american applause no hardworking student should be stuck in the red we've already reduced student loan payments to 10 percent of a borrower's income and that's good but now we've actually got to cut the cost of college applause providing two years of community college at no cost for every responsible student is one of the best ways to do that and i'm going to keep fighting to get that started this year applause it's the right thing to do applause but a great education isn't all we need in this new economy we also need benefits and protections that provide a basic measure of security it's not too much of a stretch to say that some of the only people in america who are going to work the same job in the same place with a health and retirement package for 30 years are sitting in this chamber laughter for everyone else especially folks in their 40s and 50s saving for retirement or bouncing back from job loss has gotten a lot tougher americans understand that at some point in their careers in this new economy they may have to retool and they may have to retrain but they shouldn't lose what they've already worked so hard to build in the process that's why social security and medicare are more important than ever we shouldn't weaken them we should strengthen them applause and for americans short of retirement basic benefits should be just as mobile as everything else is today that by the way is what the affordable care act is all about it's about filling the gaps in employer based care so that when you lose a job or you go back to school or you strike out and launch that new business you'll still have coverage nearly 18 million people have gained coverage so far applause and in the process health care inflation has slowed and our businesses have created jobs every single month since it became law now i'm guessing we won't agree on health care anytime soon applause a little applause right there laughter just a guess but there should be other ways parties can work together to improve economic security say a hardworking american loses his job we shouldn't just make sure that he can get unemployment insurance we should make sure that program encourages him to retrain for a business that's ready to hire him if that new job doesn't pay as much there should be a system of wage insurance in place so that he can still pay his bills and even if he's going from job to job he should still be able to save for retirement and take his savings with him that's the way we make the new economy work better for everybody i also know speaker ryan has talked about his interest in tackling poverty america is about giving everybody willing to work a chance a hand up and i'd welcome a serious discussion about strategies we can all support like expanding tax cuts for low income workers who don't have children applause but there are some areas where we just have to be honest it has been difficult to find agreement over the last seven years and a lot of them fall under the category of what role the government should play in making sure the system's not rigged in favor of the wealthiest and biggest corporations applause and it's an honest disagreement and the american people have a choice to make i believe a thriving private sector is the lifeblood of our economy i think there are outdated regulations that need to be changed there is red tape that needs to be cut applause there you go yes applause but after years now of record corporate profits working families won't get more opportunity or bigger paychecks just by letting big banks or big oil or hedge funds make their own rules at everybody else's expense applause middle class families are not going to feel more secure because we allowed attacks on collective bargaining to go unanswered food stamp recipients did not cause the financial crisis recklessness on wall street did applause immigrants aren't the principal reason wages haven't gone up those decisions are made in the boardrooms that all too often put quarterly earnings over long term returns it's sure not the average family watching tonight that avoids paying taxes through offshore accounts applause the point is i believe that in this new economy workers and start ups and small businesses need more of a voice not less the rules should work for them applause and i'm not alone in this this year i plan to lift up the many businesses who've figured out that doing right by their workers or their customers or their communities ends up being good for their shareholders applause and i want to spread those best practices across america that's part of a brighter future applause in fact it turns out many of our best corporate citizens are also our most creative and this brings me to the second big question we as a country have to answer how do we reignite that spirit of innovation to meet our biggest challenges sixty years ago when the russians beat us into space we didn't deny sputnik was up there laughter we didn't argue about the science or shrink our research and development budget we built a space program almost overnight and 12 years later we were walking on the moon applause now that spirit of discovery is in our dna america is thomas edison and the wright brothers and george washington carver america is grace hopper and katherine johnson and sally ride america is every immigrant and entrepreneur from boston to austin to silicon valley racing to shape a better world applause that's who we are and over the past seven years we've nurtured that spirit we've protected an open internet and taken bold new steps to get more students and low income americans online applause we've launched next generation manufacturing hubs and online tools that give an entrepreneur everything he or she needs to start a business in a single day but we can do so much more last year vice president biden said that with a new moonshot america can cure cancer last month he worked with this congress to give scientists at the national institutes of health the strongest resources that they've had in over a decade applause so tonight i'm announcing a new national effort to get it done and because he's gone to the mat for all of us on so many issues over the past 40 years i'm putting joe in charge of mission control applause for the loved ones we've all lost for the families that we can still save let's make america the country that cures cancer once and for all applause medical research is critical we need the same level of commitment when it comes to developing clean energy sources applause look if anybody still wants to dispute the science around climate change have at it you will be pretty lonely because you'll be debating our military most of america's business leaders the majority of the american people almost the entire scientific community and 200 nations around the world who agree it's a problem and intend to solve it applause but even if even if the planet wasn't at stake even if 2014 wasn't the warmest year on record until 2015 turned out to be even hotter why would we want to pass up the chance for american businesses to produce and sell the energy of the future applause listen seven years ago we made the single biggest investment in clean energy in our history here are the results in fields from iowa to texas wind power is now cheaper than dirtier conventional power on rooftops from arizona to new york solar is saving americans tens of millions of dollars a year on their energy bills and employs more americans than coal in jobs that pay better than average we're taking steps to give homeowners the freedom to generate and store their own energy something by the way that environmentalists and tea partiers have teamed up to support and meanwhile we've cut our imports of foreign oil by nearly 60 percent and cut carbon pollution more than any other country on earth applause gas under two bucks a gallon ain't bad either applause now we've got to accelerate the transition away from old dirtier energy sources rather than subsidize the past we should invest in the future especially in communities that rely on fossil fuels we do them no favor when we don't show them where the trends are going that's why i'm going to push to change the way we manage our oil and coal resources so that they better reflect the costs they impose on taxpayers and our planet and that way we put money back into those communities and put tens of thousands of americans to work building a 21st century transportation system applause now none of this is going to happen overnight and yes there are plenty of entrenched interests who want to protect the status quo but the jobs we'll create the money we'll save the planet we'll preserve that is the kind of future our kids and our grandkids deserve and it's within our grasp climate change is just one of many issues where our security is linked to the rest of the world and that's why the third big question that we have to answer together is how to keep america safe and strong without either isolating ourselves or trying to nation build everywhere there's a problem i told you earlier all the talk of america's economic decline is political hot air well so is all the rhetoric you hear about our enemies getting stronger and america getting weaker let me tell you something the united states of america is the most powerful nation on earth period applause period it's not even close it's not even close applause it's not even close we spend more on our military than the next eight nations combined our troops are the finest fighting force in the history of the world applause no nation attacks us directly or our allies because they know that's the path to ruin surveys show our standing around the world is higher than when i was elected to this office and when it comes to every important international issue people of the world do not look to beijing or moscow to lead they call us applause i mean it's useful to level the set here because when we don't we don't make good decisions now as someone who begins every day with an intelligence briefing i know this is a dangerous time but that's not primarily because of some looming superpower out there and certainly not because of diminished american strength in today's world we're threatened less by evil empires and more by failing states the middle east is going through a transformation that will play out for a generation rooted in conflicts that date back millennia economic headwinds are blowing in from a chinese economy that is in significant transition even as their economy severely contracts russia is pouring resources in to prop up ukraine and syria client states that they saw slipping away from their orbit and the international system we built after world war ii is now struggling to keep pace with this new reality it's up to us the united states of america to help remake that system and to do that well it means that we've got to set priorities priority number one is protecting the american people and going after terrorist networks applause both al qaeda and now isil pose a direct threat to our people because in today's world even a handful of terrorists who place no value on human life including their own can do a lot of damage they use the internet to poison the minds of individuals inside our country their actions undermine and destabilize our allies we have to take them out p but as we focus on destroying isil over the top claims that this is world war iii just play into their hands masses of fighters on the back of pickup trucks twisted souls plotting in apartments or garages they pose an enormous danger to civilians they have to be stopped but they do not threaten our national existence applause that is the story isil wants to tell that's the kind of propaganda they use to recruit we don't need to build them up to show that we're serious and we sure don't need to push away vital allies in this fight by echoing the lie that isil is somehow representative of one of the world's largest religions applause we just need to call them what they are killers and fanatics who have to be rooted out hunted down and destroyed applause and that's exactly what we're doing for more than a year america has led a coalition of more than 60 countries to cut off isil's financing disrupt their plots stop the flow of terrorist fighters and stamp out their vicious ideology with nearly 10 000 air strikes we're taking out their leadership their oil their training camps their weapons we're training arming and supporting forces who are steadily reclaiming territory in iraq and syria if this congress is serious about winning this war and wants to send a message to our troops and the world authorize the use of military force against isil take a vote applause take a vote but the american people should know that with or without congressional action isil will learn the same lessons as terrorists before them if you doubt america's commitment or mine to see that justice is done just ask osama bin laden applause ask the leader of al qaeda in yemen who was taken out last year or the perpetrator of the benghazi attacks who sits in a prison cell when you come after americans we go after you applause and it may take time but we have long memories and our reach has no limits applause our foreign policy hast to be focused on the threat from isil and al qaeda but it can't stop there for even without isil even without al qaeda instability will continue for decades in many parts of the world in the middle east in afghanistan parts of pakistan in parts of central america in africa and asia some of these places may become safe havens for new terrorist networks others will just fall victim to ethnic conflict or famine feeding the next wave of refugees the world will look to us to help solve these problems and our answer needs to be more than tough talk or calls to carpet bomb civilians that may work as a tv sound bite but it doesn't pass muster on the world stage we also can't try to take over and rebuild every country that falls into crisis even if it's done with the best of intentions applause that's not leadership that's a recipe for quagmire spilling american blood and treasure that ultimately will weaken us it's the lesson of vietnam it's the lesson of iraq and we should have learned it by now applause fortunately there is a smarter approach a patient and disciplined strategy that uses every element of our national power it says america will always act alone if necessary to protect our people and our allies but on issues of global concern we will mobilize the world to work with us and make sure other countries pull their own weight that's our approach to conflicts like syria where we're partnering with local forces and leading international efforts to help that broken society pursue a lasting peace that's why we built a global coalition with sanctions and principled diplomacy to prevent a nuclear armed iran and as we speak iran has rolled back its nuclear program shipped out its uranium stockpile and the world has avoided another war applause that's how we stopped the spread of ebola in west africa applause our military our doctors our development workers they were heroic they set up the platform that then allowed other countries to join in behind us and stamp out that epidemic hundreds of thousands maybe a couple million lives were saved that's how we forged a trans pacific partnership to open markets and protect workers and the environment and advance american leadership in asia it cuts 18 000 taxes on products made in america which will then support more good jobs here in america with tpp china does not set the rules in that region we do you want to show our strength in this new century approve this agreement give us the tools to enforce it it's the right thing to do applause let me give you another example fifty years of isolating cuba had failed to promote democracy and set us back in latin america that's why we restored diplomatic relations applause opened the door to travel and commerce positioned ourselves to improve the lives of the cuban people applause so if you want to consolidate our leadership and credibility in the hemisphere recognize that the cold war is over lift the embargo applause the point is american leadership in the 21st century is not a choice between ignoring the rest of the world except when we kill terrorists or occupying and rebuilding whatever society is unraveling leadership means a wise application of military power and rallying the world behind causes that are right it means seeing our foreign assistance as a part of our national security not something separate not charity when we lead nearly 200 nations to the most ambitious agreement in history to fight climate change yes that helps vulnerable countries but it also protects our kids when we help ukraine defend its democracy or colombia resolve a decades long war that strengthens the international order we depend on when we help african countries feed their people and care for the sick applause it's the right thing to do and it prevents the next pandemic from reaching our shores right now we're on track to end the scourge of hiv aids that's within our grasp applause and we have the chance to accomplish the same thing with malaria something i'll be pushing this congress to fund this year applause that's american strength that's american leadership and that kind of leadership depends on the power of our example that's why i will keep working to shut down the prison at guantanamo applause it is expensive it is unnecessary and it only serves as a recruitment brochure for our enemies applause there's a better way applause and that's why we need to reject any politics any politics that targets people because of race or religion applause let me just say this this is not a matter of political correctness this is a matter of understanding just what it is that makes us strong the world respects us not just for our arsenal it respects us for our diversity and our openness and the way we respect every faith his holiness pope francis told this body from the very spot that i'm standing on tonight that to imitate the hatred and violence of tyrants and murderers is the best way to take their place when politicians insult muslims whether abroad or our fellow citizens when a mosque is vandalized or a kid is called names that doesn't make us safer that's not telling it like it is it's just wrong applause it diminishes us in the eyes of the world it makes it harder to achieve our goals it betrays who we are as a country applause we the people our constitution begins with those three simple words words we've come to recognize mean all the people not just some words that insist we rise and fall together and that's how we might perfect our union and that brings me to the fourth and maybe the most important thing that i want to say tonight the future we want all of us want opportunity and security for our families a rising standard of living a sustainable peaceful planet for our kids all that is within our reach but it will only happen if we work together it will only happen if we can have rational constructive debates it will only happen if we fix our politics a better politics doesn't mean we have to agree on everything this is a big country different regions different attitudes different interests that's one of our strengths too our founders distributed power between states and branches of government and expected us to argue just as they did fiercely over the size and shape of government over commerce and foreign relations over the meaning of liberty and the imperatives of security but democracy does require basic bonds of trust between its citizens it doesn't work if we think the people who disagree with us are all motivated by malice it doesn't work if we think that our political opponents are unpatriotic or trying to weaken america democracy grinds to a halt without a willingness to compromise or when even basic facts are contested or when we listen only to those who agree with us our public life withers when only the most extreme voices get all the attention and most of all democracy breaks down when the average person feels their voice doesn't matter that the system is rigged in favor of the rich or the powerful or some special interest too many americans feel that way right now it's one of the few regrets of my presidency that the rancor and suspicion between the parties has gotten worse instead of better i have no doubt a president with the gifts of lincoln or roosevelt might have better bridged the divide and i guarantee i'll keep trying to be better so long as i hold this office but my fellow americans this cannot be my task or any president's alone there are a whole lot of folks in this chamber good people who would like to see more cooperation would like to see a more elevated debate in washington but feel trapped by the imperatives of getting elected by the noise coming out of your base i know you've told me it's the worst kept secret in washington and a lot of you aren't enjoying being trapped in that kind of rancor but that means if we want a better politics and i'm addressing the american people now if we want a better politics it's not enough just to change a congressman or change a senator or even change a president we have to change the system to reflect our better selves i think we've got to end the practice of drawing our congressional districts so that politicians can pick their voters and not the other way around applause let a bipartisan group do it applause we have to reduce the influence of money in our politics so that a handful of families or hidden interests can't bankroll our elections applause and if our existing approach to campaign finance reform can't pass muster in the courts we need to work together to find a real solution because it's a problem and most of you don't like raising money i know i've done it applause we've got to make it easier to vote not harder applause we need to modernize it for the way we live now applause this is america we want to make it easier for people to participate and over the course of this year i intend to travel the country to push for reforms that do just that but i can't do these things on my own applause changes in our political process in not just who gets elected but how they get elected that will only happen when the american people demand it it depends on you that's what's meant by a government of by and for the people what i'm suggesting is hard it's a lot easier to be cynical to accept that change is not possible and politics is hopeless and the problem is all the folks who are elected don't care and to believe that our voices and actions don't matter but if we give up now then we forsake a better future those with money and power will gain greater control over the decisions that could send a young soldier to war or allow another economic disaster or roll back the equal rights and voting rights that generations of americans have fought even died to secure and then as frustration grows there will be voices urging us to fall back into our respective tribes to scapegoat fellow citizens who don't look like us or pray like us or vote like we do or share the same background we can't afford to go down that path it won't deliver the economy we want it will not produce the security we want but most of all it contradicts everything that makes us the envy of the world so my fellow americans whatever you may believe whether you prefer one party or no party whether you supported my agenda or fought as hard as you could against it our collective futures depends on your willingness to uphold your duties as a citizen to vote to speak out to stand up for others especially the weak especially the vulnerable knowing that each of us is only here because somebody somewhere stood up for us applause we need every american to stay active in our public life and not just during election time so that our public life reflects the goodness and the decency that i see in the american people every single day it is not easy our brand of democracy is hard but i can promise that a little over a year from now when i no longer hold this office i will be right there with you as a citizen inspired by those voices of fairness and vision of grit and good humor and kindness that helped america travel so far voices that help us see ourselves not first and foremost as black or white or asian or latino not as gay or straight immigrant or native born not as democrat or republican but as americans first bound by a common creed voices dr king believed would have the final word voices of unarmed truth and unconditional love and they're out there those voices they don't get a lot of attention they don't seek a lot of fanfare but they're busy doing the work this country needs doing i see them everywhere i travel in this incredible country of ours i see you the american people and in your daily acts of citizenship i see our future unfolding i see it in the worker on the assembly line who clocked extra shifts to keep his company open and the boss who pays him higher wages instead of laying him off i see it in the dreamer who stays up late at night to finish her science project and the teacher who comes in early and maybe with some extra supplies that she bought because she knows that that young girl might someday cure a disease i see it in the dreamer who stays up late to finish her science project and the teacher who comes in early because he knows she might someday cure a disease i see it in the american who served his time and bad mistakes as a child but now is dreaming of starting over and i see it in the business owner who gives him that second chance the protester determined to prove that justice matters and the young cop walking the beat treating everybody with respect doing the brave quiet work of keeping us safe applause i see it in the soldier who gives almost everything to save his brothers the nurse who tends to him till he can run a marathon the community that lines up to cheer him on it's the son who finds the courage to come out as who he is and the father whose love for that son overrides everything he's been taught applause i see it in the elderly woman who will wait in line to cast her vote as long as she has to the new citizen who casts his vote for the first time the volunteers at the polls who believe every vote should count because each of them in different ways know how much that precious right is worth that's the america i know that's the country we love clear eyed big hearted undaunted by challenge optimistic that unarmed truth and unconditional love will have the final word applause that's what makes me so hopeful about our future i believe in change because i believe in you the american people and that's why i stand here confident as i have ever been that the state of our union is strong applause thank you god bless you god bless the united states of america\""
      ]
     },
     "execution_count": 6,
     "metadata": {},
     "output_type": "execute_result"
    }
   ],
   "source": [
    "\" \".join(transcript_lower.split())"
   ]
  },
  {
   "cell_type": "markdown",
   "metadata": {},
   "source": [
    "### Tokenization\n",
    "Tokenization is the process by which we split up a text into individual tokens. \n",
    "토큰화는 우리가 텍스트를 개별적인 개별 토큰들로 분할하는 과정이다.\n",
    "\n",
    "In this case we're interested in words as tokens. \n",
    "이와같은 경우, 우리는 토큰과 같은 단어에 관심이 있다.\n",
    "\n",
    "In other cases we might be interested in tokenizing at the level of paragraphs or sentences.\n",
    "다른 경우에, 우리는 단락 또는 문장 수준의 토큰화에 관심이 있을 수도 있다."
   ]
  },
  {
   "cell_type": "code",
   "execution_count": 7,
   "metadata": {
    "collapsed": false
   },
   "outputs": [
    {
     "name": "stdout",
     "output_type": "stream",
     "text": [
      "[u'mr', u'speaker', u'mr', u'vice', u'president', u'members', u'of', u'congress', u'my', u'fellow', u'americans', u'tonight', u'marks', u'the', u'eighth', u'year', u'that', u\"i've\", u'come', u'here', u'to', u'report', u'on', u'the', u'state', u'of', u'the', u'union', u'and', u'for', u'this', u'final', u'one', u\"i'm\", u'going', u'to', u'try', u'to', u'make', u'it', u'a', u'little', u'shorter', u'applause', u'i', u'know', u'some', u'of', u'you', u'are', u'antsy', u'to', u'get', u'back', u'to', u'iowa', u'laughter', u\"i've\", u'been', u'there', u\"i'll\", u'be', u'shaking', u'hands', u'afterwards', u'if', u'you', u'want', u'some', u'tips', u'laughter', u'and', u'i', u'understand', u'that', u'because', u\"it's\", u'an', u'election', u'season', u'expectations', u'for', u'what', u'we', u'will', u'achieve', u'this', u'year', u'are', u'low', u'but', u'mr', u'speaker', u'i', u'appreciate', u'the', u'constructive', u'approach', u'that', u'you', u'and', u'the', u'other', u'leaders', u'took', u'at', u'the', u'end', u'of', u'last', u'year', u'to', u'pass', u'a', u'budget', u'and', u'make', u'tax', u'cuts', u'permanent', u'for', u'working', u'families', u'so', u'i', u'hope', u'we', u'can', u'work', u'together', u'this', u'year', u'on', u'some', u'bipartisan', u'priorities', u'like', u'criminal', u'justice', u'reform', u'applause', u'and', u'helping', u'people', u'who', u'are', u'battling', u'prescription', u'drug', u'abuse', u'and', u'heroin', u'abuse', u'applause', u'so', u'who', u'knows', u'we', u'might', u'surprise', u'the', u'cynics', u'again', u'but', u'tonight', u'i', u'want', u'to', u'go', u'easy', u'on', u'the', u'traditional', u'list', u'of', u'proposals', u'for', u'the', u'year', u'ahead', u\"don't\", u'worry', u\"i've\", u'got', u'plenty', u'from', u'helping', u'students', u'learn', u'to', u'write', u'computer', u'code', u'to', u'personalizing', u'medical', u'treatments', u'for', u'patients', u'and', u'i', u'will', u'keep', u'pushing', u'for', u'progress', u'on', u'the', u'work', u'that', u'i', u'believe', u'still', u'needs', u'to', u'be', u'done', u'fixing', u'a', u'broken', u'immigration', u'system', u'applause', u'protecting', u'our', u'kids', u'from', u'gun', u'violence', u'applause', u'equal', u'pay', u'for', u'equal', u'work', u'applause', u'paid', u'leave', u'applause', u'raising', u'the', u'minimum', u'wage', u'applause', u'all', u'these', u'things', u'still', u'matter', u'to', u'hardworking', u'families', u\"they're\", u'still', u'the', u'right', u'thing', u'to', u'do', u'and', u'i', u\"won't\", u'let', u'up', u'until', u'they', u'get', u'done', u'but', u'for', u'my', u'final', u'address', u'to', u'this', u'chamber', u'i', u\"don't\", u'want', u'to', u'just', u'talk', u'about', u'next', u'year', u'i', u'want', u'to', u'focus', u'on', u'the', u'next', u'five', u'years', u'the', u'next', u'10', u'years', u'and', u'beyond', u'i', u'want', u'to', u'focus', u'on', u'our', u'future', u'we', u'live', u'in', u'a', u'time', u'of', u'extraordinary', u'change', u'change', u\"that's\", u'reshaping', u'the', u'way', u'we', u'live', u'the', u'way', u'we', u'work', u'our', u'planet', u'our', u'place', u'in', u'the', u'world', u\"it's\", u'change', u'that', u'promises', u'amazing', u'medical', u'breakthroughs', u'but', u'also', u'economic', u'disruptions', u'that', u'strain', u'working', u'families', u'it', u'promises', u'education', u'for', u'girls', u'in', u'the', u'most', u'remote', u'villages', u'but', u'also', u'connects', u'terrorists', u'plotting', u'an', u'ocean', u'away', u\"it's\", u'change', u'that', u'can', u'broaden', u'opportunity', u'or', u'widen', u'inequality', u'and', u'whether', u'we', u'like', u'it', u'or', u'not', u'the', u'pace', u'of', u'this', u'change', u'will', u'only', u'accelerate', u'america', u'has', u'been', u'through', u'big', u'changes', u'before', u'wars', u'and', u'depression', u'the', u'influx', u'of', u'new', u'immigrants', u'workers', u'fighting', u'for', u'a', u'fair', u'deal', u'movements', u'to', u'expand', u'civil', u'rights', u'each', u'time', u'there', u'have', u'been', u'those', u'who', u'told', u'us', u'to', u'fear', u'the', u'future', u'who', u'claimed', u'we', u'could', u'slam', u'the', u'brakes', u'on', u'change', u'who', u'promised', u'to', u'restore', u'past', u'glory', u'if', u'we', u'just', u'got', u'some', u'group', u'or', u'idea', u'that', u'was', u'threatening', u'america', u'under', u'control', u'and', u'each', u'time', u'we', u'overcame', u'those', u'fears', u'we', u'did', u'not', u'in', u'the', u'words', u'of', u'lincoln', u'adhere', u'to', u'the', u'dogmas', u'of', u'the', u'quiet', u'past', u'instead', u'we', u'thought', u'anew', u'and', u'acted', u'anew', u'we', u'made', u'change', u'work', u'for', u'us', u'always', u'extending', u\"america's\", u'promise', u'outward', u'to', u'the', u'next', u'frontier', u'to', u'more', u'people', u'and', u'because', u'we', u'did', u'because', u'we', u'saw', u'opportunity', u'where', u'others', u'saw', u'only', u'peril', u'we', u'emerged', u'stronger', u'and', u'better', u'than', u'before', u'what', u'was', u'true', u'then', u'can', u'be', u'true', u'now', u'our', u'unique', u'strengths', u'as', u'a', u'nation', u'our', u'optimism', u'and', u'work', u'ethic', u'our', u'spirit', u'of', u'discovery', u'our', u'diversity', u'our', u'commitment', u'to', u'rule', u'of', u'law', u'these', u'things', u'give', u'us', u'everything', u'we', u'need', u'to', u'ensure', u'prosperity', u'and', u'security', u'for', u'generations', u'to', u'come', u'in', u'fact', u\"it's\", u'that', u'spirit', u'that', u'made', u'the', u'progress', u'of', u'these', u'past', u'seven', u'years', u'possible', u\"it's\", u'how', u'we', u'recovered', u'from', u'the', u'worst', u'economic', u'crisis', u'in', u'generations', u\"it's\", u'how', u'we', u'reformed', u'our', u'health', u'care', u'system', u'and', u'reinvented', u'our', u'energy', u'sector', u'how', u'we', u'delivered', u'more', u'care', u'and', u'benefits', u'to', u'our', u'troops', u'and', u'veterans', u'and', u'how', u'we', u'secured', u'the', u'freedom', u'in', u'every', u'state', u'to', u'marry', u'the', u'person', u'we', u'love', u'but', u'such', u'progress', u'is', u'not', u'inevitable', u\"it's\", u'the', u'result', u'of', u'choices', u'we', u'make', u'together', u'and', u'we', u'face', u'such', u'choices', u'right', u'now', u'will', u'we', u'respond', u'to', u'the', u'changes', u'of', u'our', u'time', u'with', u'fear', u'turning', u'inward', u'as', u'a', u'nation', u'turning', u'against', u'each', u'other', u'as', u'a', u'people', u'or', u'will', u'we', u'face', u'the', u'future', u'with', u'confidence', u'in', u'who', u'we', u'are', u'in', u'what', u'we', u'stand', u'for', u'in', u'the', u'incredible', u'things', u'that', u'we', u'can', u'do', u'together', u'so', u\"let's\", u'talk', u'about', u'the', u'future', u'and', u'four', u'big', u'questions', u'that', u'i', u'believe', u'we', u'as', u'a', u'country', u'have', u'to', u'answer', u'regardless', u'of', u'who', u'the', u'next', u'president', u'is', u'or', u'who', u'controls', u'the', u'next', u'congress', u'first', u'how', u'do', u'we', u'give', u'everyone', u'a', u'fair', u'shot', u'at', u'opportunity', u'and', u'security', u'in', u'this', u'new', u'economy', u'applause', u'second', u'how', u'do', u'we', u'make', u'technology', u'work', u'for', u'us', u'and', u'not', u'against', u'us', u'especially', u'when', u'it', u'comes', u'to', u'solving', u'urgent', u'challenges', u'like', u'climate', u'change', u'applause', u'third', u'how', u'do', u'we', u'keep', u'america', u'safe', u'and', u'lead', u'the', u'world', u'without', u'becoming', u'its', u'policeman', u'applause', u'and', u'finally', u'how', u'can', u'we', u'make', u'our', u'politics', u'reflect', u\"what's\", u'best', u'in', u'us', u'and', u'not', u\"what's\", u'worst', u'let', u'me', u'start', u'with', u'the', u'economy', u'and', u'a', u'basic', u'fact', u'the', u'united', u'states', u'of', u'america', u'right', u'now', u'has', u'the', u'strongest', u'most', u'durable', u'economy', u'in', u'the', u'world', u'applause', u\"we're\", u'in', u'the', u'middle', u'of', u'the', u'longest', u'streak', u'of', u'private', u'sector', u'job', u'creation', u'in', u'history', u'applause', u'more', u'than', u'14', u'million', u'new', u'jobs', u'the', u'strongest', u'two', u'years', u'of', u'job', u'growth', u'since', u'the', u\"'90s\", u'an', u'unemployment', u'rate', u'cut', u'in', u'half', u'our', u'auto', u'industry', u'just', u'had', u'its', u'best', u'year', u'ever', u'applause', u\"that's\", u'just', u'part', u'of', u'a', u'manufacturing', u'surge', u\"that's\", u'created', u'nearly', u'900', u'000', u'new', u'jobs', u'in', u'the', u'past', u'six', u'years', u'and', u\"we've\", u'done', u'all', u'this', u'while', u'cutting', u'our', u'deficits', u'by', u'almost', u'three', u'quarters', u'applause', u'anyone', u'claiming', u'that', u\"america's\", u'economy', u'is', u'in', u'decline', u'is', u'peddling', u'fiction', u'applause', u'now', u'what', u'is', u'true', u'and', u'the', u'reason', u'that', u'a', u'lot', u'of', u'americans', u'feel', u'anxious', u'is', u'that', u'the', u'economy', u'has', u'been', u'changing', u'in', u'profound', u'ways', u'changes', u'that', u'started', u'long', u'before', u'the', u'great', u'recession', u'hit', u'changes', u'that', u'have', u'not', u'let', u'up', u'today', u'technology', u\"doesn't\", u'just', u'replace', u'jobs', u'on', u'the', u'assembly', u'line', u'but', u'any', u'job', u'where', u'work', u'can', u'be', u'automated', u'companies', u'in', u'a', u'global', u'economy', u'can', u'locate', u'anywhere', u'and', u'they', u'face', u'tougher', u'competition', u'as', u'a', u'result', u'workers', u'have', u'less', u'leverage', u'for', u'a', u'raise', u'companies', u'have', u'less', u'loyalty', u'to', u'their', u'communities', u'and', u'more', u'and', u'more', u'wealth', u'and', u'income', u'is', u'concentrated', u'at', u'the', u'very', u'top', u'all', u'these', u'trends', u'have', u'squeezed', u'workers', u'even', u'when', u'they', u'have', u'jobs', u'even', u'when', u'the', u'economy', u'is', u'growing', u\"it's\", u'made', u'it', u'harder', u'for', u'a', u'hardworking', u'family', u'to', u'pull', u'itself', u'out', u'of', u'poverty', u'harder', u'for', u'young', u'people', u'to', u'start', u'their', u'careers', u'tougher', u'for', u'workers', u'to', u'retire', u'when', u'they', u'want', u'to', u'and', u'although', u'none', u'of', u'these', u'trends', u'are', u'unique', u'to', u'america', u'they', u'do', u'offend', u'our', u'uniquely', u'american', u'belief', u'that', u'everybody', u'who', u'works', u'hard', u'should', u'get', u'a', u'fair', u'shot', u'for', u'the', u'past', u'seven', u'years', u'our', u'goal', u'has', u'been', u'a', u'growing', u'economy', u'that', u'works', u'also', u'better', u'for', u'everybody', u\"we've\", u'made', u'progress', u'but', u'we', u'need', u'to', u'make', u'more', u'and', u'despite', u'all', u'the', u'political', u'arguments', u'that', u\"we've\", u'had', u'these', u'past', u'few', u'years', u'there', u'are', u'actually', u'some', u'areas', u'where', u'americans', u'broadly', u'agree', u'we', u'agree', u'that', u'real', u'opportunity', u'requires', u'every', u'american', u'to', u'get', u'the', u'education', u'and', u'training', u'they', u'need', u'to', u'land', u'a', u'good', u'paying', u'job', u'the', u'bipartisan', u'reform', u'of', u'no', u'child', u'left', u'behind', u'was', u'an', u'important', u'start', u'and', u'together', u\"we've\", u'increased', u'early', u'childhood', u'education', u'lifted', u'high', u'school', u'graduation', u'rates', u'to', u'new', u'highs', u'boosted', u'graduates', u'in', u'fields', u'like', u'engineering', u'in', u'the', u'coming', u'years', u'we', u'should', u'build', u'on', u'that', u'progress', u'by', u'providing', u'pre', u'k', u'for', u'all', u'and', u'applause', u'offering', u'every', u'student', u'the', u'hands', u'on', u'computer', u'science', u'and', u'math', u'classes', u'that', u'make', u'them', u'job', u'ready', u'on', u'day', u'one', u'we', u'should', u'recruit', u'and', u'support', u'more', u'great', u'teachers', u'for', u'our', u'kids', u'applause', u'and', u'we', u'have', u'to', u'make', u'college', u'affordable', u'for', u'every', u'american', u'applause', u'no', u'hardworking', u'student', u'should', u'be', u'stuck', u'in', u'the', u'red', u\"we've\", u'already', u'reduced', u'student', u'loan', u'payments', u'to', u'10', u'percent', u'of', u'a', u\"borrower's\", u'income', u'and', u\"that's\", u'good', u'but', u'now', u\"we've\", u'actually', u'got', u'to', u'cut', u'the', u'cost', u'of', u'college', u'applause', u'providing', u'two', u'years', u'of', u'community', u'college', u'at', u'no', u'cost', u'for', u'every', u'responsible', u'student', u'is', u'one', u'of', u'the', u'best', u'ways', u'to', u'do', u'that', u'and', u\"i'm\", u'going', u'to', u'keep', u'fighting', u'to', u'get', u'that', u'started', u'this', u'year', u'applause', u\"it's\", u'the', u'right', u'thing', u'to', u'do', u'applause', u'but', u'a', u'great', u'education', u\"isn't\", u'all', u'we', u'need', u'in', u'this', u'new', u'economy', u'we', u'also', u'need', u'benefits', u'and', u'protections', u'that', u'provide', u'a', u'basic', u'measure', u'of', u'security', u\"it's\", u'not', u'too', u'much', u'of', u'a', u'stretch', u'to', u'say', u'that', u'some', u'of', u'the', u'only', u'people', u'in', u'america', u'who', u'are', u'going', u'to', u'work', u'the', u'same', u'job', u'in', u'the', u'same', u'place', u'with', u'a', u'health', u'and', u'retirement', u'package', u'for', u'30', u'years', u'are', u'sitting', u'in', u'this', u'chamber', u'laughter', u'for', u'everyone', u'else', u'especially', u'folks', u'in', u'their', u'40s', u'and', u'50s', u'saving', u'for', u'retirement', u'or', u'bouncing', u'back', u'from', u'job', u'loss', u'has', u'gotten', u'a', u'lot', u'tougher', u'americans', u'understand', u'that', u'at', u'some', u'point', u'in', u'their', u'careers', u'in', u'this', u'new', u'economy', u'they', u'may', u'have', u'to', u'retool', u'and', u'they', u'may', u'have', u'to', u'retrain', u'but', u'they', u\"shouldn't\", u'lose', u'what', u\"they've\", u'already', u'worked', u'so', u'hard', u'to', u'build', u'in', u'the', u'process', u\"that's\", u'why', u'social', u'security', u'and', u'medicare', u'are', u'more', u'important', u'than', u'ever', u'we', u\"shouldn't\", u'weaken', u'them', u'we', u'should', u'strengthen', u'them', u'applause', u'and', u'for', u'americans', u'short', u'of', u'retirement', u'basic', u'benefits', u'should', u'be', u'just', u'as', u'mobile', u'as', u'everything', u'else', u'is', u'today', u'that', u'by', u'the', u'way', u'is', u'what', u'the', u'affordable', u'care', u'act', u'is', u'all', u'about', u\"it's\", u'about', u'filling', u'the', u'gaps', u'in', u'employer', u'based', u'care', u'so', u'that', u'when', u'you', u'lose', u'a', u'job', u'or', u'you', u'go', u'back', u'to', u'school', u'or', u'you', u'strike', u'out', u'and', u'launch', u'that', u'new', u'business', u\"you'll\", u'still', u'have', u'coverage', u'nearly', u'18', u'million', u'people', u'have', u'gained', u'coverage', u'so', u'far', u'applause', u'and', u'in', u'the', u'process', u'health', u'care', u'inflation', u'has', u'slowed', u'and', u'our', u'businesses', u'have', u'created', u'jobs', u'every', u'single', u'month', u'since', u'it', u'became', u'law', u'now', u\"i'm\", u'guessing', u'we', u\"won't\", u'agree', u'on', u'health', u'care', u'anytime', u'soon', u'applause', u'a', u'little', u'applause', u'right', u'there', u'laughter', u'just', u'a', u'guess', u'but', u'there', u'should', u'be', u'other', u'ways', u'parties', u'can', u'work', u'together', u'to', u'improve', u'economic', u'security', u'say', u'a', u'hardworking', u'american', u'loses', u'his', u'job', u'we', u\"shouldn't\", u'just', u'make', u'sure', u'that', u'he', u'can', u'get', u'unemployment', u'insurance', u'we', u'should', u'make', u'sure', u'that', u'program', u'encourages', u'him', u'to', u'retrain', u'for', u'a', u'business', u\"that's\", u'ready', u'to', u'hire', u'him', u'if', u'that', u'new', u'job', u\"doesn't\", u'pay', u'as', u'much', u'there', u'should', u'be', u'a', u'system', u'of', u'wage', u'insurance', u'in', u'place', u'so', u'that', u'he', u'can', u'still', u'pay', u'his', u'bills', u'and', u'even', u'if', u\"he's\", u'going', u'from', u'job', u'to', u'job', u'he', u'should', u'still', u'be', u'able', u'to', u'save', u'for', u'retirement', u'and', u'take', u'his', u'savings', u'with', u'him', u\"that's\", u'the', u'way', u'we', u'make', u'the', u'new', u'economy', u'work', u'better', u'for', u'everybody', u'i', u'also', u'know', u'speaker', u'ryan', u'has', u'talked', u'about', u'his', u'interest', u'in', u'tackling', u'poverty', u'america', u'is', u'about', u'giving', u'everybody', u'willing', u'to', u'work', u'a', u'chance', u'a', u'hand', u'up', u'and', u\"i'd\", u'welcome', u'a', u'serious', u'discussion', u'about', u'strategies', u'we', u'can', u'all', u'support', u'like', u'expanding', u'tax', u'cuts', u'for', u'low', u'income', u'workers', u'who', u\"don't\", u'have', u'children', u'applause', u'but', u'there', u'are', u'some', u'areas', u'where', u'we', u'just', u'have', u'to', u'be', u'honest', u'it', u'has', u'been', u'difficult', u'to', u'find', u'agreement', u'over', u'the', u'last', u'seven', u'years', u'and', u'a', u'lot', u'of', u'them', u'fall', u'under', u'the', u'category', u'of', u'what', u'role', u'the', u'government', u'should', u'play', u'in', u'making', u'sure', u'the', u\"system's\", u'not', u'rigged', u'in', u'favor', u'of', u'the', u'wealthiest', u'and', u'biggest', u'corporations', u'applause', u'and', u\"it's\", u'an', u'honest', u'disagreement', u'and', u'the', u'american', u'people', u'have', u'a', u'choice', u'to', u'make', u'i', u'believe', u'a', u'thriving', u'private', u'sector', u'is', u'the', u'lifeblood', u'of', u'our', u'economy', u'i', u'think', u'there', u'are', u'outdated', u'regulations', u'that', u'need', u'to', u'be', u'changed', u'there', u'is', u'red', u'tape', u'that', u'needs', u'to', u'be', u'cut', u'applause', u'there', u'you', u'go', u'yes', u'applause', u'but', u'after', u'years', u'now', u'of', u'record', u'corporate', u'profits', u'working', u'families', u\"won't\", u'get', u'more', u'opportunity', u'or', u'bigger', u'paychecks', u'just', u'by', u'letting', u'big', u'banks', u'or', u'big', u'oil', u'or', u'hedge', u'funds', u'make', u'their', u'own', u'rules', u'at', u'everybody', u\"else's\", u'expense', u'applause', u'middle', u'class', u'families', u'are', u'not', u'going', u'to', u'feel', u'more', u'secure', u'because', u'we', u'allowed', u'attacks', u'on', u'collective', u'bargaining', u'to', u'go', u'unanswered', u'food', u'stamp', u'recipients', u'did', u'not', u'cause', u'the', u'financial', u'crisis', u'recklessness', u'on', u'wall', u'street', u'did', u'applause', u'immigrants', u\"aren't\", u'the', u'principal', u'reason', u'wages', u\"haven't\", u'gone', u'up', u'those', u'decisions', u'are', u'made', u'in', u'the', u'boardrooms', u'that', u'all', u'too', u'often', u'put', u'quarterly', u'earnings', u'over', u'long', u'term', u'returns', u\"it's\", u'sure', u'not', u'the', u'average', u'family', u'watching', u'tonight', u'that', u'avoids', u'paying', u'taxes', u'through', u'offshore', u'accounts', u'applause', u'the', u'point', u'is', u'i', u'believe', u'that', u'in', u'this', u'new', u'economy', u'workers', u'and', u'start', u'ups', u'and', u'small', u'businesses', u'need', u'more', u'of', u'a', u'voice', u'not', u'less', u'the', u'rules', u'should', u'work', u'for', u'them', u'applause', u'and', u\"i'm\", u'not', u'alone', u'in', u'this', u'this', u'year', u'i', u'plan', u'to', u'lift', u'up', u'the', u'many', u'businesses', u\"who've\", u'figured', u'out', u'that', u'doing', u'right', u'by', u'their', u'workers', u'or', u'their', u'customers', u'or', u'their', u'communities', u'ends', u'up', u'being', u'good', u'for', u'their', u'shareholders', u'applause', u'and', u'i', u'want', u'to', u'spread', u'those', u'best', u'practices', u'across', u'america', u\"that's\", u'part', u'of', u'a', u'brighter', u'future', u'applause', u'in', u'fact', u'it', u'turns', u'out', u'many', u'of', u'our', u'best', u'corporate', u'citizens', u'are', u'also', u'our', u'most', u'creative', u'and', u'this', u'brings', u'me', u'to', u'the', u'second', u'big', u'question', u'we', u'as', u'a', u'country', u'have', u'to', u'answer', u'how', u'do', u'we', u'reignite', u'that', u'spirit', u'of', u'innovation', u'to', u'meet', u'our', u'biggest', u'challenges', u'sixty', u'years', u'ago', u'when', u'the', u'russians', u'beat', u'us', u'into', u'space', u'we', u\"didn't\", u'deny', u'sputnik', u'was', u'up', u'there', u'laughter', u'we', u\"didn't\", u'argue', u'about', u'the', u'science', u'or', u'shrink', u'our', u'research', u'and', u'development', u'budget', u'we', u'built', u'a', u'space', u'program', u'almost', u'overnight', u'and', u'12', u'years', u'later', u'we', u'were', u'walking', u'on', u'the', u'moon', u'applause', u'now', u'that', u'spirit', u'of', u'discovery', u'is', u'in', u'our', u'dna', u'america', u'is', u'thomas', u'edison', u'and', u'the', u'wright', u'brothers', u'and', u'george', u'washington', u'carver', u'america', u'is', u'grace', u'hopper', u'and', u'katherine', u'johnson', u'and', u'sally', u'ride', u'america', u'is', u'every', u'immigrant', u'and', u'entrepreneur', u'from', u'boston', u'to', u'austin', u'to', u'silicon', u'valley', u'racing', u'to', u'shape', u'a', u'better', u'world', u'applause', u\"that's\", u'who', u'we', u'are', u'and', u'over', u'the', u'past', u'seven', u'years', u\"we've\", u'nurtured', u'that', u'spirit', u\"we've\", u'protected', u'an', u'open', u'internet', u'and', u'taken', u'bold', u'new', u'steps', u'to', u'get', u'more', u'students', u'and', u'low', u'income', u'americans', u'online', u'applause', u\"we've\", u'launched', u'next', u'generation', u'manufacturing', u'hubs', u'and', u'online', u'tools', u'that', u'give', u'an', u'entrepreneur', u'everything', u'he', u'or', u'she', u'needs', u'to', u'start', u'a', u'business', u'in', u'a', u'single', u'day', u'but', u'we', u'can', u'do', u'so', u'much', u'more', u'last', u'year', u'vice', u'president', u'biden', u'said', u'that', u'with', u'a', u'new', u'moonshot', u'america', u'can', u'cure', u'cancer', u'last', u'month', u'he', u'worked', u'with', u'this', u'congress', u'to', u'give', u'scientists', u'at', u'the', u'national', u'institutes', u'of', u'health', u'the', u'strongest', u'resources', u'that', u\"they've\", u'had', u'in', u'over', u'a', u'decade', u'applause', u'so', u'tonight', u\"i'm\", u'announcing', u'a', u'new', u'national', u'effort', u'to', u'get', u'it', u'done', u'and', u'because', u\"he's\", u'gone', u'to', u'the', u'mat', u'for', u'all', u'of', u'us', u'on', u'so', u'many', u'issues', u'over', u'the', u'past', u'40', u'years', u\"i'm\", u'putting', u'joe', u'in', u'charge', u'of', u'mission', u'control', u'applause', u'for', u'the', u'loved', u'ones', u\"we've\", u'all', u'lost', u'for', u'the', u'families', u'that', u'we', u'can', u'still', u'save', u\"let's\", u'make', u'america', u'the', u'country', u'that', u'cures', u'cancer', u'once', u'and', u'for', u'all', u'applause', u'medical', u'research', u'is', u'critical', u'we', u'need', u'the', u'same', u'level', u'of', u'commitment', u'when', u'it', u'comes', u'to', u'developing', u'clean', u'energy', u'sources', u'applause', u'look', u'if', u'anybody', u'still', u'wants', u'to', u'dispute', u'the', u'science', u'around', u'climate', u'change', u'have', u'at', u'it', u'you', u'will', u'be', u'pretty', u'lonely', u'because', u\"you'll\", u'be', u'debating', u'our', u'military', u'most', u'of', u\"america's\", u'business', u'leaders', u'the', u'majority', u'of', u'the', u'american', u'people', u'almost', u'the', u'entire', u'scientific', u'community', u'and', u'200', u'nations', u'around', u'the', u'world', u'who', u'agree', u\"it's\", u'a', u'problem', u'and', u'intend', u'to', u'solve', u'it', u'applause', u'but', u'even', u'if', u'even', u'if', u'the', u'planet', u\"wasn't\", u'at', u'stake', u'even', u'if', u'2014', u\"wasn't\", u'the', u'warmest', u'year', u'on', u'record', u'until', u'2015', u'turned', u'out', u'to', u'be', u'even', u'hotter', u'why', u'would', u'we', u'want', u'to', u'pass', u'up', u'the', u'chance', u'for', u'american', u'businesses', u'to', u'produce', u'and', u'sell', u'the', u'energy', u'of', u'the', u'future', u'applause', u'listen', u'seven', u'years', u'ago', u'we', u'made', u'the', u'single', u'biggest', u'investment', u'in', u'clean', u'energy', u'in', u'our', u'history', u'here', u'are', u'the', u'results', u'in', u'fields', u'from', u'iowa', u'to', u'texas', u'wind', u'power', u'is', u'now', u'cheaper', u'than', u'dirtier', u'conventional', u'power', u'on', u'rooftops', u'from', u'arizona', u'to', u'new', u'york', u'solar', u'is', u'saving', u'americans', u'tens', u'of', u'millions', u'of', u'dollars', u'a', u'year', u'on', u'their', u'energy', u'bills', u'and', u'employs', u'more', u'americans', u'than', u'coal', u'in', u'jobs', u'that', u'pay', u'better', u'than', u'average', u\"we're\", u'taking', u'steps', u'to', u'give', u'homeowners', u'the', u'freedom', u'to', u'generate', u'and', u'store', u'their', u'own', u'energy', u'something', u'by', u'the', u'way', u'that', u'environmentalists', u'and', u'tea', u'partiers', u'have', u'teamed', u'up', u'to', u'support', u'and', u'meanwhile', u\"we've\", u'cut', u'our', u'imports', u'of', u'foreign', u'oil', u'by', u'nearly', u'60', u'percent', u'and', u'cut', u'carbon', u'pollution', u'more', u'than', u'any', u'other', u'country', u'on', u'earth', u'applause', u'gas', u'under', u'two', u'bucks', u'a', u'gallon', u\"ain't\", u'bad', u'either', u'applause', u'now', u\"we've\", u'got', u'to', u'accelerate', u'the', u'transition', u'away', u'from', u'old', u'dirtier', u'energy', u'sources', u'rather', u'than', u'subsidize', u'the', u'past', u'we', u'should', u'invest', u'in', u'the', u'future', u'especially', u'in', u'communities', u'that', u'rely', u'on', u'fossil', u'fuels', u'we', u'do', u'them', u'no', u'favor', u'when', u'we', u\"don't\", u'show', u'them', u'where', u'the', u'trends', u'are', u'going', u\"that's\", u'why', u\"i'm\", u'going', u'to', u'push', u'to', u'change', u'the', u'way', u'we', u'manage', u'our', u'oil', u'and', u'coal', u'resources', u'so', u'that', u'they', u'better', u'reflect', u'the', u'costs', u'they', u'impose', u'on', u'taxpayers', u'and', u'our', u'planet', u'and', u'that', u'way', u'we', u'put', u'money', u'back', u'into', u'those', u'communities', u'and', u'put', u'tens', u'of', u'thousands', u'of', u'americans', u'to', u'work', u'building', u'a', u'21st', u'century', u'transportation', u'system', u'applause', u'now', u'none', u'of', u'this', u'is', u'going', u'to', u'happen', u'overnight', u'and', u'yes', u'there', u'are', u'plenty', u'of', u'entrenched', u'interests', u'who', u'want', u'to', u'protect', u'the', u'status', u'quo', u'but', u'the', u'jobs', u\"we'll\", u'create', u'the', u'money', u\"we'll\", u'save', u'the', u'planet', u\"we'll\", u'preserve', u'that', u'is', u'the', u'kind', u'of', u'future', u'our', u'kids', u'and', u'our', u'grandkids', u'deserve', u'and', u\"it's\", u'within', u'our', u'grasp', u'climate', u'change', u'is', u'just', u'one', u'of', u'many', u'issues', u'where', u'our', u'security', u'is', u'linked', u'to', u'the', u'rest', u'of', u'the', u'world', u'and', u\"that's\", u'why', u'the', u'third', u'big', u'question', u'that', u'we', u'have', u'to', u'answer', u'together', u'is', u'how', u'to', u'keep', u'america', u'safe', u'and', u'strong', u'without', u'either', u'isolating', u'ourselves', u'or', u'trying', u'to', u'nation', u'build', u'everywhere', u\"there's\", u'a', u'problem', u'i', u'told', u'you', u'earlier', u'all', u'the', u'talk', u'of', u\"america's\", u'economic', u'decline', u'is', u'political', u'hot', u'air', u'well', u'so', u'is', u'all', u'the', u'rhetoric', u'you', u'hear', u'about', u'our', u'enemies', u'getting', u'stronger', u'and', u'america', u'getting', u'weaker', u'let', u'me', u'tell', u'you', u'something', u'the', u'united', u'states', u'of', u'america', u'is', u'the', u'most', u'powerful', u'nation', u'on', u'earth', u'period', u'applause', u'period', u\"it's\", u'not', u'even', u'close', u\"it's\", u'not', u'even', u'close', u'applause', u\"it's\", u'not', u'even', u'close', u'we', u'spend', u'more', u'on', u'our', u'military', u'than', u'the', u'next', u'eight', u'nations', u'combined', u'our', u'troops', u'are', u'the', u'finest', u'fighting', u'force', u'in', u'the', u'history', u'of', u'the', u'world', u'applause', u'no', u'nation', u'attacks', u'us', u'directly', u'or', u'our', u'allies', u'because', u'they', u'know', u\"that's\", u'the', u'path', u'to', u'ruin', u'surveys', u'show', u'our', u'standing', u'around', u'the', u'world', u'is', u'higher', u'than', u'when', u'i', u'was', u'elected', u'to', u'this', u'office', u'and', u'when', u'it', u'comes', u'to', u'every', u'important', u'international', u'issue', u'people', u'of', u'the', u'world', u'do', u'not', u'look', u'to', u'beijing', u'or', u'moscow', u'to', u'lead', u'they', u'call', u'us', u'applause', u'i', u'mean', u\"it's\", u'useful', u'to', u'level', u'the', u'set', u'here', u'because', u'when', u'we', u\"don't\", u'we', u\"don't\", u'make', u'good', u'decisions', u'now', u'as', u'someone', u'who', u'begins', u'every', u'day', u'with', u'an', u'intelligence', u'briefing', u'i', u'know', u'this', u'is', u'a', u'dangerous', u'time', u'but', u\"that's\", u'not', u'primarily', u'because', u'of', u'some', u'looming', u'superpower', u'out', u'there', u'and', u'certainly', u'not', u'because', u'of', u'diminished', u'american', u'strength', u'in', u\"today's\", u'world', u\"we're\", u'threatened', u'less', u'by', u'evil', u'empires', u'and', u'more', u'by', u'failing', u'states', u'the', u'middle', u'east', u'is', u'going', u'through', u'a', u'transformation', u'that', u'will', u'play', u'out', u'for', u'a', u'generation', u'rooted', u'in', u'conflicts', u'that', u'date', u'back', u'millennia', u'economic', u'headwinds', u'are', u'blowing', u'in', u'from', u'a', u'chinese', u'economy', u'that', u'is', u'in', u'significant', u'transition', u'even', u'as', u'their', u'economy', u'severely', u'contracts', u'russia', u'is', u'pouring', u'resources', u'in', u'to', u'prop', u'up', u'ukraine', u'and', u'syria', u'client', u'states', u'that', u'they', u'saw', u'slipping', u'away', u'from', u'their', u'orbit', u'and', u'the', u'international', u'system', u'we', u'built', u'after', u'world', u'war', u'ii', u'is', u'now', u'struggling', u'to', u'keep', u'pace', u'with', u'this', u'new', u'reality', u\"it's\", u'up', u'to', u'us', u'the', u'united', u'states', u'of', u'america', u'to', u'help', u'remake', u'that', u'system', u'and', u'to', u'do', u'that', u'well', u'it', u'means', u'that', u\"we've\", u'got', u'to', u'set', u'priorities', u'priority', u'number', u'one', u'is', u'protecting', u'the', u'american', u'people', u'and', u'going', u'after', u'terrorist', u'networks', u'applause', u'both', u'al', u'qaeda', u'and', u'now', u'isil', u'pose', u'a', u'direct', u'threat', u'to', u'our', u'people', u'because', u'in', u\"today's\", u'world', u'even', u'a', u'handful', u'of', u'terrorists', u'who', u'place', u'no', u'value', u'on', u'human', u'life', u'including', u'their', u'own', u'can', u'do', u'a', u'lot', u'of', u'damage', u'they', u'use', u'the', u'internet', u'to', u'poison', u'the', u'minds', u'of', u'individuals', u'inside', u'our', u'country', u'their', u'actions', u'undermine', u'and', u'destabilize', u'our', u'allies', u'we', u'have', u'to', u'take', u'them', u'out', u'p', u'but', u'as', u'we', u'focus', u'on', u'destroying', u'isil', u'over', u'the', u'top', u'claims', u'that', u'this', u'is', u'world', u'war', u'iii', u'just', u'play', u'into', u'their', u'hands', u'masses', u'of', u'fighters', u'on', u'the', u'back', u'of', u'pickup', u'trucks', u'twisted', u'souls', u'plotting', u'in', u'apartments', u'or', u'garages', u'they', u'pose', u'an', u'enormous', u'danger', u'to', u'civilians', u'they', u'have', u'to', u'be', u'stopped', u'but', u'they', u'do', u'not', u'threaten', u'our', u'national', u'existence', u'applause', u'that', u'is', u'the', u'story', u'isil', u'wants', u'to', u'tell', u\"that's\", u'the', u'kind', u'of', u'propaganda', u'they', u'use', u'to', u'recruit', u'we', u\"don't\", u'need', u'to', u'build', u'them', u'up', u'to', u'show', u'that', u\"we're\", u'serious', u'and', u'we', u'sure', u\"don't\", u'need', u'to', u'push', u'away', u'vital', u'allies', u'in', u'this', u'fight', u'by', u'echoing', u'the', u'lie', u'that', u'isil', u'is', u'somehow', u'representative', u'of', u'one', u'of', u'the', u\"world's\", u'largest', u'religions', u'applause', u'we', u'just', u'need', u'to', u'call', u'them', u'what', u'they', u'are', u'killers', u'and', u'fanatics', u'who', u'have', u'to', u'be', u'rooted', u'out', u'hunted', u'down', u'and', u'destroyed', u'applause', u'and', u\"that's\", u'exactly', u'what', u\"we're\", u'doing', u'for', u'more', u'than', u'a', u'year', u'america', u'has', u'led', u'a', u'coalition', u'of', u'more', u'than', u'60', u'countries', u'to', u'cut', u'off', u\"isil's\", u'financing', u'disrupt', u'their', u'plots', u'stop', u'the', u'flow', u'of', u'terrorist', u'fighters', u'and', u'stamp', u'out', u'their', u'vicious', u'ideology', u'with', u'nearly', u'10', u'000', u'air', u'strikes', u\"we're\", u'taking', u'out', u'their', u'leadership', u'their', u'oil', u'their', u'training', u'camps', u'their', u'weapons', u\"we're\", u'training', u'arming', u'and', u'supporting', u'forces', u'who', u'are', u'steadily', u'reclaiming', u'territory', u'in', u'iraq', u'and', u'syria', u'if', u'this', u'congress', u'is', u'serious', u'about', u'winning', u'this', u'war', u'and', u'wants', u'to', u'send', u'a', u'message', u'to', u'our', u'troops', u'and', u'the', u'world', u'authorize', u'the', u'use', u'of', u'military', u'force', u'against', u'isil', u'take', u'a', u'vote', u'applause', u'take', u'a', u'vote', u'but', u'the', u'american', u'people', u'should', u'know', u'that', u'with', u'or', u'without', u'congressional', u'action', u'isil', u'will', u'learn', u'the', u'same', u'lessons', u'as', u'terrorists', u'before', u'them', u'if', u'you', u'doubt', u\"america's\", u'commitment', u'or', u'mine', u'to', u'see', u'that', u'justice', u'is', u'done', u'just', u'ask', u'osama', u'bin', u'laden', u'applause', u'ask', u'the', u'leader', u'of', u'al', u'qaeda', u'in', u'yemen', u'who', u'was', u'taken', u'out', u'last', u'year', u'or', u'the', u'perpetrator', u'of', u'the', u'benghazi', u'attacks', u'who', u'sits', u'in', u'a', u'prison', u'cell', u'when', u'you', u'come', u'after', u'americans', u'we', u'go', u'after', u'you', u'applause', u'and', u'it', u'may', u'take', u'time', u'but', u'we', u'have', u'long', u'memories', u'and', u'our', u'reach', u'has', u'no', u'limits', u'applause', u'our', u'foreign', u'policy', u'hast', u'to', u'be', u'focused', u'on', u'the', u'threat', u'from', u'isil', u'and', u'al', u'qaeda', u'but', u'it', u\"can't\", u'stop', u'there', u'for', u'even', u'without', u'isil', u'even', u'without', u'al', u'qaeda', u'instability', u'will', u'continue', u'for', u'decades', u'in', u'many', u'parts', u'of', u'the', u'world', u'in', u'the', u'middle', u'east', u'in', u'afghanistan', u'parts', u'of', u'pakistan', u'in', u'parts', u'of', u'central', u'america', u'in', u'africa', u'and', u'asia', u'some', u'of', u'these', u'places', u'may', u'become', u'safe', u'havens', u'for', u'new', u'terrorist', u'networks', u'others', u'will', u'just', u'fall', u'victim', u'to', u'ethnic', u'conflict', u'or', u'famine', u'feeding', u'the', u'next', u'wave', u'of', u'refugees', u'the', u'world', u'will', u'look', u'to', u'us', u'to', u'help', u'solve', u'these', u'problems', u'and', u'our', u'answer', u'needs', u'to', u'be', u'more', u'than', u'tough', u'talk', u'or', u'calls', u'to', u'carpet', u'bomb', u'civilians', u'that', u'may', u'work', u'as', u'a', u'tv', u'sound', u'bite', u'but', u'it', u\"doesn't\", u'pass', u'muster', u'on', u'the', u'world', u'stage', u'we', u'also', u\"can't\", u'try', u'to', u'take', u'over', u'and', u'rebuild', u'every', u'country', u'that', u'falls', u'into', u'crisis', u'even', u'if', u\"it's\", u'done', u'with', u'the', u'best', u'of', u'intentions', u'applause', u\"that's\", u'not', u'leadership', u\"that's\", u'a', u'recipe', u'for', u'quagmire', u'spilling', u'american', u'blood', u'and', u'treasure', u'that', u'ultimately', u'will', u'weaken', u'us', u\"it's\", u'the', u'lesson', u'of', u'vietnam', u\"it's\", u'the', u'lesson', u'of', u'iraq', u'and', u'we', u'should', u'have', u'learned', u'it', u'by', u'now', u'applause', u'fortunately', u'there', u'is', u'a', u'smarter', u'approach', u'a', u'patient', u'and', u'disciplined', u'strategy', u'that', u'uses', u'every', u'element', u'of', u'our', u'national', u'power', u'it', u'says', u'america', u'will', u'always', u'act', u'alone', u'if', u'necessary', u'to', u'protect', u'our', u'people', u'and', u'our', u'allies', u'but', u'on', u'issues', u'of', u'global', u'concern', u'we', u'will', u'mobilize', u'the', u'world', u'to', u'work', u'with', u'us', u'and', u'make', u'sure', u'other', u'countries', u'pull', u'their', u'own', u'weight', u\"that's\", u'our', u'approach', u'to', u'conflicts', u'like', u'syria', u'where', u\"we're\", u'partnering', u'with', u'local', u'forces', u'and', u'leading', u'international', u'efforts', u'to', u'help', u'that', u'broken', u'society', u'pursue', u'a', u'lasting', u'peace', u\"that's\", u'why', u'we', u'built', u'a', u'global', u'coalition', u'with', u'sanctions', u'and', u'principled', u'diplomacy', u'to', u'prevent', u'a', u'nuclear', u'armed', u'iran', u'and', u'as', u'we', u'speak', u'iran', u'has', u'rolled', u'back', u'its', u'nuclear', u'program', u'shipped', u'out', u'its', u'uranium', u'stockpile', u'and', u'the', u'world', u'has', u'avoided', u'another', u'war', u'applause', u\"that's\", u'how', u'we', u'stopped', u'the', u'spread', u'of', u'ebola', u'in', u'west', u'africa', u'applause', u'our', u'military', u'our', u'doctors', u'our', u'development', u'workers', u'they', u'were', u'heroic', u'they', u'set', u'up', u'the', u'platform', u'that', u'then', u'allowed', u'other', u'countries', u'to', u'join', u'in', u'behind', u'us', u'and', u'stamp', u'out', u'that', u'epidemic', u'hundreds', u'of', u'thousands', u'maybe', u'a', u'couple', u'million', u'lives', u'were', u'saved', u\"that's\", u'how', u'we', u'forged', u'a', u'trans', u'pacific', u'partnership', u'to', u'open', u'markets', u'and', u'protect', u'workers', u'and', u'the', u'environment', u'and', u'advance', u'american', u'leadership', u'in', u'asia', u'it', u'cuts', u'18', u'000', u'taxes', u'on', u'products', u'made', u'in', u'america', u'which', u'will', u'then', u'support', u'more', u'good', u'jobs', u'here', u'in', u'america', u'with', u'tpp', u'china', u'does', u'not', u'set', u'the', u'rules', u'in', u'that', u'region', u'we', u'do', u'you', u'want', u'to', u'show', u'our', u'strength', u'in', u'this', u'new', u'century', u'approve', u'this', u'agreement', u'give', u'us', u'the', u'tools', u'to', u'enforce', u'it', u\"it's\", u'the', u'right', u'thing', u'to', u'do', u'applause', u'let', u'me', u'give', u'you', u'another', u'example', u'fifty', u'years', u'of', u'isolating', u'cuba', u'had', u'failed', u'to', u'promote', u'democracy', u'and', u'set', u'us', u'back', u'in', u'latin', u'america', u\"that's\", u'why', u'we', u'restored', u'diplomatic', u'relations', u'applause', u'opened', u'the', u'door', u'to', u'travel', u'and', u'commerce', u'positioned', u'ourselves', u'to', u'improve', u'the', u'lives', u'of', u'the', u'cuban', u'people', u'applause', u'so', u'if', u'you', u'want', u'to', u'consolidate', u'our', u'leadership', u'and', u'credibility', u'in', u'the', u'hemisphere', u'recognize', u'that', u'the', u'cold', u'war', u'is', u'over', u'lift', u'the', u'embargo', u'applause', u'the', u'point', u'is', u'american', u'leadership', u'in', u'the', u'21st', u'century', u'is', u'not', u'a', u'choice', u'between', u'ignoring', u'the', u'rest', u'of', u'the', u'world', u'except', u'when', u'we', u'kill', u'terrorists', u'or', u'occupying', u'and', u'rebuilding', u'whatever', u'society', u'is', u'unraveling', u'leadership', u'means', u'a', u'wise', u'application', u'of', u'military', u'power', u'and', u'rallying', u'the', u'world', u'behind', u'causes', u'that', u'are', u'right', u'it', u'means', u'seeing', u'our', u'foreign', u'assistance', u'as', u'a', u'part', u'of', u'our', u'national', u'security', u'not', u'something', u'separate', u'not', u'charity', u'when', u'we', u'lead', u'nearly', u'200', u'nations', u'to', u'the', u'most', u'ambitious', u'agreement', u'in', u'history', u'to', u'fight', u'climate', u'change', u'yes', u'that', u'helps', u'vulnerable', u'countries', u'but', u'it', u'also', u'protects', u'our', u'kids', u'when', u'we', u'help', u'ukraine', u'defend', u'its', u'democracy', u'or', u'colombia', u'resolve', u'a', u'decades', u'long', u'war', u'that', u'strengthens', u'the', u'international', u'order', u'we', u'depend', u'on', u'when', u'we', u'help', u'african', u'countries', u'feed', u'their', u'people', u'and', u'care', u'for', u'the', u'sick', u'applause', u\"it's\", u'the', u'right', u'thing', u'to', u'do', u'and', u'it', u'prevents', u'the', u'next', u'pandemic', u'from', u'reaching', u'our', u'shores', u'right', u'now', u\"we're\", u'on', u'track', u'to', u'end', u'the', u'scourge', u'of', u'hiv', u'aids', u\"that's\", u'within', u'our', u'grasp', u'applause', u'and', u'we', u'have', u'the', u'chance', u'to', u'accomplish', u'the', u'same', u'thing', u'with', u'malaria', u'something', u\"i'll\", u'be', u'pushing', u'this', u'congress', u'to', u'fund', u'this', u'year', u'applause', u\"that's\", u'american', u'strength', u\"that's\", u'american', u'leadership', u'and', u'that', u'kind', u'of', u'leadership', u'depends', u'on', u'the', u'power', u'of', u'our', u'example', u\"that's\", u'why', u'i', u'will', u'keep', u'working', u'to', u'shut', u'down', u'the', u'prison', u'at', u'guantanamo', u'applause', u'it', u'is', u'expensive', u'it', u'is', u'unnecessary', u'and', u'it', u'only', u'serves', u'as', u'a', u'recruitment', u'brochure', u'for', u'our', u'enemies', u'applause', u\"there's\", u'a', u'better', u'way', u'applause', u'and', u\"that's\", u'why', u'we', u'need', u'to', u'reject', u'any', u'politics', u'any', u'politics', u'that', u'targets', u'people', u'because', u'of', u'race', u'or', u'religion', u'applause', u'let', u'me', u'just', u'say', u'this', u'this', u'is', u'not', u'a', u'matter', u'of', u'political', u'correctness', u'this', u'is', u'a', u'matter', u'of', u'understanding', u'just', u'what', u'it', u'is', u'that', u'makes', u'us', u'strong', u'the', u'world', u'respects', u'us', u'not', u'just', u'for', u'our', u'arsenal', u'it', u'respects', u'us', u'for', u'our', u'diversity', u'and', u'our', u'openness', u'and', u'the', u'way', u'we', u'respect', u'every', u'faith', u'his', u'holiness', u'pope', u'francis', u'told', u'this', u'body', u'from', u'the', u'very', u'spot', u'that', u\"i'm\", u'standing', u'on', u'tonight', u'that', u'to', u'imitate', u'the', u'hatred', u'and', u'violence', u'of', u'tyrants', u'and', u'murderers', u'is', u'the', u'best', u'way', u'to', u'take', u'their', u'place', u'when', u'politicians', u'insult', u'muslims', u'whether', u'abroad', u'or', u'our', u'fellow', u'citizens', u'when', u'a', u'mosque', u'is', u'vandalized', u'or', u'a', u'kid', u'is', u'called', u'names', u'that', u\"doesn't\", u'make', u'us', u'safer', u\"that's\", u'not', u'telling', u'it', u'like', u'it', u'is', u\"it's\", u'just', u'wrong', u'applause', u'it', u'diminishes', u'us', u'in', u'the', u'eyes', u'of', u'the', u'world', u'it', u'makes', u'it', u'harder', u'to', u'achieve', u'our', u'goals', u'it', u'betrays', u'who', u'we', u'are', u'as', u'a', u'country', u'applause', u'we', u'the', u'people', u'our', u'constitution', u'begins', u'with', u'those', u'three', u'simple', u'words', u'words', u\"we've\", u'come', u'to', u'recognize', u'mean', u'all', u'the', u'people', u'not', u'just', u'some', u'words', u'that', u'insist', u'we', u'rise', u'and', u'fall', u'together', u'and', u\"that's\", u'how', u'we', u'might', u'perfect', u'our', u'union', u'and', u'that', u'brings', u'me', u'to', u'the', u'fourth', u'and', u'maybe', u'the', u'most', u'important', u'thing', u'that', u'i', u'want', u'to', u'say', u'tonight', u'the', u'future', u'we', u'want', u'all', u'of', u'us', u'want', u'opportunity', u'and', u'security', u'for', u'our', u'families', u'a', u'rising', u'standard', u'of', u'living', u'a', u'sustainable', u'peaceful', u'planet', u'for', u'our', u'kids', u'all', u'that', u'is', u'within', u'our', u'reach', u'but', u'it', u'will', u'only', u'happen', u'if', u'we', u'work', u'together', u'it', u'will', u'only', u'happen', u'if', u'we', u'can', u'have', u'rational', u'constructive', u'debates', u'it', u'will', u'only', u'happen', u'if', u'we', u'fix', u'our', u'politics', u'a', u'better', u'politics', u\"doesn't\", u'mean', u'we', u'have', u'to', u'agree', u'on', u'everything', u'this', u'is', u'a', u'big', u'country', u'different', u'regions', u'different', u'attitudes', u'different', u'interests', u\"that's\", u'one', u'of', u'our', u'strengths', u'too', u'our', u'founders', u'distributed', u'power', u'between', u'states', u'and', u'branches', u'of', u'government', u'and', u'expected', u'us', u'to', u'argue', u'just', u'as', u'they', u'did', u'fiercely', u'over', u'the', u'size', u'and', u'shape', u'of', u'government', u'over', u'commerce', u'and', u'foreign', u'relations', u'over', u'the', u'meaning', u'of', u'liberty', u'and', u'the', u'imperatives', u'of', u'security', u'but', u'democracy', u'does', u'require', u'basic', u'bonds', u'of', u'trust', u'between', u'its', u'citizens', u'it', u\"doesn't\", u'work', u'if', u'we', u'think', u'the', u'people', u'who', u'disagree', u'with', u'us', u'are', u'all', u'motivated', u'by', u'malice', u'it', u\"doesn't\", u'work', u'if', u'we', u'think', u'that', u'our', u'political', u'opponents', u'are', u'unpatriotic', u'or', u'trying', u'to', u'weaken', u'america', u'democracy', u'grinds', u'to', u'a', u'halt', u'without', u'a', u'willingness', u'to', u'compromise', u'or', u'when', u'even', u'basic', u'facts', u'are', u'contested', u'or', u'when', u'we', u'listen', u'only', u'to', u'those', u'who', u'agree', u'with', u'us', u'our', u'public', u'life', u'withers', u'when', u'only', u'the', u'most', u'extreme', u'voices', u'get', u'all', u'the', u'attention', u'and', u'most', u'of', u'all', u'democracy', u'breaks', u'down', u'when', u'the', u'average', u'person', u'feels', u'their', u'voice', u\"doesn't\", u'matter', u'that', u'the', u'system', u'is', u'rigged', u'in', u'favor', u'of', u'the', u'rich', u'or', u'the', u'powerful', u'or', u'some', u'special', u'interest', u'too', u'many', u'americans', u'feel', u'that', u'way', u'right', u'now', u\"it's\", u'one', u'of', u'the', u'few', u'regrets', u'of', u'my', u'presidency', u'that', u'the', u'rancor', u'and', u'suspicion', u'between', u'the', u'parties', u'has', u'gotten', u'worse', u'instead', u'of', u'better', u'i', u'have', u'no', u'doubt', u'a', u'president', u'with', u'the', u'gifts', u'of', u'lincoln', u'or', u'roosevelt', u'might', u'have', u'better', u'bridged', u'the', u'divide', u'and', u'i', u'guarantee', u\"i'll\", u'keep', u'trying', u'to', u'be', u'better', u'so', u'long', u'as', u'i', u'hold', u'this', u'office', u'but', u'my', u'fellow', u'americans', u'this', u'cannot', u'be', u'my', u'task', u'or', u'any', u\"president's\", u'alone', u'there', u'are', u'a', u'whole', u'lot', u'of', u'folks', u'in', u'this', u'chamber', u'good', u'people', u'who', u'would', u'like', u'to', u'see', u'more', u'cooperation', u'would', u'like', u'to', u'see', u'a', u'more', u'elevated', u'debate', u'in', u'washington', u'but', u'feel', u'trapped', u'by', u'the', u'imperatives', u'of', u'getting', u'elected', u'by', u'the', u'noise', u'coming', u'out', u'of', u'your', u'base', u'i', u'know', u\"you've\", u'told', u'me', u\"it's\", u'the', u'worst', u'kept', u'secret', u'in', u'washington', u'and', u'a', u'lot', u'of', u'you', u\"aren't\", u'enjoying', u'being', u'trapped', u'in', u'that', u'kind', u'of', u'rancor', u'but', u'that', u'means', u'if', u'we', u'want', u'a', u'better', u'politics', u'and', u\"i'm\", u'addressing', u'the', u'american', u'people', u'now', u'if', u'we', u'want', u'a', u'better', u'politics', u\"it's\", u'not', u'enough', u'just', u'to', u'change', u'a', u'congressman', u'or', u'change', u'a', u'senator', u'or', u'even', u'change', u'a', u'president', u'we', u'have', u'to', u'change', u'the', u'system', u'to', u'reflect', u'our', u'better', u'selves', u'i', u'think', u\"we've\", u'got', u'to', u'end', u'the', u'practice', u'of', u'drawing', u'our', u'congressional', u'districts', u'so', u'that', u'politicians', u'can', u'pick', u'their', u'voters', u'and', u'not', u'the', u'other', u'way', u'around', u'applause', u'let', u'a', u'bipartisan', u'group', u'do', u'it', u'applause', u'we', u'have', u'to', u'reduce', u'the', u'influence', u'of', u'money', u'in', u'our', u'politics', u'so', u'that', u'a', u'handful', u'of', u'families', u'or', u'hidden', u'interests', u\"can't\", u'bankroll', u'our', u'elections', u'applause', u'and', u'if', u'our', u'existing', u'approach', u'to', u'campaign', u'finance', u'reform', u\"can't\", u'pass', u'muster', u'in', u'the', u'courts', u'we', u'need', u'to', u'work', u'together', u'to', u'find', u'a', u'real', u'solution', u'because', u\"it's\", u'a', u'problem', u'and', u'most', u'of', u'you', u\"don't\", u'like', u'raising', u'money', u'i', u'know', u\"i've\", u'done', u'it', u'applause', u\"we've\", u'got', u'to', u'make', u'it', u'easier', u'to', u'vote', u'not', u'harder', u'applause', u'we', u'need', u'to', u'modernize', u'it', u'for', u'the', u'way', u'we', u'live', u'now', u'applause', u'this', u'is', u'america', u'we', u'want', u'to', u'make', u'it', u'easier', u'for', u'people', u'to', u'participate', u'and', u'over', u'the', u'course', u'of', u'this', u'year', u'i', u'intend', u'to', u'travel', u'the', u'country', u'to', u'push', u'for', u'reforms', u'that', u'do', u'just', u'that', u'but', u'i', u\"can't\", u'do', u'these', u'things', u'on', u'my', u'own', u'applause', u'changes', u'in', u'our', u'political', u'process', u'in', u'not', u'just', u'who', u'gets', u'elected', u'but', u'how', u'they', u'get', u'elected', u'that', u'will', u'only', u'happen', u'when', u'the', u'american', u'people', u'demand', u'it', u'it', u'depends', u'on', u'you', u\"that's\", u\"what's\", u'meant', u'by', u'a', u'government', u'of', u'by', u'and', u'for', u'the', u'people', u'what', u\"i'm\", u'suggesting', u'is', u'hard', u\"it's\", u'a', u'lot', u'easier', u'to', u'be', u'cynical', u'to', u'accept', u'that', u'change', u'is', u'not', u'possible', u'and', u'politics', u'is', u'hopeless', u'and', u'the', u'problem', u'is', u'all', u'the', u'folks', u'who', u'are', u'elected', u\"don't\", u'care', u'and', u'to', u'believe', u'that', u'our', u'voices', u'and', u'actions', u\"don't\", u'matter', u'but', u'if', u'we', u'give', u'up', u'now', u'then', u'we', u'forsake', u'a', u'better', u'future', u'those', u'with', u'money', u'and', u'power', u'will', u'gain', u'greater', u'control', u'over', u'the', u'decisions', u'that', u'could', u'send', u'a', u'young', u'soldier', u'to', u'war', u'or', u'allow', u'another', u'economic', u'disaster', u'or', u'roll', u'back', u'the', u'equal', u'rights', u'and', u'voting', u'rights', u'that', u'generations', u'of', u'americans', u'have', u'fought', u'even', u'died', u'to', u'secure', u'and', u'then', u'as', u'frustration', u'grows', u'there', u'will', u'be', u'voices', u'urging', u'us', u'to', u'fall', u'back', u'into', u'our', u'respective', u'tribes', u'to', u'scapegoat', u'fellow', u'citizens', u'who', u\"don't\", u'look', u'like', u'us', u'or', u'pray', u'like', u'us', u'or', u'vote', u'like', u'we', u'do', u'or', u'share', u'the', u'same', u'background', u'we', u\"can't\", u'afford', u'to', u'go', u'down', u'that', u'path', u'it', u\"won't\", u'deliver', u'the', u'economy', u'we', u'want', u'it', u'will', u'not', u'produce', u'the', u'security', u'we', u'want', u'but', u'most', u'of', u'all', u'it', u'contradicts', u'everything', u'that', u'makes', u'us', u'the', u'envy', u'of', u'the', u'world', u'so', u'my', u'fellow', u'americans', u'whatever', u'you', u'may', u'believe', u'whether', u'you', u'prefer', u'one', u'party', u'or', u'no', u'party', u'whether', u'you', u'supported', u'my', u'agenda', u'or', u'fought', u'as', u'hard', u'as', u'you', u'could', u'against', u'it', u'our', u'collective', u'futures', u'depends', u'on', u'your', u'willingness', u'to', u'uphold', u'your', u'duties', u'as', u'a', u'citizen', u'to', u'vote', u'to', u'speak', u'out', u'to', u'stand', u'up', u'for', u'others', u'especially', u'the', u'weak', u'especially', u'the', u'vulnerable', u'knowing', u'that', u'each', u'of', u'us', u'is', u'only', u'here', u'because', u'somebody', u'somewhere', u'stood', u'up', u'for', u'us', u'applause', u'we', u'need', u'every', u'american', u'to', u'stay', u'active', u'in', u'our', u'public', u'life', u'and', u'not', u'just', u'during', u'election', u'time', u'so', u'that', u'our', u'public', u'life', u'reflects', u'the', u'goodness', u'and', u'the', u'decency', u'that', u'i', u'see', u'in', u'the', u'american', u'people', u'every', u'single', u'day', u'it', u'is', u'not', u'easy', u'our', u'brand', u'of', u'democracy', u'is', u'hard', u'but', u'i', u'can', u'promise', u'that', u'a', u'little', u'over', u'a', u'year', u'from', u'now', u'when', u'i', u'no', u'longer', u'hold', u'this', u'office', u'i', u'will', u'be', u'right', u'there', u'with', u'you', u'as', u'a', u'citizen', u'inspired', u'by', u'those', u'voices', u'of', u'fairness', u'and', u'vision', u'of', u'grit', u'and', u'good', u'humor', u'and', u'kindness', u'that', u'helped', u'america', u'travel', u'so', u'far', u'voices', u'that', u'help', u'us', u'see', u'ourselves', u'not', u'first', u'and', u'foremost', u'as', u'black', u'or', u'white', u'or', u'asian', u'or', u'latino', u'not', u'as', u'gay', u'or', u'straight', u'immigrant', u'or', u'native', u'born', u'not', u'as', u'democrat', u'or', u'republican', u'but', u'as', u'americans', u'first', u'bound', u'by', u'a', u'common', u'creed', u'voices', u'dr', u'king', u'believed', u'would', u'have', u'the', u'final', u'word', u'voices', u'of', u'unarmed', u'truth', u'and', u'unconditional', u'love', u'and', u\"they're\", u'out', u'there', u'those', u'voices', u'they', u\"don't\", u'get', u'a', u'lot', u'of', u'attention', u'they', u\"don't\", u'seek', u'a', u'lot', u'of', u'fanfare', u'but', u\"they're\", u'busy', u'doing', u'the', u'work', u'this', u'country', u'needs', u'doing', u'i', u'see', u'them', u'everywhere', u'i', u'travel', u'in', u'this', u'incredible', u'country', u'of', u'ours', u'i', u'see', u'you', u'the', u'american', u'people', u'and', u'in', u'your', u'daily', u'acts', u'of', u'citizenship', u'i', u'see', u'our', u'future', u'unfolding', u'i', u'see', u'it', u'in', u'the', u'worker', u'on', u'the', u'assembly', u'line', u'who', u'clocked', u'extra', u'shifts', u'to', u'keep', u'his', u'company', u'open', u'and', u'the', u'boss', u'who', u'pays', u'him', u'higher', u'wages', u'instead', u'of', u'laying', u'him', u'off', u'i', u'see', u'it', u'in', u'the', u'dreamer', u'who', u'stays', u'up', u'late', u'at', u'night', u'to', u'finish', u'her', u'science', u'project', u'and', u'the', u'teacher', u'who', u'comes', u'in', u'early', u'and', u'maybe', u'with', u'some', u'extra', u'supplies', u'that', u'she', u'bought', u'because', u'she', u'knows', u'that', u'that', u'young', u'girl', u'might', u'someday', u'cure', u'a', u'disease', u'i', u'see', u'it', u'in', u'the', u'dreamer', u'who', u'stays', u'up', u'late', u'to', u'finish', u'her', u'science', u'project', u'and', u'the', u'teacher', u'who', u'comes', u'in', u'early', u'because', u'he', u'knows', u'she', u'might', u'someday', u'cure', u'a', u'disease', u'i', u'see', u'it', u'in', u'the', u'american', u'who', u'served', u'his', u'time', u'and', u'bad', u'mistakes', u'as', u'a', u'child', u'but', u'now', u'is', u'dreaming', u'of', u'starting', u'over', u'and', u'i', u'see', u'it', u'in', u'the', u'business', u'owner', u'who', u'gives', u'him', u'that', u'second', u'chance', u'the', u'protester', u'determined', u'to', u'prove', u'that', u'justice', u'matters', u'and', u'the', u'young', u'cop', u'walking', u'the', u'beat', u'treating', u'everybody', u'with', u'respect', u'doing', u'the', u'brave', u'quiet', u'work', u'of', u'keeping', u'us', u'safe', u'applause', u'i', u'see', u'it', u'in', u'the', u'soldier', u'who', u'gives', u'almost', u'everything', u'to', u'save', u'his', u'brothers', u'the', u'nurse', u'who', u'tends', u'to', u'him', u'till', u'he', u'can', u'run', u'a', u'marathon', u'the', u'community', u'that', u'lines', u'up', u'to', u'cheer', u'him', u'on', u\"it's\", u'the', u'son', u'who', u'finds', u'the', u'courage', u'to', u'come', u'out', u'as', u'who', u'he', u'is', u'and', u'the', u'father', u'whose', u'love', u'for', u'that', u'son', u'overrides', u'everything', u\"he's\", u'been', u'taught', u'applause', u'i', u'see', u'it', u'in', u'the', u'elderly', u'woman', u'who', u'will', u'wait', u'in', u'line', u'to', u'cast', u'her', u'vote', u'as', u'long', u'as', u'she', u'has', u'to', u'the', u'new', u'citizen', u'who', u'casts', u'his', u'vote', u'for', u'the', u'first', u'time', u'the', u'volunteers', u'at', u'the', u'polls', u'who', u'believe', u'every', u'vote', u'should', u'count', u'because', u'each', u'of', u'them', u'in', u'different', u'ways', u'know', u'how', u'much', u'that', u'precious', u'right', u'is', u'worth', u\"that's\", u'the', u'america', u'i', u'know', u\"that's\", u'the', u'country', u'we', u'love', u'clear', u'eyed', u'big', u'hearted', u'undaunted', u'by', u'challenge', u'optimistic', u'that', u'unarmed', u'truth', u'and', u'unconditional', u'love', u'will', u'have', u'the', u'final', u'word', u'applause', u\"that's\", u'what', u'makes', u'me', u'so', u'hopeful', u'about', u'our', u'future', u'i', u'believe', u'in', u'change', u'because', u'i', u'believe', u'in', u'you', u'the', u'american', u'people', u'and', u\"that's\", u'why', u'i', u'stand', u'here', u'confident', u'as', u'i', u'have', u'ever', u'been', u'that', u'the', u'state', u'of', u'our', u'union', u'is', u'strong', u'applause', u'thank', u'you', u'god', u'bless', u'you', u'god', u'bless', u'the', u'united', u'states', u'of', u'america']\n"
     ]
    }
   ],
   "source": [
    "from nltk.tokenize import WhitespaceTokenizer\n",
    "\n",
    "# Create a tokenizer from NLTK which will create tokens based on the whitespace in between words\n",
    "tokenizer = WhitespaceTokenizer()\n",
    "\n",
    "# Use the tokenizer on the text string for the transcript\n",
    "transcript_tokens = tokenizer.tokenize(transcript_lower)\n",
    "\n",
    "# And the output is a python list of tokens (in unicode)\n",
    "print transcript_tokens"
   ]
  },
  {
   "cell_type": "markdown",
   "metadata": {},
   "source": [
    "We might wonder how long (i.e. how many tokens) were in the speech. \n",
    "\n",
    "우리는 스피치에서 얼마나 많은 토큰이 있는지 궁금하다."
   ]
  },
  {
   "cell_type": "code",
   "execution_count": 8,
   "metadata": {
    "collapsed": false
   },
   "outputs": [
    {
     "data": {
      "text/plain": [
       "6160"
      ]
     },
     "execution_count": 8,
     "metadata": {},
     "output_type": "execute_result"
    }
   ],
   "source": [
    "len(transcript_tokens)"
   ]
  },
  {
   "cell_type": "markdown",
   "metadata": {},
   "source": [
    "Once we have a list of tokens we can have NLTK parse it into a Text object which lets us do some exploratory operations on it, like search it and see concordances (i.e. context around the search term). \n",
    "우리가 토큰의 목록을 갖게 되면, 우리는 이것을 몇가지 탐색작업을 할 수 있는 텍스트 개체로 분석을 할 수 있는 NLTK를 가진다, 즉 이것을 검색하고, 유사점을 보는 것과 같다."
   ]
  },
  {
   "cell_type": "code",
   "execution_count": 9,
   "metadata": {
    "collapsed": false
   },
   "outputs": [
    {
     "name": "stdout",
     "output_type": "stream",
     "text": [
      "Displaying 15 of 15 matches:\n",
      "                                   americans tonight marks the eighth year that\n",
      " true and the reason that a lot of americans feel anxious is that the economy h\n",
      "here are actually some areas where americans broadly agree we agree that real o\n",
      " job loss has gotten a lot tougher americans understand that at some point in t\n",
      "d strengthen them applause and for americans short of retirement basic benefits\n",
      "o get more students and low income americans online applause we've launched nex\n",
      "rizona to new york solar is saving americans tens of millions of dollars a year\n",
      "heir energy bills and employs more americans than coal in jobs that pay better \n",
      "ities and put tens of thousands of americans to work building a 21st century tr\n",
      " a prison cell when you come after americans we go after you applause and it ma\n",
      " or some special interest too many americans feel that way right now it's one o\n",
      "s i hold this office but my fellow americans this cannot be my task or any pres\n",
      " voting rights that generations of americans have fought even died to secure an\n",
      "the envy of the world so my fellow americans whatever you may believe whether y\n",
      "t as democrat or republican but as americans first bound by a common creed voic\n"
     ]
    }
   ],
   "source": [
    "text_transcript = nltk.text.Text(transcript_tokens)\n",
    "text_transcript.concordance(\"americans\")"
   ]
  },
  {
   "cell_type": "markdown",
   "metadata": {},
   "source": [
    "Basic visualization options, like a dispersion plot can help understand how different terms are distributed throughout the text.\n",
    "기존적인 시각화 옵션들은 ,분산플롯처럼, 텍스트를 통해서 얼마나 다른 용어들이 분배되었는지 이해하는 것을 돕는다."
   ]
  },
  {
   "cell_type": "code",
   "execution_count": 10,
   "metadata": {
    "collapsed": false
   },
   "outputs": [
    {
     "data": {
      "image/png": "[encoded data removed]",
      "text/plain": [
       "<matplotlib.figure.Figure at 0x10c5b45d0>"
      ]
     },
     "metadata": {},
     "output_type": "display_data"
    }
   ],
   "source": [
    "%matplotlib inline\n",
    "\n",
    "text_transcript.dispersion_plot([\"education\", \"technology\", \"security\", \"economy\"])"
   ]
  },
  {
   "cell_type": "markdown",
   "metadata": {},
   "source": [
    "### Stopword Removal\n",
    "We may also want to remove stopwords, words that are often considered to be so frequent that they don't contain much information. \n",
    "우리는 또한 스탑워드 또는 많은 정보를 담지 않고 자주 사용되는 단어들을 없애기를 원한다.\n",
    "\n",
    "In general you should carefully consider what words are included in your stoplist, but of course there is a default list of terms built into NLTK. \n",
    "일반적으로 너는 어떤 단어들이 너의 스탑리스트에 포함되어 있는지를 주의깊게 보아야 한다. 그러나, 물론, NLTK에는 기본적인 탑재된 용어들의 리스트이 있다.\n",
    "\n",
    "\n",
    "To get that list we first have to initiate the download of the NLTK resources (the next cell should initiate a dialog box where you need to click the \"download\" button).\n",
    "리스트를 가지기 위해서는 NLTK 리소스를 먼저 다운로드를 시작을 해야 한다. \n"
   ]
  },
  {
   "cell_type": "code",
   "execution_count": null,
   "metadata": {
    "collapsed": false
   },
   "outputs": [
    {
     "name": "stdout",
     "output_type": "stream",
     "text": [
      "showing info https://raw.githubusercontent.com/nltk/nltk_data/gh-pages/index.xml\n",
      "showing info https://raw.githubusercontent.com/nltk/nltk_data/gh-pages/index.xml\n"
     ]
    }
   ],
   "source": [
    "nltk.download()"
   ]
  },
  {
   "cell_type": "code",
   "execution_count": null,
   "metadata": {
    "collapsed": false
   },
   "outputs": [],
   "source": [
    "from nltk.corpus import stopwords\n",
    "stopword_list = stopwords.words('english')\n",
    "print stopword_list "
   ]
  },
  {
   "cell_type": "markdown",
   "metadata": {},
   "source": [
    "To remove the words in the stopword list we can use a [python list comprehension](https://docs.python.org/2/tutorial/datastructures.html#list-comprehensions).\n",
    "\n",
    "우리가 사용할 수 있는 \"python list comprehension\"에 스탑워드리스트를 단어들을 제거."
   ]
  },
  {
   "cell_type": "code",
   "execution_count": null,
   "metadata": {
    "collapsed": false
   },
   "outputs": [],
   "source": [
    "transcript_tokens = [w for w in transcript_tokens if w not in stopword_list]\n",
    "print transcript_tokens"
   ]
  },
  {
   "cell_type": "code",
   "execution_count": null,
   "metadata": {
    "collapsed": false
   },
   "outputs": [],
   "source": [
    "len(transcript_tokens)"
   ]
  },
  {
   "cell_type": "markdown",
   "metadata": {},
   "source": [
    "### Frequencies"
   ]
  },
  {
   "cell_type": "markdown",
   "metadata": {},
   "source": [
    "And finally we're ready to count up the frequency of tokens in the text. Below we print just the top 25 most frequent terms. \n",
    "\n",
    "결과적으로 우리는 텍스트에 있는 토큰들의 반복을 셀 수 있는 준비가 되었다. 아래에는 우리가 단지 상위 25 가장 자주 사용되는 용어들을 프린트 한것이다."
   ]
  },
  {
   "cell_type": "code",
   "execution_count": null,
   "metadata": {
    "collapsed": false
   },
   "outputs": [],
   "source": [
    "from nltk.probability import FreqDist\n",
    "\n",
    "# Construct the distribution (it will count the number of occurrances of each unique token)\n",
    "frequency_distribution = FreqDist(transcript_tokens)\n",
    "frequency_distribution.most_common(25)"
   ]
  },
  {
   "cell_type": "markdown",
   "metadata": {},
   "source": [
    "We can see that a very common terms is \"applause\", because the text included a transcription of when the audience applauded during the speech. We might want to remove that term.\n",
    "\n",
    "우리는 \"applause\"라는 매우 일반적인 용어를 볼 수 있다. 왜냐면, 이 텍스트는 스피치중에 관객들이 언제 박수를 쳤는지 표기를 포함하고 있다.\n",
    "우리는 이 용어를 제거하길 원한다."
   ]
  },
  {
   "cell_type": "code",
   "execution_count": null,
   "metadata": {
    "collapsed": false
   },
   "outputs": [],
   "source": [
    "del frequency_distribution[\"applause\"]\n",
    "frequency_distribution.most_common(25)"
   ]
  },
  {
   "cell_type": "markdown",
   "metadata": {},
   "source": [
    "Can you start to see some of the themes of the speech based on the frequency of different words chosen? \n",
    "\n",
    "당신은 몇가지의 다른 단어들을 선택하는 빈도수를 기본으로 스피치를 한 테마를 보는 것을 시작할 수 있나요?\n",
    "\n",
    "It looks like \"work\" and the \"economy\" came up fairly often. Maybe we want to screen the tokens for other economic types terms.\n",
    "\n",
    "\"work\"와 \"economy\"을 얼마나 자주 나오는지와 같다. 우리는 다른 경제적인 종류의 용어들에서 토큰들을 볼수 있기를 원한다."
   ]
  },
  {
   "cell_type": "code",
   "execution_count": null,
   "metadata": {
    "collapsed": false
   },
   "outputs": [],
   "source": [
    "econ_terms = [\"debt\", \"economy\", \"budget\", \"spending\", \"tax\", \"deficit\", \"work\", \"working\", \"workers\", \"workforce\", \"companies\", \"worked\", \"economics\", \"businesses\", \"jobs\"]\n",
    "\n",
    "econ_transcript_tokens = [t for t in transcript_tokens if t in econ_terms]\n",
    "econ_transcript_freq_dist = FreqDist(econ_transcript_tokens)\n",
    "econ_transcript_freq_dist"
   ]
  },
  {
   "cell_type": "markdown",
   "metadata": {},
   "source": [
    "We need a chart! \n",
    "우리는 차트가 필요하다."
   ]
  },
  {
   "cell_type": "code",
   "execution_count": null,
   "metadata": {
    "collapsed": true
   },
   "outputs": [],
   "source": [
    "import pandas as pd\n",
    "import matplotlib\n",
    "import matplotlib.pyplot as plt\n",
    "import numpy as np\n",
    "\n",
    "# This magic function allows you to see the charts directly within the notebook. \n",
    "%matplotlib inline\n",
    "\n",
    "# This command will make the plots more attractive by adopting the commone style of of a different library called ggplot\n",
    "matplotlib.style.use(\"ggplot\")"
   ]
  },
  {
   "cell_type": "markdown",
   "metadata": {},
   "source": [
    "Let's wrangle the data into a format where we can create a Pandas DataFrame and then chart it.\n",
    "\n",
    "자 데이터를 다음 포맷으로 논쟁하자. 우리는 판다스 데이터프레임으로 만들고, 그것을 차트화 하자."
   ]
  },
  {
   "cell_type": "code",
   "execution_count": null,
   "metadata": {
    "collapsed": false
   },
   "outputs": [],
   "source": [
    "# Create a simple list\n",
    "econ_data = []\n",
    "for item in econ_transcript_freq_dist:\n",
    "    econ_data.append([item, econ_transcript_freq_dist[item]])\n",
    "\n",
    "# Use the list to intitlize a pandas dataframe\n",
    "econ_df = pd.DataFrame(econ_data, columns=[\"token\", \"count\"])\n",
    "econ_df = econ_df.sort_values(\"count\")\n",
    "econ_df"
   ]
  },
  {
   "cell_type": "code",
   "execution_count": null,
   "metadata": {
    "collapsed": false
   },
   "outputs": [],
   "source": [
    "axes = econ_df.plot(kind=\"barh\")\n",
    "axes.set_yticklabels(econ_df[\"token\"])"
   ]
  },
  {
   "cell_type": "markdown",
   "metadata": {},
   "source": [
    "Individual tokens or unigrams as they're sometimes called aren't the only thing we can tally.\n",
    "그들이 때때로 개별적인 토근 또는 유니그램이라고 부르는 것은 우리가 집계할 수 있는 유일한 것은 아니다. \n",
    "\n",
    "We can also look at pairs of words (bigrams), or more generally, n-grams.\n",
    "우리는 쌍으로 된 단어들이나 더 일반적으로 n-그램들을 또한 볼수 있다."
   ]
  },
  {
   "cell_type": "code",
   "execution_count": null,
   "metadata": {
    "collapsed": false
   },
   "outputs": [],
   "source": [
    "bigrams = nltk.bigrams(transcript_tokens)\n",
    "bigram_freq_dist = FreqDist(bigrams)\n",
    "bigram_freq_dist.most_common(25)"
   ]
  },
  {
   "cell_type": "markdown",
   "metadata": {},
   "source": [
    "### Stemming\n",
    "The chart above shows that there are are a number of versions of the same basic idea, e.g. \"workers\", \"working\", and \"worked\" that all have the same underlying concept behind them.\n",
    "위의 차트는 동일한 기본 아이디어의 버젼 번호가 있는지 보여주다. 예로 들면, \"workers\" \"working\" \"worked\"의 모두가 그들 뒤에 동일한 기본 컨셉을 가지고 있다. \n",
    "\n",
    "Stemming is a technique that is used remove affixes from a word. \n",
    "형태소 분석은 단어에서 부착물을 제거하는 기술이다.\n",
    "\n",
    "There are different stemming algorithms that can be employed, and several are built in to NLTK. \n",
    "이용될 수 있는 여러가지 형태소분석 알고리즘 있고, NLTK에서 몇가지가 이미 만들어져 있다.\n",
    "\n",
    "We'll use the Porter algorithm. \n",
    "우리는 포터 알고리즘을 사용할 것이다.\n",
    "\n",
    "The advantage of stemming is that it allows for additional aggregation of words that represent a similar concept. \n",
    "형태소분석의 장점은 유사한 개념을 나타내는 추가적인 집합 단어들을 허가한다는 것이다.\n",
    "\n",
    "At the same time, there is a loss of information due to this aggregation, and as you can see below, the stems that are left after the stemming process aren't always easy to read.\n",
    "동시에, 이와 같은 집합들 때문에 정보손실이 있다 너가 하기에서 보듯이, 형태소 처리가 항상 쉽게 읽게 읽을 수 없는 후에 꼭지가 남았다.\n"
   ]
  },
  {
   "cell_type": "code",
   "execution_count": null,
   "metadata": {
    "collapsed": false,
    "scrolled": true
   },
   "outputs": [],
   "source": [
    "porter = nltk.PorterStemmer()\n",
    "econ_transcript_tokens_stemmed = [porter.stem(t) for t in econ_transcript_tokens]\n",
    "econ_transcript_tokens_stemmed"
   ]
  },
  {
   "cell_type": "code",
   "execution_count": null,
   "metadata": {
    "collapsed": false,
    "scrolled": true
   },
   "outputs": [],
   "source": [
    "econ_transcript_stemmed_freq_dist = FreqDist(econ_transcript_tokens_stemmed)\n",
    "econ_transcript_stemmed_freq_dist\n",
    "# Create a simple list\n",
    "econ_data = []\n",
    "for item in econ_transcript_stemmed_freq_dist:\n",
    "    econ_data.append([item, econ_transcript_stemmed_freq_dist[item]])\n",
    "\n",
    "# Use the list to intitlize a pandas dataframe\n",
    "econ_df = pd.DataFrame(econ_data, columns=[\"token\", \"count\"])\n",
    "econ_df = econ_df.sort_values(\"count\")\n",
    "axes = econ_df.plot(kind=\"barh\")\n",
    "axes.set_yticklabels(econ_df[\"token\"])"
   ]
  },
  {
   "cell_type": "markdown",
   "metadata": {},
   "source": [
    "\n",
    "\n",
    "## Sentiment Analysis\n",
    "Sentiment analysis is a general term used to describe how text can be analyzed to infer subjective qualities like positivity, negativity, or other types of emotions like happiness, sadness, or anger. \n",
    "\n",
    "감정분석은 어떻게 텍스트는 주관적인 품질에 따라서 판단하면서 분석하는 일반적인 용어로 사용되었다. 예로, 긍정, 부정 또는 다른 타입의 강점들 행복, 슬픔 또는 화와 같은 것이다. \n",
    "\n",
    "There are many pitfalls to be aware of when you're trying to make something as subjective as human emotion in a quantifiable number. \n",
    "\n",
    "너가 사람들의 감정으로 정량화를 주관적으로 만들려고 할 때 인식하는 많은 함정이 있다. \n",
    "\n",
    "Simple approaches often do not account for even basic linguistic structures like negations (e.g. \"I'm *not* sad today\"). \n",
    "\n",
    "단순한 접근법들은 종종 심지어 부정과 같은 기본적인 언어구조를 고려하지 않는다.\n",
    "\n",
    "Take these results with a grain of salt, but also be aware that there often is *some* signal in all of the ambiguous noise of text.\n",
    "\n",
    "\n",
    "소금의 입자와 같은 결과를 가지고, 텍스트의 모호한 소음의 모든것이 몇 가가지 신호이라는 종종 인식해야 한다. "
   ]
  },
  {
   "cell_type": "markdown",
   "metadata": {},
   "source": [
    "We'll look at sentiment analysis by examining a corpus of reviews written on Yelp. \n",
    "우리는 옙의 리뷰로 쓰여진 코퍼스를 실험된 감성분석을 볼 수 있을 것이다.\n",
    "\n",
    "Yelp has an [academic dataset](https://www.yelp.com/academic_dataset) that it makes available. \n",
    "엡은 아카데미 데이터셋을 가지고 있으며, 이것은 사용 가능하다.\n",
    "\n",
    "It includes information on individual reviews, users, and businesses. \n",
    "개인 리뷰, 사용자, 비즈니스에 관한 정보가 있다.\n",
    "\n",
    "From that large dataset we've sampled down to only the reviews that respond to businesses in the state of Maryland, which is a reasonable number. Here is the [yelp_reviews_md.csv](https://www.dropbox.com/s/oc8dx9qp6xk4245/yelp_reviews_md.csv?dl=0) file. \n",
    "\n",
    "그 커다란 데이터셋에서 우리는 단지 다음 리뷰와 관련된 부분을 샘플을 한다. 메리랜드 주의 비즈니스와 관련된 것이며, 합리적인 숫자로 구성되어 있다. \n",
    "\"yelp_reviews_md.csv\"\n"
   ]
  },
  {
   "cell_type": "code",
   "execution_count": null,
   "metadata": {
    "collapsed": false
   },
   "outputs": [],
   "source": [
    "reviews_df = pd.read_csv(\"Data/yelp_reviews_md.csv\", encoding=\"utf-8\")\n",
    "reviews_df"
   ]
  },
  {
   "cell_type": "code",
   "execution_count": null,
   "metadata": {
    "collapsed": false
   },
   "outputs": [],
   "source": [
    "reviews_df.shape"
   ]
  },
  {
   "cell_type": "markdown",
   "metadata": {},
   "source": [
    "A simple method to pursue sentiment analysis is using various linguistic resources like dictionaries of terms that have been constructed to correspond to various categories of human communication. \n",
    "감성분석을 추구하는 단순한 방법은 다양한 언어 리소스사용하는 것이며, 의사소통의 다양한 카테고리를 대응하기 위해 구성된 용어사전 같은 것이다.  \n",
    "\n",
    "One of most popular linguistic resources for doing this is Linguistic Inquiry and Word Count ([LIWC](http://liwc.wpengine.com/)). \n",
    "이 것을 하기 위해서 가장 인기있는 언어리스소중에 하나는 언어 질문과 단어를 세는 것이다.\n",
    "\n",
    "From that project there are lists of terms that related to sentiment categories like \"Positive Emotion\", \"Negative Emotion\", and \"Anger\" and well as more general types of categories like \"Seeing\", \"Insight\", \"Health/illness\" etc.\n",
    "해당 프로젝트는 긍정적인 감정과 부정적인 감정 그리고, 화난 감성 카테고리와 같은 용어리스트가 있으며, 또한 일반적인 타입의 카테고리인 보는 것, 통찰력, 건강/질병등이 있다.\n",
    "\n",
    "Another useful project with many linguistic resources is the [General Inquirer](http://www.wjh.harvard.edu/~inquirer/).\n",
    "다른 유용한 프로젝트도 언어리소스에 많이 있다. [General Inquirer]\n",
    "\n",
    "Here we've isolated the term lists from LIWC corresponding to [positive](https://www.dropbox.com/s/bo82rjzhcd4jy6g/positive_terms.txt?dl=0) and [negative](https://www.dropbox.com/s/9ecamxu1jbtwd6n/negative_terms.txt?dl=0) terms in two separate files (linked previously in this sentence). \n",
    "여기에서 우리는 LIWC 의 용어중에 단절된 용어리스트인 긍정적인 그리고 부정적인 용어들이 두 가지의 구분된 파일형태로 되어 있다\n",
    "\n",
    "Note that these term lists have been *stemmed* which means we will also need to stem our input text in order to match it against these dictionaries.\n",
    "\n",
    "이와 같은 용어 리스트들은 줄기화해햐 하는데 이 의미는 우리는 이와같은 사전들과 맞추기 위해서 입력 텍스트들을 줄기화하해야 합니다."
   ]
  },
  {
   "cell_type": "code",
   "execution_count": null,
   "metadata": {
    "collapsed": false
   },
   "outputs": [],
   "source": [
    "positive_terms = []\n",
    "f = open('Data/positive_terms.txt', \"r\")\n",
    "positive_terms = f.read().splitlines()\n",
    "f.close()\n",
    "\n",
    "negative_terms = []\n",
    "f = open('Data/negative_terms.txt', \"r\")\n",
    "negative_terms = f.read().splitlines()\n",
    "f.close()"
   ]
  },
  {
   "cell_type": "code",
   "execution_count": null,
   "metadata": {
    "collapsed": false,
    "scrolled": true
   },
   "outputs": [],
   "source": [
    "print positive_terms\n",
    "print \"\"\n",
    "print negative_terms"
   ]
  },
  {
   "cell_type": "markdown",
   "metadata": {},
   "source": [
    "The hypothesis that we're going to test with sentiment analysis is that reviews with a higher overall star rating should have less negative sentiment than reviews with a lower overall star rating. \n",
    "우리가 감성분석과 함께 테스트하려고 하는 가설은 높은 전체적인 스타 등급의 리뷰들은 낮은 전체적인 스타 등급의 리뷰에 대비해서 좀 더 작은 부정적인 감정을 가져야 한다.\n",
    "\n",
    "And conversely, reviews with a higher overall star rating should have more positive sentiment than reviews with a lower overall star rating.\n",
    "반대로, 높은 전체적인 스타 등급의 리뷰들은 낮은 전체적인 스타 등급의 리뷰에 대비해서 좀 더 긍정적인 감정을 가져야 한다.\n",
    "\n",
    "First we need to measure a positivity and negativity score for each review. \n",
    "먼저, 우리는 각 리뷰들로 부터 긍정과 부정의 스코어를 측정할 수 있어야 한다.\n",
    "\n",
    "To do that we're going to count the rate of use of terms from a review that come from the positive or negative dictionaries, respectively.\n",
    "\n",
    "우리는 각각의 긍정 또는 부정의 사전들로 부터 리뷰들이 사용되는 용어들의 숫자를 셀 수 있어야 한다."
   ]
  },
  {
   "cell_type": "code",
   "execution_count": null,
   "metadata": {
    "collapsed": false
   },
   "outputs": [],
   "source": [
    "# This function will take a string and lowercase it, remove punctuations and spaces, and then tokentize and stem those tokens\n",
    "def normalize_review_text(text):\n",
    "    text = text.lower()\n",
    "    text = remove_punctuation(text)\n",
    "    text = \" \".join(text.split())\n",
    "    text_tokens = tokenizer.tokenize(text)\n",
    "    text_tokens = [porter.stem(w) for w in text_tokens if w not in stopword_list]\n",
    "    return text_tokens\n",
    "\n",
    "# Apply the function above to the text column\n",
    "reviews_df[\"text\"] = reviews_df[\"text\"].apply(normalize_review_text)\n",
    "reviews_df"
   ]
  },
  {
   "cell_type": "code",
   "execution_count": null,
   "metadata": {
    "collapsed": false
   },
   "outputs": [],
   "source": [
    "def calculate_positivity(text):\n",
    "    num_tokens = len(text)\n",
    "    num_positive_tokens = 0\n",
    "    for t in text:\n",
    "        if t in positive_terms:\n",
    "            num_positive_tokens = num_positive_tokens + 1\n",
    "    # The positivity score is the fraction of tokens that were found in the positive dictionary\n",
    "    return float(num_positive_tokens) / float(num_tokens)\n",
    "\n",
    "reviews_df[\"positivity_score\"] = reviews_df[\"text\"].apply(calculate_positivity)\n",
    "\n",
    "def calculate_negativity(text):\n",
    "    num_tokens = len(text)\n",
    "    num_negative_tokens = 0\n",
    "    for t in text:\n",
    "        if t in negative_terms:\n",
    "            num_negative_tokens = num_negative_tokens + 1\n",
    "    # The positivity score is the fraction of tokens that were found in the positive dictionary\n",
    "    return float(num_negative_tokens) / float(num_tokens)\n",
    "\n",
    "reviews_df[\"negativity_score\"] = reviews_df[\"text\"].apply(calculate_negativity)\n",
    "reviews_df"
   ]
  },
  {
   "cell_type": "markdown",
   "metadata": {},
   "source": [
    "Based on our hypothesis we should see a positive correlation between `positivity_score` and `stars` and a negative correlation between `negativity_score` and `stars`. Let's see:"
   ]
  },
  {
   "cell_type": "code",
   "execution_count": null,
   "metadata": {
    "collapsed": false
   },
   "outputs": [],
   "source": [
    "import scipy.stats as sp\n",
    "\n",
    "pos_score_stars_corr = sp.pearsonr(reviews_df[\"stars\"].values, reviews_df[\"positivity_score\"].values)\n",
    "pos_score_stars_corr\n",
    "print \"Between the positivity score and the star rating there is a correlation coefficient of %.4f which has a p-value of %.4E \" % (pos_score_stars_corr[0], pos_score_stars_corr[1])\n",
    "\n",
    "print \"\"\n",
    "\n",
    "neg_score_stars_corr = sp.pearsonr(reviews_df[\"stars\"].values, reviews_df[\"negativity_score\"].values)\n",
    "neg_score_stars_corr\n",
    "print \"Between the negativity score and the star rating there is a correlation coefficient of %.4f which has a p-value of %.4E \" % (neg_score_stars_corr[0], neg_score_stars_corr[1])"
   ]
  },
  {
   "cell_type": "markdown",
   "metadata": {},
   "source": [
    "Based on our (albeit very simple) sentiment analysis we've shown that the sentiments we've computed relate to the actual star ratings of reviews quite well - more positive reviews have higher star ratings, more negative reviews have lower star ratings.  \n",
    "\n",
    "우리의 감정분석을 기본으로 하여서 우리는 우리가 계산한 감정들을 보여준다. 실제적인 스타 등급 리뷰들은 매우 잘 되었으며, 높은 스타 등급은 좀 더 긍정적인 리뷰를 가지며, 낮은 스타 등급의 좀 부정적인 리뷰를 가진다. \n",
    "\n",
    "How could we use this in an investigation? \n",
    "우리는 어떻게 이것은 수사에 사용할 수 있을까?"
   ]
  },
  {
   "cell_type": "code",
   "execution_count": null,
   "metadata": {
    "collapsed": true
   },
   "outputs": [],
   "source": []
  }
 ],
 "metadata": {
  "kernelspec": {
   "display_name": "Python 2",
   "language": "python",
   "name": "python2"
  },
  "language_info": {
   "codemirror_mode": {
    "name": "ipython",
    "version": 2
   },
   "file_extension": ".py",
   "mimetype": "text/x-python",
   "name": "python",
   "nbconvert_exporter": "python",
   "pygments_lexer": "ipython2",
   "version": "2.7.11"
  }
 },
 "nbformat": 4,
 "nbformat_minor": 0
}
